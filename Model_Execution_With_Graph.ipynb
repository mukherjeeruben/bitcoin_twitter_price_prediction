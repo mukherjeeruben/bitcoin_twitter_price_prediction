{
  "cells": [
    {
      "cell_type": "code",
      "execution_count": null,
      "id": "cfda9d39",
      "metadata": {
        "id": "cfda9d39"
      },
      "outputs": [],
      "source": [
        "#import Libraries\n",
        "import pandas as pd\n",
        "import numpy as np\n",
        "import matplotlib.pyplot as plt\n",
        "import seaborn as sns\n",
        "import os\n",
        "import math\n",
        "import seaborn as sns\n",
        "import datetime as dt\n",
        "from datetime import datetime\n",
        "sns.set_style(\"whitegrid\")\n",
        "from pandas.plotting import autocorrelation_plot\n",
        "plt.style.use(\"ggplot\")\n",
        "%matplotlib inline"
      ]
    },
    {
      "cell_type": "code",
      "execution_count": null,
      "id": "h0ZKouR7rfbQ",
      "metadata": {
        "colab": {
          "base_uri": "https://localhost:8080/"
        },
        "id": "h0ZKouR7rfbQ",
        "outputId": "e1317269-c7e9-424a-e890-8fd224aecd57"
      },
      "outputs": [
        {
          "name": "stdout",
          "output_type": "stream",
          "text": [
            "Mounted at /content/drive/\n"
          ]
        }
      ],
      "source": [
        "from google.colab import drive\n",
        "drive.mount('/content/drive/')"
      ]
    },
    {
      "cell_type": "code",
      "execution_count": null,
      "id": "hbASAYVKuNlu",
      "metadata": {
        "id": "hbASAYVKuNlu"
      },
      "outputs": [],
      "source": [
        "path = '/content/drive/MyDrive/CA683/dataset/'"
      ]
    },
    {
      "cell_type": "code",
      "execution_count": null,
      "id": "QzuxmoVsKUjW",
      "metadata": {
        "id": "QzuxmoVsKUjW"
      },
      "outputs": [],
      "source": [
        "price_df = pd.read_csv(path + \"bitcoin_price_usd.csv\")"
      ]
    },
    {
      "cell_type": "code",
      "execution_count": null,
      "id": "oCBjDSahKfCH",
      "metadata": {
        "id": "oCBjDSahKfCH"
      },
      "outputs": [],
      "source": [
        "tweet_df = pd.read_csv(path + \"tweet_final_sentiment.csv\")"
      ]
    },
    {
      "cell_type": "code",
      "execution_count": null,
      "id": "ixZ_ShUR02KT",
      "metadata": {
        "colab": {
          "base_uri": "https://localhost:8080/",
          "height": 363
        },
        "id": "ixZ_ShUR02KT",
        "outputId": "2078b52c-ec1a-4b9b-fa03-567c9d5eeafc"
      },
      "outputs": [
        {
          "data": {
            "text/html": [
              "\n",
              "  <div id=\"df-30ddc04b-0c0e-43fb-b753-80f0dac1aa8b\">\n",
              "    <div class=\"colab-df-container\">\n",
              "      <div>\n",
              "<style scoped>\n",
              "    .dataframe tbody tr th:only-of-type {\n",
              "        vertical-align: middle;\n",
              "    }\n",
              "\n",
              "    .dataframe tbody tr th {\n",
              "        vertical-align: top;\n",
              "    }\n",
              "\n",
              "    .dataframe thead th {\n",
              "        text-align: right;\n",
              "    }\n",
              "</style>\n",
              "<table border=\"1\" class=\"dataframe\">\n",
              "  <thead>\n",
              "    <tr style=\"text-align: right;\">\n",
              "      <th></th>\n",
              "      <th>date</th>\n",
              "      <th>close_price</th>\n",
              "    </tr>\n",
              "  </thead>\n",
              "  <tbody>\n",
              "    <tr>\n",
              "      <th>0</th>\n",
              "      <td>2012-01-01 00:00:00</td>\n",
              "      <td>4.58</td>\n",
              "    </tr>\n",
              "    <tr>\n",
              "      <th>1</th>\n",
              "      <td>2012-01-01 01:00:00</td>\n",
              "      <td>4.58</td>\n",
              "    </tr>\n",
              "    <tr>\n",
              "      <th>2</th>\n",
              "      <td>2012-01-01 02:00:00</td>\n",
              "      <td>4.58</td>\n",
              "    </tr>\n",
              "    <tr>\n",
              "      <th>3</th>\n",
              "      <td>2012-01-01 03:00:00</td>\n",
              "      <td>4.58</td>\n",
              "    </tr>\n",
              "    <tr>\n",
              "      <th>4</th>\n",
              "      <td>2012-01-01 04:00:00</td>\n",
              "      <td>4.58</td>\n",
              "    </tr>\n",
              "    <tr>\n",
              "      <th>5</th>\n",
              "      <td>2012-01-01 05:00:00</td>\n",
              "      <td>4.58</td>\n",
              "    </tr>\n",
              "    <tr>\n",
              "      <th>6</th>\n",
              "      <td>2012-01-01 06:00:00</td>\n",
              "      <td>4.58</td>\n",
              "    </tr>\n",
              "    <tr>\n",
              "      <th>7</th>\n",
              "      <td>2012-01-01 07:00:00</td>\n",
              "      <td>4.58</td>\n",
              "    </tr>\n",
              "    <tr>\n",
              "      <th>8</th>\n",
              "      <td>2012-01-01 08:00:00</td>\n",
              "      <td>4.58</td>\n",
              "    </tr>\n",
              "    <tr>\n",
              "      <th>9</th>\n",
              "      <td>2012-01-01 09:00:00</td>\n",
              "      <td>4.58</td>\n",
              "    </tr>\n",
              "  </tbody>\n",
              "</table>\n",
              "</div>\n",
              "      <button class=\"colab-df-convert\" onclick=\"convertToInteractive('df-30ddc04b-0c0e-43fb-b753-80f0dac1aa8b')\"\n",
              "              title=\"Convert this dataframe to an interactive table.\"\n",
              "              style=\"display:none;\">\n",
              "        \n",
              "  <svg xmlns=\"http://www.w3.org/2000/svg\" height=\"24px\"viewBox=\"0 0 24 24\"\n",
              "       width=\"24px\">\n",
              "    <path d=\"M0 0h24v24H0V0z\" fill=\"none\"/>\n",
              "    <path d=\"M18.56 5.44l.94 2.06.94-2.06 2.06-.94-2.06-.94-.94-2.06-.94 2.06-2.06.94zm-11 1L8.5 8.5l.94-2.06 2.06-.94-2.06-.94L8.5 2.5l-.94 2.06-2.06.94zm10 10l.94 2.06.94-2.06 2.06-.94-2.06-.94-.94-2.06-.94 2.06-2.06.94z\"/><path d=\"M17.41 7.96l-1.37-1.37c-.4-.4-.92-.59-1.43-.59-.52 0-1.04.2-1.43.59L10.3 9.45l-7.72 7.72c-.78.78-.78 2.05 0 2.83L4 21.41c.39.39.9.59 1.41.59.51 0 1.02-.2 1.41-.59l7.78-7.78 2.81-2.81c.8-.78.8-2.07 0-2.86zM5.41 20L4 18.59l7.72-7.72 1.47 1.35L5.41 20z\"/>\n",
              "  </svg>\n",
              "      </button>\n",
              "      \n",
              "  <style>\n",
              "    .colab-df-container {\n",
              "      display:flex;\n",
              "      flex-wrap:wrap;\n",
              "      gap: 12px;\n",
              "    }\n",
              "\n",
              "    .colab-df-convert {\n",
              "      background-color: #E8F0FE;\n",
              "      border: none;\n",
              "      border-radius: 50%;\n",
              "      cursor: pointer;\n",
              "      display: none;\n",
              "      fill: #1967D2;\n",
              "      height: 32px;\n",
              "      padding: 0 0 0 0;\n",
              "      width: 32px;\n",
              "    }\n",
              "\n",
              "    .colab-df-convert:hover {\n",
              "      background-color: #E2EBFA;\n",
              "      box-shadow: 0px 1px 2px rgba(60, 64, 67, 0.3), 0px 1px 3px 1px rgba(60, 64, 67, 0.15);\n",
              "      fill: #174EA6;\n",
              "    }\n",
              "\n",
              "    [theme=dark] .colab-df-convert {\n",
              "      background-color: #3B4455;\n",
              "      fill: #D2E3FC;\n",
              "    }\n",
              "\n",
              "    [theme=dark] .colab-df-convert:hover {\n",
              "      background-color: #434B5C;\n",
              "      box-shadow: 0px 1px 3px 1px rgba(0, 0, 0, 0.15);\n",
              "      filter: drop-shadow(0px 1px 2px rgba(0, 0, 0, 0.3));\n",
              "      fill: #FFFFFF;\n",
              "    }\n",
              "  </style>\n",
              "\n",
              "      <script>\n",
              "        const buttonEl =\n",
              "          document.querySelector('#df-30ddc04b-0c0e-43fb-b753-80f0dac1aa8b button.colab-df-convert');\n",
              "        buttonEl.style.display =\n",
              "          google.colab.kernel.accessAllowed ? 'block' : 'none';\n",
              "\n",
              "        async function convertToInteractive(key) {\n",
              "          const element = document.querySelector('#df-30ddc04b-0c0e-43fb-b753-80f0dac1aa8b');\n",
              "          const dataTable =\n",
              "            await google.colab.kernel.invokeFunction('convertToInteractive',\n",
              "                                                     [key], {});\n",
              "          if (!dataTable) return;\n",
              "\n",
              "          const docLinkHtml = 'Like what you see? Visit the ' +\n",
              "            '<a target=\"_blank\" href=https://colab.research.google.com/notebooks/data_table.ipynb>data table notebook</a>'\n",
              "            + ' to learn more about interactive tables.';\n",
              "          element.innerHTML = '';\n",
              "          dataTable['output_type'] = 'display_data';\n",
              "          await google.colab.output.renderOutput(dataTable, element);\n",
              "          const docLink = document.createElement('div');\n",
              "          docLink.innerHTML = docLinkHtml;\n",
              "          element.appendChild(docLink);\n",
              "        }\n",
              "      </script>\n",
              "    </div>\n",
              "  </div>\n",
              "  "
            ],
            "text/plain": [
              "                  date  close_price\n",
              "0  2012-01-01 00:00:00         4.58\n",
              "1  2012-01-01 01:00:00         4.58\n",
              "2  2012-01-01 02:00:00         4.58\n",
              "3  2012-01-01 03:00:00         4.58\n",
              "4  2012-01-01 04:00:00         4.58\n",
              "5  2012-01-01 05:00:00         4.58\n",
              "6  2012-01-01 06:00:00         4.58\n",
              "7  2012-01-01 07:00:00         4.58\n",
              "8  2012-01-01 08:00:00         4.58\n",
              "9  2012-01-01 09:00:00         4.58"
            ]
          },
          "execution_count": 24,
          "metadata": {},
          "output_type": "execute_result"
        }
      ],
      "source": [
        "price_df.head(10)"
      ]
    },
    {
      "cell_type": "code",
      "execution_count": null,
      "id": "O01A_Hm1TI43",
      "metadata": {
        "colab": {
          "base_uri": "https://localhost:8080/",
          "height": 206
        },
        "id": "O01A_Hm1TI43",
        "outputId": "cbd62f86-ba03-4eb5-f8bf-4a8041110fec"
      },
      "outputs": [
        {
          "data": {
            "text/html": [
              "\n",
              "  <div id=\"df-78750d34-70a8-42d4-a127-ff47a3abd11e\">\n",
              "    <div class=\"colab-df-container\">\n",
              "      <div>\n",
              "<style scoped>\n",
              "    .dataframe tbody tr th:only-of-type {\n",
              "        vertical-align: middle;\n",
              "    }\n",
              "\n",
              "    .dataframe tbody tr th {\n",
              "        vertical-align: top;\n",
              "    }\n",
              "\n",
              "    .dataframe thead th {\n",
              "        text-align: right;\n",
              "    }\n",
              "</style>\n",
              "<table border=\"1\" class=\"dataframe\">\n",
              "  <thead>\n",
              "    <tr style=\"text-align: right;\">\n",
              "      <th></th>\n",
              "      <th>Unnamed: 0</th>\n",
              "      <th>Unnamed: 0.1</th>\n",
              "      <th>timestamp</th>\n",
              "      <th>sentiment</th>\n",
              "    </tr>\n",
              "  </thead>\n",
              "  <tbody>\n",
              "    <tr>\n",
              "      <th>0</th>\n",
              "      <td>26280</td>\n",
              "      <td>26280</td>\n",
              "      <td>2012-01-01 01:00:00</td>\n",
              "      <td>0.278788</td>\n",
              "    </tr>\n",
              "    <tr>\n",
              "      <th>1</th>\n",
              "      <td>26281</td>\n",
              "      <td>26281</td>\n",
              "      <td>2012-01-01 02:00:00</td>\n",
              "      <td>0.000000</td>\n",
              "    </tr>\n",
              "    <tr>\n",
              "      <th>2</th>\n",
              "      <td>26282</td>\n",
              "      <td>26282</td>\n",
              "      <td>2012-01-01 03:00:00</td>\n",
              "      <td>0.000000</td>\n",
              "    </tr>\n",
              "    <tr>\n",
              "      <th>3</th>\n",
              "      <td>26283</td>\n",
              "      <td>26283</td>\n",
              "      <td>2012-01-01 04:00:00</td>\n",
              "      <td>0.000000</td>\n",
              "    </tr>\n",
              "    <tr>\n",
              "      <th>4</th>\n",
              "      <td>26284</td>\n",
              "      <td>26284</td>\n",
              "      <td>2012-01-01 05:00:00</td>\n",
              "      <td>0.000000</td>\n",
              "    </tr>\n",
              "  </tbody>\n",
              "</table>\n",
              "</div>\n",
              "      <button class=\"colab-df-convert\" onclick=\"convertToInteractive('df-78750d34-70a8-42d4-a127-ff47a3abd11e')\"\n",
              "              title=\"Convert this dataframe to an interactive table.\"\n",
              "              style=\"display:none;\">\n",
              "        \n",
              "  <svg xmlns=\"http://www.w3.org/2000/svg\" height=\"24px\"viewBox=\"0 0 24 24\"\n",
              "       width=\"24px\">\n",
              "    <path d=\"M0 0h24v24H0V0z\" fill=\"none\"/>\n",
              "    <path d=\"M18.56 5.44l.94 2.06.94-2.06 2.06-.94-2.06-.94-.94-2.06-.94 2.06-2.06.94zm-11 1L8.5 8.5l.94-2.06 2.06-.94-2.06-.94L8.5 2.5l-.94 2.06-2.06.94zm10 10l.94 2.06.94-2.06 2.06-.94-2.06-.94-.94-2.06-.94 2.06-2.06.94z\"/><path d=\"M17.41 7.96l-1.37-1.37c-.4-.4-.92-.59-1.43-.59-.52 0-1.04.2-1.43.59L10.3 9.45l-7.72 7.72c-.78.78-.78 2.05 0 2.83L4 21.41c.39.39.9.59 1.41.59.51 0 1.02-.2 1.41-.59l7.78-7.78 2.81-2.81c.8-.78.8-2.07 0-2.86zM5.41 20L4 18.59l7.72-7.72 1.47 1.35L5.41 20z\"/>\n",
              "  </svg>\n",
              "      </button>\n",
              "      \n",
              "  <style>\n",
              "    .colab-df-container {\n",
              "      display:flex;\n",
              "      flex-wrap:wrap;\n",
              "      gap: 12px;\n",
              "    }\n",
              "\n",
              "    .colab-df-convert {\n",
              "      background-color: #E8F0FE;\n",
              "      border: none;\n",
              "      border-radius: 50%;\n",
              "      cursor: pointer;\n",
              "      display: none;\n",
              "      fill: #1967D2;\n",
              "      height: 32px;\n",
              "      padding: 0 0 0 0;\n",
              "      width: 32px;\n",
              "    }\n",
              "\n",
              "    .colab-df-convert:hover {\n",
              "      background-color: #E2EBFA;\n",
              "      box-shadow: 0px 1px 2px rgba(60, 64, 67, 0.3), 0px 1px 3px 1px rgba(60, 64, 67, 0.15);\n",
              "      fill: #174EA6;\n",
              "    }\n",
              "\n",
              "    [theme=dark] .colab-df-convert {\n",
              "      background-color: #3B4455;\n",
              "      fill: #D2E3FC;\n",
              "    }\n",
              "\n",
              "    [theme=dark] .colab-df-convert:hover {\n",
              "      background-color: #434B5C;\n",
              "      box-shadow: 0px 1px 3px 1px rgba(0, 0, 0, 0.15);\n",
              "      filter: drop-shadow(0px 1px 2px rgba(0, 0, 0, 0.3));\n",
              "      fill: #FFFFFF;\n",
              "    }\n",
              "  </style>\n",
              "\n",
              "      <script>\n",
              "        const buttonEl =\n",
              "          document.querySelector('#df-78750d34-70a8-42d4-a127-ff47a3abd11e button.colab-df-convert');\n",
              "        buttonEl.style.display =\n",
              "          google.colab.kernel.accessAllowed ? 'block' : 'none';\n",
              "\n",
              "        async function convertToInteractive(key) {\n",
              "          const element = document.querySelector('#df-78750d34-70a8-42d4-a127-ff47a3abd11e');\n",
              "          const dataTable =\n",
              "            await google.colab.kernel.invokeFunction('convertToInteractive',\n",
              "                                                     [key], {});\n",
              "          if (!dataTable) return;\n",
              "\n",
              "          const docLinkHtml = 'Like what you see? Visit the ' +\n",
              "            '<a target=\"_blank\" href=https://colab.research.google.com/notebooks/data_table.ipynb>data table notebook</a>'\n",
              "            + ' to learn more about interactive tables.';\n",
              "          element.innerHTML = '';\n",
              "          dataTable['output_type'] = 'display_data';\n",
              "          await google.colab.output.renderOutput(dataTable, element);\n",
              "          const docLink = document.createElement('div');\n",
              "          docLink.innerHTML = docLinkHtml;\n",
              "          element.appendChild(docLink);\n",
              "        }\n",
              "      </script>\n",
              "    </div>\n",
              "  </div>\n",
              "  "
            ],
            "text/plain": [
              "   Unnamed: 0  Unnamed: 0.1            timestamp  sentiment\n",
              "0       26280         26280  2012-01-01 01:00:00   0.278788\n",
              "1       26281         26281  2012-01-01 02:00:00   0.000000\n",
              "2       26282         26282  2012-01-01 03:00:00   0.000000\n",
              "3       26283         26283  2012-01-01 04:00:00   0.000000\n",
              "4       26284         26284  2012-01-01 05:00:00   0.000000"
            ]
          },
          "execution_count": 25,
          "metadata": {},
          "output_type": "execute_result"
        }
      ],
      "source": [
        "tweet_df.head(5)"
      ]
    },
    {
      "cell_type": "code",
      "execution_count": null,
      "id": "k1f0lv_u023r",
      "metadata": {
        "colab": {
          "base_uri": "https://localhost:8080/",
          "height": 206
        },
        "id": "k1f0lv_u023r",
        "outputId": "fecab7a8-55cb-4125-dbc6-4d8b31530e07"
      },
      "outputs": [
        {
          "data": {
            "text/html": [
              "\n",
              "  <div id=\"df-58fcbe40-8c95-41db-bd09-6db5ebe46e4c\">\n",
              "    <div class=\"colab-df-container\">\n",
              "      <div>\n",
              "<style scoped>\n",
              "    .dataframe tbody tr th:only-of-type {\n",
              "        vertical-align: middle;\n",
              "    }\n",
              "\n",
              "    .dataframe tbody tr th {\n",
              "        vertical-align: top;\n",
              "    }\n",
              "\n",
              "    .dataframe thead th {\n",
              "        text-align: right;\n",
              "    }\n",
              "</style>\n",
              "<table border=\"1\" class=\"dataframe\">\n",
              "  <thead>\n",
              "    <tr style=\"text-align: right;\">\n",
              "      <th></th>\n",
              "      <th>Unnamed: 0</th>\n",
              "      <th>Unnamed: 0.1</th>\n",
              "      <th>timestamp</th>\n",
              "      <th>sentiment</th>\n",
              "    </tr>\n",
              "  </thead>\n",
              "  <tbody>\n",
              "    <tr>\n",
              "      <th>69331</th>\n",
              "      <td>8011</td>\n",
              "      <td>8011</td>\n",
              "      <td>2019-11-30 20:00:00</td>\n",
              "      <td>0.0</td>\n",
              "    </tr>\n",
              "    <tr>\n",
              "      <th>69332</th>\n",
              "      <td>8012</td>\n",
              "      <td>8012</td>\n",
              "      <td>2019-11-30 21:00:00</td>\n",
              "      <td>0.0</td>\n",
              "    </tr>\n",
              "    <tr>\n",
              "      <th>69333</th>\n",
              "      <td>8013</td>\n",
              "      <td>8013</td>\n",
              "      <td>2019-11-30 22:00:00</td>\n",
              "      <td>0.0</td>\n",
              "    </tr>\n",
              "    <tr>\n",
              "      <th>69334</th>\n",
              "      <td>8014</td>\n",
              "      <td>8014</td>\n",
              "      <td>2019-11-30 23:00:00</td>\n",
              "      <td>0.0</td>\n",
              "    </tr>\n",
              "    <tr>\n",
              "      <th>69335</th>\n",
              "      <td>8015</td>\n",
              "      <td>8015</td>\n",
              "      <td>2019-11-30 23:59:59</td>\n",
              "      <td>0.0</td>\n",
              "    </tr>\n",
              "  </tbody>\n",
              "</table>\n",
              "</div>\n",
              "      <button class=\"colab-df-convert\" onclick=\"convertToInteractive('df-58fcbe40-8c95-41db-bd09-6db5ebe46e4c')\"\n",
              "              title=\"Convert this dataframe to an interactive table.\"\n",
              "              style=\"display:none;\">\n",
              "        \n",
              "  <svg xmlns=\"http://www.w3.org/2000/svg\" height=\"24px\"viewBox=\"0 0 24 24\"\n",
              "       width=\"24px\">\n",
              "    <path d=\"M0 0h24v24H0V0z\" fill=\"none\"/>\n",
              "    <path d=\"M18.56 5.44l.94 2.06.94-2.06 2.06-.94-2.06-.94-.94-2.06-.94 2.06-2.06.94zm-11 1L8.5 8.5l.94-2.06 2.06-.94-2.06-.94L8.5 2.5l-.94 2.06-2.06.94zm10 10l.94 2.06.94-2.06 2.06-.94-2.06-.94-.94-2.06-.94 2.06-2.06.94z\"/><path d=\"M17.41 7.96l-1.37-1.37c-.4-.4-.92-.59-1.43-.59-.52 0-1.04.2-1.43.59L10.3 9.45l-7.72 7.72c-.78.78-.78 2.05 0 2.83L4 21.41c.39.39.9.59 1.41.59.51 0 1.02-.2 1.41-.59l7.78-7.78 2.81-2.81c.8-.78.8-2.07 0-2.86zM5.41 20L4 18.59l7.72-7.72 1.47 1.35L5.41 20z\"/>\n",
              "  </svg>\n",
              "      </button>\n",
              "      \n",
              "  <style>\n",
              "    .colab-df-container {\n",
              "      display:flex;\n",
              "      flex-wrap:wrap;\n",
              "      gap: 12px;\n",
              "    }\n",
              "\n",
              "    .colab-df-convert {\n",
              "      background-color: #E8F0FE;\n",
              "      border: none;\n",
              "      border-radius: 50%;\n",
              "      cursor: pointer;\n",
              "      display: none;\n",
              "      fill: #1967D2;\n",
              "      height: 32px;\n",
              "      padding: 0 0 0 0;\n",
              "      width: 32px;\n",
              "    }\n",
              "\n",
              "    .colab-df-convert:hover {\n",
              "      background-color: #E2EBFA;\n",
              "      box-shadow: 0px 1px 2px rgba(60, 64, 67, 0.3), 0px 1px 3px 1px rgba(60, 64, 67, 0.15);\n",
              "      fill: #174EA6;\n",
              "    }\n",
              "\n",
              "    [theme=dark] .colab-df-convert {\n",
              "      background-color: #3B4455;\n",
              "      fill: #D2E3FC;\n",
              "    }\n",
              "\n",
              "    [theme=dark] .colab-df-convert:hover {\n",
              "      background-color: #434B5C;\n",
              "      box-shadow: 0px 1px 3px 1px rgba(0, 0, 0, 0.15);\n",
              "      filter: drop-shadow(0px 1px 2px rgba(0, 0, 0, 0.3));\n",
              "      fill: #FFFFFF;\n",
              "    }\n",
              "  </style>\n",
              "\n",
              "      <script>\n",
              "        const buttonEl =\n",
              "          document.querySelector('#df-58fcbe40-8c95-41db-bd09-6db5ebe46e4c button.colab-df-convert');\n",
              "        buttonEl.style.display =\n",
              "          google.colab.kernel.accessAllowed ? 'block' : 'none';\n",
              "\n",
              "        async function convertToInteractive(key) {\n",
              "          const element = document.querySelector('#df-58fcbe40-8c95-41db-bd09-6db5ebe46e4c');\n",
              "          const dataTable =\n",
              "            await google.colab.kernel.invokeFunction('convertToInteractive',\n",
              "                                                     [key], {});\n",
              "          if (!dataTable) return;\n",
              "\n",
              "          const docLinkHtml = 'Like what you see? Visit the ' +\n",
              "            '<a target=\"_blank\" href=https://colab.research.google.com/notebooks/data_table.ipynb>data table notebook</a>'\n",
              "            + ' to learn more about interactive tables.';\n",
              "          element.innerHTML = '';\n",
              "          dataTable['output_type'] = 'display_data';\n",
              "          await google.colab.output.renderOutput(dataTable, element);\n",
              "          const docLink = document.createElement('div');\n",
              "          docLink.innerHTML = docLinkHtml;\n",
              "          element.appendChild(docLink);\n",
              "        }\n",
              "      </script>\n",
              "    </div>\n",
              "  </div>\n",
              "  "
            ],
            "text/plain": [
              "       Unnamed: 0  Unnamed: 0.1            timestamp  sentiment\n",
              "69331        8011          8011  2019-11-30 20:00:00        0.0\n",
              "69332        8012          8012  2019-11-30 21:00:00        0.0\n",
              "69333        8013          8013  2019-11-30 22:00:00        0.0\n",
              "69334        8014          8014  2019-11-30 23:00:00        0.0\n",
              "69335        8015          8015  2019-11-30 23:59:59        0.0"
            ]
          },
          "execution_count": 26,
          "metadata": {},
          "output_type": "execute_result"
        }
      ],
      "source": [
        "tweet_df.tail(5)"
      ]
    },
    {
      "cell_type": "code",
      "execution_count": null,
      "id": "fCTGDDlQK_4y",
      "metadata": {
        "colab": {
          "base_uri": "https://localhost:8080/",
          "height": 206
        },
        "id": "fCTGDDlQK_4y",
        "outputId": "df62baaa-f82e-4e73-d7b0-94a396bd9c68"
      },
      "outputs": [
        {
          "data": {
            "text/html": [
              "\n",
              "  <div id=\"df-8a538dcd-797b-4509-bd01-577bbcc3f257\">\n",
              "    <div class=\"colab-df-container\">\n",
              "      <div>\n",
              "<style scoped>\n",
              "    .dataframe tbody tr th:only-of-type {\n",
              "        vertical-align: middle;\n",
              "    }\n",
              "\n",
              "    .dataframe tbody tr th {\n",
              "        vertical-align: top;\n",
              "    }\n",
              "\n",
              "    .dataframe thead th {\n",
              "        text-align: right;\n",
              "    }\n",
              "</style>\n",
              "<table border=\"1\" class=\"dataframe\">\n",
              "  <thead>\n",
              "    <tr style=\"text-align: right;\">\n",
              "      <th></th>\n",
              "      <th>date</th>\n",
              "      <th>close_price</th>\n",
              "    </tr>\n",
              "  </thead>\n",
              "  <tbody>\n",
              "    <tr>\n",
              "      <th>78775</th>\n",
              "      <td>2020-12-30 18:52:00</td>\n",
              "      <td>28372.92</td>\n",
              "    </tr>\n",
              "    <tr>\n",
              "      <th>78776</th>\n",
              "      <td>2020-12-30 19:52:00</td>\n",
              "      <td>28718.05</td>\n",
              "    </tr>\n",
              "    <tr>\n",
              "      <th>78777</th>\n",
              "      <td>2020-12-30 20:52:00</td>\n",
              "      <td>28798.95</td>\n",
              "    </tr>\n",
              "    <tr>\n",
              "      <th>78778</th>\n",
              "      <td>2020-12-30 21:52:00</td>\n",
              "      <td>28842.93</td>\n",
              "    </tr>\n",
              "    <tr>\n",
              "      <th>78779</th>\n",
              "      <td>2020-12-30 22:52:00</td>\n",
              "      <td>28838.76</td>\n",
              "    </tr>\n",
              "  </tbody>\n",
              "</table>\n",
              "</div>\n",
              "      <button class=\"colab-df-convert\" onclick=\"convertToInteractive('df-8a538dcd-797b-4509-bd01-577bbcc3f257')\"\n",
              "              title=\"Convert this dataframe to an interactive table.\"\n",
              "              style=\"display:none;\">\n",
              "        \n",
              "  <svg xmlns=\"http://www.w3.org/2000/svg\" height=\"24px\"viewBox=\"0 0 24 24\"\n",
              "       width=\"24px\">\n",
              "    <path d=\"M0 0h24v24H0V0z\" fill=\"none\"/>\n",
              "    <path d=\"M18.56 5.44l.94 2.06.94-2.06 2.06-.94-2.06-.94-.94-2.06-.94 2.06-2.06.94zm-11 1L8.5 8.5l.94-2.06 2.06-.94-2.06-.94L8.5 2.5l-.94 2.06-2.06.94zm10 10l.94 2.06.94-2.06 2.06-.94-2.06-.94-.94-2.06-.94 2.06-2.06.94z\"/><path d=\"M17.41 7.96l-1.37-1.37c-.4-.4-.92-.59-1.43-.59-.52 0-1.04.2-1.43.59L10.3 9.45l-7.72 7.72c-.78.78-.78 2.05 0 2.83L4 21.41c.39.39.9.59 1.41.59.51 0 1.02-.2 1.41-.59l7.78-7.78 2.81-2.81c.8-.78.8-2.07 0-2.86zM5.41 20L4 18.59l7.72-7.72 1.47 1.35L5.41 20z\"/>\n",
              "  </svg>\n",
              "      </button>\n",
              "      \n",
              "  <style>\n",
              "    .colab-df-container {\n",
              "      display:flex;\n",
              "      flex-wrap:wrap;\n",
              "      gap: 12px;\n",
              "    }\n",
              "\n",
              "    .colab-df-convert {\n",
              "      background-color: #E8F0FE;\n",
              "      border: none;\n",
              "      border-radius: 50%;\n",
              "      cursor: pointer;\n",
              "      display: none;\n",
              "      fill: #1967D2;\n",
              "      height: 32px;\n",
              "      padding: 0 0 0 0;\n",
              "      width: 32px;\n",
              "    }\n",
              "\n",
              "    .colab-df-convert:hover {\n",
              "      background-color: #E2EBFA;\n",
              "      box-shadow: 0px 1px 2px rgba(60, 64, 67, 0.3), 0px 1px 3px 1px rgba(60, 64, 67, 0.15);\n",
              "      fill: #174EA6;\n",
              "    }\n",
              "\n",
              "    [theme=dark] .colab-df-convert {\n",
              "      background-color: #3B4455;\n",
              "      fill: #D2E3FC;\n",
              "    }\n",
              "\n",
              "    [theme=dark] .colab-df-convert:hover {\n",
              "      background-color: #434B5C;\n",
              "      box-shadow: 0px 1px 3px 1px rgba(0, 0, 0, 0.15);\n",
              "      filter: drop-shadow(0px 1px 2px rgba(0, 0, 0, 0.3));\n",
              "      fill: #FFFFFF;\n",
              "    }\n",
              "  </style>\n",
              "\n",
              "      <script>\n",
              "        const buttonEl =\n",
              "          document.querySelector('#df-8a538dcd-797b-4509-bd01-577bbcc3f257 button.colab-df-convert');\n",
              "        buttonEl.style.display =\n",
              "          google.colab.kernel.accessAllowed ? 'block' : 'none';\n",
              "\n",
              "        async function convertToInteractive(key) {\n",
              "          const element = document.querySelector('#df-8a538dcd-797b-4509-bd01-577bbcc3f257');\n",
              "          const dataTable =\n",
              "            await google.colab.kernel.invokeFunction('convertToInteractive',\n",
              "                                                     [key], {});\n",
              "          if (!dataTable) return;\n",
              "\n",
              "          const docLinkHtml = 'Like what you see? Visit the ' +\n",
              "            '<a target=\"_blank\" href=https://colab.research.google.com/notebooks/data_table.ipynb>data table notebook</a>'\n",
              "            + ' to learn more about interactive tables.';\n",
              "          element.innerHTML = '';\n",
              "          dataTable['output_type'] = 'display_data';\n",
              "          await google.colab.output.renderOutput(dataTable, element);\n",
              "          const docLink = document.createElement('div');\n",
              "          docLink.innerHTML = docLinkHtml;\n",
              "          element.appendChild(docLink);\n",
              "        }\n",
              "      </script>\n",
              "    </div>\n",
              "  </div>\n",
              "  "
            ],
            "text/plain": [
              "                      date  close_price\n",
              "78775  2020-12-30 18:52:00     28372.92\n",
              "78776  2020-12-30 19:52:00     28718.05\n",
              "78777  2020-12-30 20:52:00     28798.95\n",
              "78778  2020-12-30 21:52:00     28842.93\n",
              "78779  2020-12-30 22:52:00     28838.76"
            ]
          },
          "execution_count": 27,
          "metadata": {},
          "output_type": "execute_result"
        }
      ],
      "source": [
        "price_df.tail(5)"
      ]
    },
    {
      "cell_type": "code",
      "execution_count": null,
      "id": "bYnfeenhLAHI",
      "metadata": {
        "colab": {
          "base_uri": "https://localhost:8080/",
          "height": 206
        },
        "id": "bYnfeenhLAHI",
        "outputId": "e106dbb1-2cc3-41dd-8034-e130e25615c0"
      },
      "outputs": [
        {
          "data": {
            "text/html": [
              "\n",
              "  <div id=\"df-d4cc40f3-1b35-4a75-8964-cafa9c32bf7b\">\n",
              "    <div class=\"colab-df-container\">\n",
              "      <div>\n",
              "<style scoped>\n",
              "    .dataframe tbody tr th:only-of-type {\n",
              "        vertical-align: middle;\n",
              "    }\n",
              "\n",
              "    .dataframe tbody tr th {\n",
              "        vertical-align: top;\n",
              "    }\n",
              "\n",
              "    .dataframe thead th {\n",
              "        text-align: right;\n",
              "    }\n",
              "</style>\n",
              "<table border=\"1\" class=\"dataframe\">\n",
              "  <thead>\n",
              "    <tr style=\"text-align: right;\">\n",
              "      <th></th>\n",
              "      <th>Unnamed: 0</th>\n",
              "      <th>Unnamed: 0.1</th>\n",
              "      <th>timestamp</th>\n",
              "      <th>sentiment</th>\n",
              "    </tr>\n",
              "  </thead>\n",
              "  <tbody>\n",
              "    <tr>\n",
              "      <th>69331</th>\n",
              "      <td>8011</td>\n",
              "      <td>8011</td>\n",
              "      <td>2019-11-30 20:00:00</td>\n",
              "      <td>0.0</td>\n",
              "    </tr>\n",
              "    <tr>\n",
              "      <th>69332</th>\n",
              "      <td>8012</td>\n",
              "      <td>8012</td>\n",
              "      <td>2019-11-30 21:00:00</td>\n",
              "      <td>0.0</td>\n",
              "    </tr>\n",
              "    <tr>\n",
              "      <th>69333</th>\n",
              "      <td>8013</td>\n",
              "      <td>8013</td>\n",
              "      <td>2019-11-30 22:00:00</td>\n",
              "      <td>0.0</td>\n",
              "    </tr>\n",
              "    <tr>\n",
              "      <th>69334</th>\n",
              "      <td>8014</td>\n",
              "      <td>8014</td>\n",
              "      <td>2019-11-30 23:00:00</td>\n",
              "      <td>0.0</td>\n",
              "    </tr>\n",
              "    <tr>\n",
              "      <th>69335</th>\n",
              "      <td>8015</td>\n",
              "      <td>8015</td>\n",
              "      <td>2019-11-30 23:59:59</td>\n",
              "      <td>0.0</td>\n",
              "    </tr>\n",
              "  </tbody>\n",
              "</table>\n",
              "</div>\n",
              "      <button class=\"colab-df-convert\" onclick=\"convertToInteractive('df-d4cc40f3-1b35-4a75-8964-cafa9c32bf7b')\"\n",
              "              title=\"Convert this dataframe to an interactive table.\"\n",
              "              style=\"display:none;\">\n",
              "        \n",
              "  <svg xmlns=\"http://www.w3.org/2000/svg\" height=\"24px\"viewBox=\"0 0 24 24\"\n",
              "       width=\"24px\">\n",
              "    <path d=\"M0 0h24v24H0V0z\" fill=\"none\"/>\n",
              "    <path d=\"M18.56 5.44l.94 2.06.94-2.06 2.06-.94-2.06-.94-.94-2.06-.94 2.06-2.06.94zm-11 1L8.5 8.5l.94-2.06 2.06-.94-2.06-.94L8.5 2.5l-.94 2.06-2.06.94zm10 10l.94 2.06.94-2.06 2.06-.94-2.06-.94-.94-2.06-.94 2.06-2.06.94z\"/><path d=\"M17.41 7.96l-1.37-1.37c-.4-.4-.92-.59-1.43-.59-.52 0-1.04.2-1.43.59L10.3 9.45l-7.72 7.72c-.78.78-.78 2.05 0 2.83L4 21.41c.39.39.9.59 1.41.59.51 0 1.02-.2 1.41-.59l7.78-7.78 2.81-2.81c.8-.78.8-2.07 0-2.86zM5.41 20L4 18.59l7.72-7.72 1.47 1.35L5.41 20z\"/>\n",
              "  </svg>\n",
              "      </button>\n",
              "      \n",
              "  <style>\n",
              "    .colab-df-container {\n",
              "      display:flex;\n",
              "      flex-wrap:wrap;\n",
              "      gap: 12px;\n",
              "    }\n",
              "\n",
              "    .colab-df-convert {\n",
              "      background-color: #E8F0FE;\n",
              "      border: none;\n",
              "      border-radius: 50%;\n",
              "      cursor: pointer;\n",
              "      display: none;\n",
              "      fill: #1967D2;\n",
              "      height: 32px;\n",
              "      padding: 0 0 0 0;\n",
              "      width: 32px;\n",
              "    }\n",
              "\n",
              "    .colab-df-convert:hover {\n",
              "      background-color: #E2EBFA;\n",
              "      box-shadow: 0px 1px 2px rgba(60, 64, 67, 0.3), 0px 1px 3px 1px rgba(60, 64, 67, 0.15);\n",
              "      fill: #174EA6;\n",
              "    }\n",
              "\n",
              "    [theme=dark] .colab-df-convert {\n",
              "      background-color: #3B4455;\n",
              "      fill: #D2E3FC;\n",
              "    }\n",
              "\n",
              "    [theme=dark] .colab-df-convert:hover {\n",
              "      background-color: #434B5C;\n",
              "      box-shadow: 0px 1px 3px 1px rgba(0, 0, 0, 0.15);\n",
              "      filter: drop-shadow(0px 1px 2px rgba(0, 0, 0, 0.3));\n",
              "      fill: #FFFFFF;\n",
              "    }\n",
              "  </style>\n",
              "\n",
              "      <script>\n",
              "        const buttonEl =\n",
              "          document.querySelector('#df-d4cc40f3-1b35-4a75-8964-cafa9c32bf7b button.colab-df-convert');\n",
              "        buttonEl.style.display =\n",
              "          google.colab.kernel.accessAllowed ? 'block' : 'none';\n",
              "\n",
              "        async function convertToInteractive(key) {\n",
              "          const element = document.querySelector('#df-d4cc40f3-1b35-4a75-8964-cafa9c32bf7b');\n",
              "          const dataTable =\n",
              "            await google.colab.kernel.invokeFunction('convertToInteractive',\n",
              "                                                     [key], {});\n",
              "          if (!dataTable) return;\n",
              "\n",
              "          const docLinkHtml = 'Like what you see? Visit the ' +\n",
              "            '<a target=\"_blank\" href=https://colab.research.google.com/notebooks/data_table.ipynb>data table notebook</a>'\n",
              "            + ' to learn more about interactive tables.';\n",
              "          element.innerHTML = '';\n",
              "          dataTable['output_type'] = 'display_data';\n",
              "          await google.colab.output.renderOutput(dataTable, element);\n",
              "          const docLink = document.createElement('div');\n",
              "          docLink.innerHTML = docLinkHtml;\n",
              "          element.appendChild(docLink);\n",
              "        }\n",
              "      </script>\n",
              "    </div>\n",
              "  </div>\n",
              "  "
            ],
            "text/plain": [
              "       Unnamed: 0  Unnamed: 0.1            timestamp  sentiment\n",
              "69331        8011          8011  2019-11-30 20:00:00        0.0\n",
              "69332        8012          8012  2019-11-30 21:00:00        0.0\n",
              "69333        8013          8013  2019-11-30 22:00:00        0.0\n",
              "69334        8014          8014  2019-11-30 23:00:00        0.0\n",
              "69335        8015          8015  2019-11-30 23:59:59        0.0"
            ]
          },
          "execution_count": 38,
          "metadata": {},
          "output_type": "execute_result"
        }
      ],
      "source": [
        "tweet_df.tail(5)"
      ]
    },
    {
      "cell_type": "code",
      "execution_count": null,
      "id": "fwnvabPXL54k",
      "metadata": {
        "id": "fwnvabPXL54k"
      },
      "outputs": [],
      "source": [
        "tweet_df = tweet_df.iloc[26280:]"
      ]
    },
    {
      "cell_type": "code",
      "execution_count": null,
      "id": "LkhmVMonL57T",
      "metadata": {
        "id": "LkhmVMonL57T"
      },
      "outputs": [],
      "source": [
        "tweet_df = tweet_df.reset_index(drop=True)"
      ]
    },
    {
      "cell_type": "code",
      "execution_count": null,
      "id": "lKzdmnWKL5-A",
      "metadata": {
        "id": "lKzdmnWKL5-A"
      },
      "outputs": [],
      "source": [
        "price_df = price_df.iloc[1:]"
      ]
    },
    {
      "cell_type": "code",
      "execution_count": null,
      "id": "egps8MWtTpeT",
      "metadata": {
        "id": "egps8MWtTpeT"
      },
      "outputs": [],
      "source": [
        "price_df = price_df.reset_index(drop=True)"
      ]
    },
    {
      "cell_type": "code",
      "execution_count": null,
      "id": "cHknCQL0L6AL",
      "metadata": {
        "colab": {
          "base_uri": "https://localhost:8080/",
          "height": 206
        },
        "id": "cHknCQL0L6AL",
        "outputId": "804aa1a1-cb71-4fc2-d115-c10c4b88d6f6"
      },
      "outputs": [
        {
          "data": {
            "text/html": [
              "\n",
              "  <div id=\"df-4bb1ad76-3309-4a6c-b64c-c472b0a3ceac\">\n",
              "    <div class=\"colab-df-container\">\n",
              "      <div>\n",
              "<style scoped>\n",
              "    .dataframe tbody tr th:only-of-type {\n",
              "        vertical-align: middle;\n",
              "    }\n",
              "\n",
              "    .dataframe tbody tr th {\n",
              "        vertical-align: top;\n",
              "    }\n",
              "\n",
              "    .dataframe thead th {\n",
              "        text-align: right;\n",
              "    }\n",
              "</style>\n",
              "<table border=\"1\" class=\"dataframe\">\n",
              "  <thead>\n",
              "    <tr style=\"text-align: right;\">\n",
              "      <th></th>\n",
              "      <th>date</th>\n",
              "      <th>close_price</th>\n",
              "    </tr>\n",
              "  </thead>\n",
              "  <tbody>\n",
              "    <tr>\n",
              "      <th>16</th>\n",
              "      <td>2012-01-01 00:00:00</td>\n",
              "      <td>4.58</td>\n",
              "    </tr>\n",
              "    <tr>\n",
              "      <th>17</th>\n",
              "      <td>2012-01-01 01:00:00</td>\n",
              "      <td>4.58</td>\n",
              "    </tr>\n",
              "    <tr>\n",
              "      <th>18</th>\n",
              "      <td>2012-01-01 02:00:00</td>\n",
              "      <td>4.58</td>\n",
              "    </tr>\n",
              "    <tr>\n",
              "      <th>19</th>\n",
              "      <td>2012-01-01 03:00:00</td>\n",
              "      <td>4.58</td>\n",
              "    </tr>\n",
              "    <tr>\n",
              "      <th>20</th>\n",
              "      <td>2012-01-01 04:00:00</td>\n",
              "      <td>4.58</td>\n",
              "    </tr>\n",
              "  </tbody>\n",
              "</table>\n",
              "</div>\n",
              "      <button class=\"colab-df-convert\" onclick=\"convertToInteractive('df-4bb1ad76-3309-4a6c-b64c-c472b0a3ceac')\"\n",
              "              title=\"Convert this dataframe to an interactive table.\"\n",
              "              style=\"display:none;\">\n",
              "        \n",
              "  <svg xmlns=\"http://www.w3.org/2000/svg\" height=\"24px\"viewBox=\"0 0 24 24\"\n",
              "       width=\"24px\">\n",
              "    <path d=\"M0 0h24v24H0V0z\" fill=\"none\"/>\n",
              "    <path d=\"M18.56 5.44l.94 2.06.94-2.06 2.06-.94-2.06-.94-.94-2.06-.94 2.06-2.06.94zm-11 1L8.5 8.5l.94-2.06 2.06-.94-2.06-.94L8.5 2.5l-.94 2.06-2.06.94zm10 10l.94 2.06.94-2.06 2.06-.94-2.06-.94-.94-2.06-.94 2.06-2.06.94z\"/><path d=\"M17.41 7.96l-1.37-1.37c-.4-.4-.92-.59-1.43-.59-.52 0-1.04.2-1.43.59L10.3 9.45l-7.72 7.72c-.78.78-.78 2.05 0 2.83L4 21.41c.39.39.9.59 1.41.59.51 0 1.02-.2 1.41-.59l7.78-7.78 2.81-2.81c.8-.78.8-2.07 0-2.86zM5.41 20L4 18.59l7.72-7.72 1.47 1.35L5.41 20z\"/>\n",
              "  </svg>\n",
              "      </button>\n",
              "      \n",
              "  <style>\n",
              "    .colab-df-container {\n",
              "      display:flex;\n",
              "      flex-wrap:wrap;\n",
              "      gap: 12px;\n",
              "    }\n",
              "\n",
              "    .colab-df-convert {\n",
              "      background-color: #E8F0FE;\n",
              "      border: none;\n",
              "      border-radius: 50%;\n",
              "      cursor: pointer;\n",
              "      display: none;\n",
              "      fill: #1967D2;\n",
              "      height: 32px;\n",
              "      padding: 0 0 0 0;\n",
              "      width: 32px;\n",
              "    }\n",
              "\n",
              "    .colab-df-convert:hover {\n",
              "      background-color: #E2EBFA;\n",
              "      box-shadow: 0px 1px 2px rgba(60, 64, 67, 0.3), 0px 1px 3px 1px rgba(60, 64, 67, 0.15);\n",
              "      fill: #174EA6;\n",
              "    }\n",
              "\n",
              "    [theme=dark] .colab-df-convert {\n",
              "      background-color: #3B4455;\n",
              "      fill: #D2E3FC;\n",
              "    }\n",
              "\n",
              "    [theme=dark] .colab-df-convert:hover {\n",
              "      background-color: #434B5C;\n",
              "      box-shadow: 0px 1px 3px 1px rgba(0, 0, 0, 0.15);\n",
              "      filter: drop-shadow(0px 1px 2px rgba(0, 0, 0, 0.3));\n",
              "      fill: #FFFFFF;\n",
              "    }\n",
              "  </style>\n",
              "\n",
              "      <script>\n",
              "        const buttonEl =\n",
              "          document.querySelector('#df-4bb1ad76-3309-4a6c-b64c-c472b0a3ceac button.colab-df-convert');\n",
              "        buttonEl.style.display =\n",
              "          google.colab.kernel.accessAllowed ? 'block' : 'none';\n",
              "\n",
              "        async function convertToInteractive(key) {\n",
              "          const element = document.querySelector('#df-4bb1ad76-3309-4a6c-b64c-c472b0a3ceac');\n",
              "          const dataTable =\n",
              "            await google.colab.kernel.invokeFunction('convertToInteractive',\n",
              "                                                     [key], {});\n",
              "          if (!dataTable) return;\n",
              "\n",
              "          const docLinkHtml = 'Like what you see? Visit the ' +\n",
              "            '<a target=\"_blank\" href=https://colab.research.google.com/notebooks/data_table.ipynb>data table notebook</a>'\n",
              "            + ' to learn more about interactive tables.';\n",
              "          element.innerHTML = '';\n",
              "          dataTable['output_type'] = 'display_data';\n",
              "          await google.colab.output.renderOutput(dataTable, element);\n",
              "          const docLink = document.createElement('div');\n",
              "          docLink.innerHTML = docLinkHtml;\n",
              "          element.appendChild(docLink);\n",
              "        }\n",
              "      </script>\n",
              "    </div>\n",
              "  </div>\n",
              "  "
            ],
            "text/plain": [
              "                   date  close_price\n",
              "16  2012-01-01 00:00:00         4.58\n",
              "17  2012-01-01 01:00:00         4.58\n",
              "18  2012-01-01 02:00:00         4.58\n",
              "19  2012-01-01 03:00:00         4.58\n",
              "20  2012-01-01 04:00:00         4.58"
            ]
          },
          "execution_count": 24,
          "metadata": {},
          "output_type": "execute_result"
        }
      ],
      "source": [
        "price_df.head(5)"
      ]
    },
    {
      "cell_type": "code",
      "execution_count": null,
      "id": "QK-UAnCHL6Cw",
      "metadata": {
        "id": "QK-UAnCHL6Cw"
      },
      "outputs": [],
      "source": [
        "price_df = price_df.iloc[1:]"
      ]
    },
    {
      "cell_type": "code",
      "execution_count": null,
      "id": "TPMhcSupL6F6",
      "metadata": {
        "id": "TPMhcSupL6F6"
      },
      "outputs": [],
      "source": [
        "price_df = price_df.reset_index(drop=True)"
      ]
    },
    {
      "cell_type": "code",
      "execution_count": null,
      "id": "MaE1yOY1M4iz",
      "metadata": {
        "colab": {
          "base_uri": "https://localhost:8080/",
          "height": 206
        },
        "id": "MaE1yOY1M4iz",
        "outputId": "f9afe210-b22e-4ec8-9902-1d4941aec323"
      },
      "outputs": [
        {
          "data": {
            "text/html": [
              "\n",
              "  <div id=\"df-e3258660-c077-4016-80ae-8ac41a7866aa\">\n",
              "    <div class=\"colab-df-container\">\n",
              "      <div>\n",
              "<style scoped>\n",
              "    .dataframe tbody tr th:only-of-type {\n",
              "        vertical-align: middle;\n",
              "    }\n",
              "\n",
              "    .dataframe tbody tr th {\n",
              "        vertical-align: top;\n",
              "    }\n",
              "\n",
              "    .dataframe thead th {\n",
              "        text-align: right;\n",
              "    }\n",
              "</style>\n",
              "<table border=\"1\" class=\"dataframe\">\n",
              "  <thead>\n",
              "    <tr style=\"text-align: right;\">\n",
              "      <th></th>\n",
              "      <th>date</th>\n",
              "      <th>close_price</th>\n",
              "    </tr>\n",
              "  </thead>\n",
              "  <tbody>\n",
              "    <tr>\n",
              "      <th>15</th>\n",
              "      <td>2011-12-31 23:00:00</td>\n",
              "      <td>4.58</td>\n",
              "    </tr>\n",
              "    <tr>\n",
              "      <th>16</th>\n",
              "      <td>2012-01-01 00:00:00</td>\n",
              "      <td>4.58</td>\n",
              "    </tr>\n",
              "    <tr>\n",
              "      <th>17</th>\n",
              "      <td>2012-01-01 01:00:00</td>\n",
              "      <td>4.58</td>\n",
              "    </tr>\n",
              "    <tr>\n",
              "      <th>18</th>\n",
              "      <td>2012-01-01 02:00:00</td>\n",
              "      <td>4.58</td>\n",
              "    </tr>\n",
              "    <tr>\n",
              "      <th>19</th>\n",
              "      <td>2012-01-01 03:00:00</td>\n",
              "      <td>4.58</td>\n",
              "    </tr>\n",
              "  </tbody>\n",
              "</table>\n",
              "</div>\n",
              "      <button class=\"colab-df-convert\" onclick=\"convertToInteractive('df-e3258660-c077-4016-80ae-8ac41a7866aa')\"\n",
              "              title=\"Convert this dataframe to an interactive table.\"\n",
              "              style=\"display:none;\">\n",
              "        \n",
              "  <svg xmlns=\"http://www.w3.org/2000/svg\" height=\"24px\"viewBox=\"0 0 24 24\"\n",
              "       width=\"24px\">\n",
              "    <path d=\"M0 0h24v24H0V0z\" fill=\"none\"/>\n",
              "    <path d=\"M18.56 5.44l.94 2.06.94-2.06 2.06-.94-2.06-.94-.94-2.06-.94 2.06-2.06.94zm-11 1L8.5 8.5l.94-2.06 2.06-.94-2.06-.94L8.5 2.5l-.94 2.06-2.06.94zm10 10l.94 2.06.94-2.06 2.06-.94-2.06-.94-.94-2.06-.94 2.06-2.06.94z\"/><path d=\"M17.41 7.96l-1.37-1.37c-.4-.4-.92-.59-1.43-.59-.52 0-1.04.2-1.43.59L10.3 9.45l-7.72 7.72c-.78.78-.78 2.05 0 2.83L4 21.41c.39.39.9.59 1.41.59.51 0 1.02-.2 1.41-.59l7.78-7.78 2.81-2.81c.8-.78.8-2.07 0-2.86zM5.41 20L4 18.59l7.72-7.72 1.47 1.35L5.41 20z\"/>\n",
              "  </svg>\n",
              "      </button>\n",
              "      \n",
              "  <style>\n",
              "    .colab-df-container {\n",
              "      display:flex;\n",
              "      flex-wrap:wrap;\n",
              "      gap: 12px;\n",
              "    }\n",
              "\n",
              "    .colab-df-convert {\n",
              "      background-color: #E8F0FE;\n",
              "      border: none;\n",
              "      border-radius: 50%;\n",
              "      cursor: pointer;\n",
              "      display: none;\n",
              "      fill: #1967D2;\n",
              "      height: 32px;\n",
              "      padding: 0 0 0 0;\n",
              "      width: 32px;\n",
              "    }\n",
              "\n",
              "    .colab-df-convert:hover {\n",
              "      background-color: #E2EBFA;\n",
              "      box-shadow: 0px 1px 2px rgba(60, 64, 67, 0.3), 0px 1px 3px 1px rgba(60, 64, 67, 0.15);\n",
              "      fill: #174EA6;\n",
              "    }\n",
              "\n",
              "    [theme=dark] .colab-df-convert {\n",
              "      background-color: #3B4455;\n",
              "      fill: #D2E3FC;\n",
              "    }\n",
              "\n",
              "    [theme=dark] .colab-df-convert:hover {\n",
              "      background-color: #434B5C;\n",
              "      box-shadow: 0px 1px 3px 1px rgba(0, 0, 0, 0.15);\n",
              "      filter: drop-shadow(0px 1px 2px rgba(0, 0, 0, 0.3));\n",
              "      fill: #FFFFFF;\n",
              "    }\n",
              "  </style>\n",
              "\n",
              "      <script>\n",
              "        const buttonEl =\n",
              "          document.querySelector('#df-e3258660-c077-4016-80ae-8ac41a7866aa button.colab-df-convert');\n",
              "        buttonEl.style.display =\n",
              "          google.colab.kernel.accessAllowed ? 'block' : 'none';\n",
              "\n",
              "        async function convertToInteractive(key) {\n",
              "          const element = document.querySelector('#df-e3258660-c077-4016-80ae-8ac41a7866aa');\n",
              "          const dataTable =\n",
              "            await google.colab.kernel.invokeFunction('convertToInteractive',\n",
              "                                                     [key], {});\n",
              "          if (!dataTable) return;\n",
              "\n",
              "          const docLinkHtml = 'Like what you see? Visit the ' +\n",
              "            '<a target=\"_blank\" href=https://colab.research.google.com/notebooks/data_table.ipynb>data table notebook</a>'\n",
              "            + ' to learn more about interactive tables.';\n",
              "          element.innerHTML = '';\n",
              "          dataTable['output_type'] = 'display_data';\n",
              "          await google.colab.output.renderOutput(dataTable, element);\n",
              "          const docLink = document.createElement('div');\n",
              "          docLink.innerHTML = docLinkHtml;\n",
              "          element.appendChild(docLink);\n",
              "        }\n",
              "      </script>\n",
              "    </div>\n",
              "  </div>\n",
              "  "
            ],
            "text/plain": [
              "                   date  close_price\n",
              "15  2011-12-31 23:00:00         4.58\n",
              "16  2012-01-01 00:00:00         4.58\n",
              "17  2012-01-01 01:00:00         4.58\n",
              "18  2012-01-01 02:00:00         4.58\n",
              "19  2012-01-01 03:00:00         4.58"
            ]
          },
          "execution_count": 17,
          "metadata": {},
          "output_type": "execute_result"
        }
      ],
      "source": [
        "price_df.head(5)"
      ]
    },
    {
      "cell_type": "code",
      "execution_count": null,
      "id": "LQNQaEHzM4lI",
      "metadata": {
        "id": "LQNQaEHzM4lI"
      },
      "outputs": [],
      "source": [
        "price_df.drop(price_df.tail(8760).index,inplace=True)"
      ]
    },
    {
      "cell_type": "code",
      "execution_count": null,
      "id": "cwmt5VJ9UKTP",
      "metadata": {
        "id": "cwmt5VJ9UKTP"
      },
      "outputs": [],
      "source": [
        "price_df.drop(price_df.tail(744).index,inplace=True)"
      ]
    },
    {
      "cell_type": "code",
      "execution_count": null,
      "id": "_SsuXwcINbwy",
      "metadata": {
        "colab": {
          "base_uri": "https://localhost:8080/",
          "height": 206
        },
        "id": "_SsuXwcINbwy",
        "outputId": "cb7ac7e7-49a2-490e-8536-64c009ae3765"
      },
      "outputs": [
        {
          "data": {
            "text/html": [
              "\n",
              "  <div id=\"df-7bb7868b-0a84-4346-a502-99941051f076\">\n",
              "    <div class=\"colab-df-container\">\n",
              "      <div>\n",
              "<style scoped>\n",
              "    .dataframe tbody tr th:only-of-type {\n",
              "        vertical-align: middle;\n",
              "    }\n",
              "\n",
              "    .dataframe tbody tr th {\n",
              "        vertical-align: top;\n",
              "    }\n",
              "\n",
              "    .dataframe thead th {\n",
              "        text-align: right;\n",
              "    }\n",
              "</style>\n",
              "<table border=\"1\" class=\"dataframe\">\n",
              "  <thead>\n",
              "    <tr style=\"text-align: right;\">\n",
              "      <th></th>\n",
              "      <th>date</th>\n",
              "      <th>close_price</th>\n",
              "    </tr>\n",
              "  </thead>\n",
              "  <tbody>\n",
              "    <tr>\n",
              "      <th>69271</th>\n",
              "      <td>2019-11-30 18:52:00</td>\n",
              "      <td>7493.88</td>\n",
              "    </tr>\n",
              "    <tr>\n",
              "      <th>69272</th>\n",
              "      <td>2019-11-30 19:52:00</td>\n",
              "      <td>7507.12</td>\n",
              "    </tr>\n",
              "    <tr>\n",
              "      <th>69273</th>\n",
              "      <td>2019-11-30 20:52:00</td>\n",
              "      <td>7504.05</td>\n",
              "    </tr>\n",
              "    <tr>\n",
              "      <th>69274</th>\n",
              "      <td>2019-11-30 21:52:00</td>\n",
              "      <td>7522.23</td>\n",
              "    </tr>\n",
              "    <tr>\n",
              "      <th>69275</th>\n",
              "      <td>2019-11-30 22:52:00</td>\n",
              "      <td>7553.69</td>\n",
              "    </tr>\n",
              "  </tbody>\n",
              "</table>\n",
              "</div>\n",
              "      <button class=\"colab-df-convert\" onclick=\"convertToInteractive('df-7bb7868b-0a84-4346-a502-99941051f076')\"\n",
              "              title=\"Convert this dataframe to an interactive table.\"\n",
              "              style=\"display:none;\">\n",
              "        \n",
              "  <svg xmlns=\"http://www.w3.org/2000/svg\" height=\"24px\"viewBox=\"0 0 24 24\"\n",
              "       width=\"24px\">\n",
              "    <path d=\"M0 0h24v24H0V0z\" fill=\"none\"/>\n",
              "    <path d=\"M18.56 5.44l.94 2.06.94-2.06 2.06-.94-2.06-.94-.94-2.06-.94 2.06-2.06.94zm-11 1L8.5 8.5l.94-2.06 2.06-.94-2.06-.94L8.5 2.5l-.94 2.06-2.06.94zm10 10l.94 2.06.94-2.06 2.06-.94-2.06-.94-.94-2.06-.94 2.06-2.06.94z\"/><path d=\"M17.41 7.96l-1.37-1.37c-.4-.4-.92-.59-1.43-.59-.52 0-1.04.2-1.43.59L10.3 9.45l-7.72 7.72c-.78.78-.78 2.05 0 2.83L4 21.41c.39.39.9.59 1.41.59.51 0 1.02-.2 1.41-.59l7.78-7.78 2.81-2.81c.8-.78.8-2.07 0-2.86zM5.41 20L4 18.59l7.72-7.72 1.47 1.35L5.41 20z\"/>\n",
              "  </svg>\n",
              "      </button>\n",
              "      \n",
              "  <style>\n",
              "    .colab-df-container {\n",
              "      display:flex;\n",
              "      flex-wrap:wrap;\n",
              "      gap: 12px;\n",
              "    }\n",
              "\n",
              "    .colab-df-convert {\n",
              "      background-color: #E8F0FE;\n",
              "      border: none;\n",
              "      border-radius: 50%;\n",
              "      cursor: pointer;\n",
              "      display: none;\n",
              "      fill: #1967D2;\n",
              "      height: 32px;\n",
              "      padding: 0 0 0 0;\n",
              "      width: 32px;\n",
              "    }\n",
              "\n",
              "    .colab-df-convert:hover {\n",
              "      background-color: #E2EBFA;\n",
              "      box-shadow: 0px 1px 2px rgba(60, 64, 67, 0.3), 0px 1px 3px 1px rgba(60, 64, 67, 0.15);\n",
              "      fill: #174EA6;\n",
              "    }\n",
              "\n",
              "    [theme=dark] .colab-df-convert {\n",
              "      background-color: #3B4455;\n",
              "      fill: #D2E3FC;\n",
              "    }\n",
              "\n",
              "    [theme=dark] .colab-df-convert:hover {\n",
              "      background-color: #434B5C;\n",
              "      box-shadow: 0px 1px 3px 1px rgba(0, 0, 0, 0.15);\n",
              "      filter: drop-shadow(0px 1px 2px rgba(0, 0, 0, 0.3));\n",
              "      fill: #FFFFFF;\n",
              "    }\n",
              "  </style>\n",
              "\n",
              "      <script>\n",
              "        const buttonEl =\n",
              "          document.querySelector('#df-7bb7868b-0a84-4346-a502-99941051f076 button.colab-df-convert');\n",
              "        buttonEl.style.display =\n",
              "          google.colab.kernel.accessAllowed ? 'block' : 'none';\n",
              "\n",
              "        async function convertToInteractive(key) {\n",
              "          const element = document.querySelector('#df-7bb7868b-0a84-4346-a502-99941051f076');\n",
              "          const dataTable =\n",
              "            await google.colab.kernel.invokeFunction('convertToInteractive',\n",
              "                                                     [key], {});\n",
              "          if (!dataTable) return;\n",
              "\n",
              "          const docLinkHtml = 'Like what you see? Visit the ' +\n",
              "            '<a target=\"_blank\" href=https://colab.research.google.com/notebooks/data_table.ipynb>data table notebook</a>'\n",
              "            + ' to learn more about interactive tables.';\n",
              "          element.innerHTML = '';\n",
              "          dataTable['output_type'] = 'display_data';\n",
              "          await google.colab.output.renderOutput(dataTable, element);\n",
              "          const docLink = document.createElement('div');\n",
              "          docLink.innerHTML = docLinkHtml;\n",
              "          element.appendChild(docLink);\n",
              "        }\n",
              "      </script>\n",
              "    </div>\n",
              "  </div>\n",
              "  "
            ],
            "text/plain": [
              "                      date  close_price\n",
              "69271  2019-11-30 18:52:00      7493.88\n",
              "69272  2019-11-30 19:52:00      7507.12\n",
              "69273  2019-11-30 20:52:00      7504.05\n",
              "69274  2019-11-30 21:52:00      7522.23\n",
              "69275  2019-11-30 22:52:00      7553.69"
            ]
          },
          "execution_count": 31,
          "metadata": {},
          "output_type": "execute_result"
        }
      ],
      "source": [
        "price_df.tail(5)"
      ]
    },
    {
      "cell_type": "code",
      "execution_count": null,
      "id": "fBVkGsZPNbzS",
      "metadata": {
        "id": "fBVkGsZPNbzS"
      },
      "outputs": [],
      "source": [
        "tweet_df.drop(tweet_df.tail(60).index,inplace=True)"
      ]
    },
    {
      "cell_type": "code",
      "execution_count": null,
      "id": "38XgXremNb2Y",
      "metadata": {
        "id": "38XgXremNb2Y"
      },
      "outputs": [],
      "source": [
        "tweet_df = tweet_df.reset_index(drop=True)"
      ]
    },
    {
      "cell_type": "code",
      "execution_count": null,
      "id": "f6Fh76RLQG8_",
      "metadata": {
        "id": "f6Fh76RLQG8_"
      },
      "outputs": [],
      "source": [
        "price_df = price_df.reset_index(drop=True)"
      ]
    },
    {
      "cell_type": "code",
      "execution_count": null,
      "id": "F2t3-7TWV1aA",
      "metadata": {
        "id": "F2t3-7TWV1aA"
      },
      "outputs": [],
      "source": [
        "df = pd.DataFrame()"
      ]
    },
    {
      "cell_type": "code",
      "execution_count": null,
      "id": "AULjh9K1QHAj",
      "metadata": {
        "id": "AULjh9K1QHAj"
      },
      "outputs": [],
      "source": [
        "df[\"date\"] = price_df[\"date\"]\n",
        "df[\"sentiment\"] = tweet_df[\"sentiment\"]\n",
        "df[\"close_price\"] = price_df[\"close_price\"]"
      ]
    },
    {
      "cell_type": "code",
      "execution_count": null,
      "id": "ZFlfxPTUQnhY",
      "metadata": {
        "id": "ZFlfxPTUQnhY"
      },
      "outputs": [],
      "source": [
        "df[\"sentiment\"] = tweet_df[\"sentiment\"]"
      ]
    },
    {
      "cell_type": "code",
      "execution_count": null,
      "id": "mzAvNqWLQuHU",
      "metadata": {
        "colab": {
          "base_uri": "https://localhost:8080/",
          "height": 802
        },
        "id": "mzAvNqWLQuHU",
        "outputId": "c4247e22-7ffe-40a2-d140-6b0c25a703f7"
      },
      "outputs": [
        {
          "data": {
            "text/html": [
              "\n",
              "  <div id=\"df-9fbf22b9-2671-4412-af01-b78f3d94f6c0\">\n",
              "    <div class=\"colab-df-container\">\n",
              "      <div>\n",
              "<style scoped>\n",
              "    .dataframe tbody tr th:only-of-type {\n",
              "        vertical-align: middle;\n",
              "    }\n",
              "\n",
              "    .dataframe tbody tr th {\n",
              "        vertical-align: top;\n",
              "    }\n",
              "\n",
              "    .dataframe thead th {\n",
              "        text-align: right;\n",
              "    }\n",
              "</style>\n",
              "<table border=\"1\" class=\"dataframe\">\n",
              "  <thead>\n",
              "    <tr style=\"text-align: right;\">\n",
              "      <th></th>\n",
              "      <th>date</th>\n",
              "      <th>sentiment</th>\n",
              "      <th>close_price</th>\n",
              "    </tr>\n",
              "  </thead>\n",
              "  <tbody>\n",
              "    <tr>\n",
              "      <th>0</th>\n",
              "      <td>2012-01-01 00:00:00</td>\n",
              "      <td>0.278788</td>\n",
              "      <td>4.58</td>\n",
              "    </tr>\n",
              "    <tr>\n",
              "      <th>1</th>\n",
              "      <td>2012-01-01 01:00:00</td>\n",
              "      <td>0.000000</td>\n",
              "      <td>4.58</td>\n",
              "    </tr>\n",
              "    <tr>\n",
              "      <th>2</th>\n",
              "      <td>2012-01-01 02:00:00</td>\n",
              "      <td>0.000000</td>\n",
              "      <td>4.58</td>\n",
              "    </tr>\n",
              "    <tr>\n",
              "      <th>3</th>\n",
              "      <td>2012-01-01 03:00:00</td>\n",
              "      <td>0.000000</td>\n",
              "      <td>4.58</td>\n",
              "    </tr>\n",
              "    <tr>\n",
              "      <th>4</th>\n",
              "      <td>2012-01-01 04:00:00</td>\n",
              "      <td>0.000000</td>\n",
              "      <td>4.58</td>\n",
              "    </tr>\n",
              "    <tr>\n",
              "      <th>5</th>\n",
              "      <td>2012-01-01 05:00:00</td>\n",
              "      <td>0.000000</td>\n",
              "      <td>4.58</td>\n",
              "    </tr>\n",
              "    <tr>\n",
              "      <th>6</th>\n",
              "      <td>2012-01-01 06:00:00</td>\n",
              "      <td>0.000000</td>\n",
              "      <td>4.58</td>\n",
              "    </tr>\n",
              "    <tr>\n",
              "      <th>7</th>\n",
              "      <td>2012-01-01 07:00:00</td>\n",
              "      <td>0.000000</td>\n",
              "      <td>4.58</td>\n",
              "    </tr>\n",
              "    <tr>\n",
              "      <th>8</th>\n",
              "      <td>2012-01-01 08:00:00</td>\n",
              "      <td>0.000000</td>\n",
              "      <td>4.58</td>\n",
              "    </tr>\n",
              "    <tr>\n",
              "      <th>9</th>\n",
              "      <td>2012-01-01 09:00:00</td>\n",
              "      <td>0.000000</td>\n",
              "      <td>4.58</td>\n",
              "    </tr>\n",
              "    <tr>\n",
              "      <th>10</th>\n",
              "      <td>2012-01-01 10:00:00</td>\n",
              "      <td>0.000000</td>\n",
              "      <td>4.58</td>\n",
              "    </tr>\n",
              "    <tr>\n",
              "      <th>11</th>\n",
              "      <td>2012-01-01 11:00:00</td>\n",
              "      <td>0.000000</td>\n",
              "      <td>4.58</td>\n",
              "    </tr>\n",
              "    <tr>\n",
              "      <th>12</th>\n",
              "      <td>2012-01-01 12:00:00</td>\n",
              "      <td>0.000000</td>\n",
              "      <td>4.58</td>\n",
              "    </tr>\n",
              "    <tr>\n",
              "      <th>13</th>\n",
              "      <td>2012-01-01 13:00:00</td>\n",
              "      <td>0.000000</td>\n",
              "      <td>4.58</td>\n",
              "    </tr>\n",
              "    <tr>\n",
              "      <th>14</th>\n",
              "      <td>2012-01-01 14:00:00</td>\n",
              "      <td>0.000000</td>\n",
              "      <td>4.58</td>\n",
              "    </tr>\n",
              "    <tr>\n",
              "      <th>15</th>\n",
              "      <td>2012-01-01 15:00:00</td>\n",
              "      <td>0.000000</td>\n",
              "      <td>4.58</td>\n",
              "    </tr>\n",
              "    <tr>\n",
              "      <th>16</th>\n",
              "      <td>2012-01-01 16:00:00</td>\n",
              "      <td>0.285714</td>\n",
              "      <td>4.84</td>\n",
              "    </tr>\n",
              "    <tr>\n",
              "      <th>17</th>\n",
              "      <td>2012-01-01 17:00:00</td>\n",
              "      <td>0.000000</td>\n",
              "      <td>4.84</td>\n",
              "    </tr>\n",
              "    <tr>\n",
              "      <th>18</th>\n",
              "      <td>2012-01-01 18:00:00</td>\n",
              "      <td>0.000000</td>\n",
              "      <td>4.84</td>\n",
              "    </tr>\n",
              "    <tr>\n",
              "      <th>19</th>\n",
              "      <td>2012-01-01 19:00:00</td>\n",
              "      <td>0.000000</td>\n",
              "      <td>4.84</td>\n",
              "    </tr>\n",
              "    <tr>\n",
              "      <th>20</th>\n",
              "      <td>2012-01-01 20:00:00</td>\n",
              "      <td>0.500000</td>\n",
              "      <td>4.84</td>\n",
              "    </tr>\n",
              "    <tr>\n",
              "      <th>21</th>\n",
              "      <td>2012-01-01 21:00:00</td>\n",
              "      <td>0.000000</td>\n",
              "      <td>4.84</td>\n",
              "    </tr>\n",
              "    <tr>\n",
              "      <th>22</th>\n",
              "      <td>2012-01-01 22:00:00</td>\n",
              "      <td>0.000000</td>\n",
              "      <td>4.84</td>\n",
              "    </tr>\n",
              "    <tr>\n",
              "      <th>23</th>\n",
              "      <td>2012-01-01 23:00:00</td>\n",
              "      <td>0.000000</td>\n",
              "      <td>5.00</td>\n",
              "    </tr>\n",
              "  </tbody>\n",
              "</table>\n",
              "</div>\n",
              "      <button class=\"colab-df-convert\" onclick=\"convertToInteractive('df-9fbf22b9-2671-4412-af01-b78f3d94f6c0')\"\n",
              "              title=\"Convert this dataframe to an interactive table.\"\n",
              "              style=\"display:none;\">\n",
              "        \n",
              "  <svg xmlns=\"http://www.w3.org/2000/svg\" height=\"24px\"viewBox=\"0 0 24 24\"\n",
              "       width=\"24px\">\n",
              "    <path d=\"M0 0h24v24H0V0z\" fill=\"none\"/>\n",
              "    <path d=\"M18.56 5.44l.94 2.06.94-2.06 2.06-.94-2.06-.94-.94-2.06-.94 2.06-2.06.94zm-11 1L8.5 8.5l.94-2.06 2.06-.94-2.06-.94L8.5 2.5l-.94 2.06-2.06.94zm10 10l.94 2.06.94-2.06 2.06-.94-2.06-.94-.94-2.06-.94 2.06-2.06.94z\"/><path d=\"M17.41 7.96l-1.37-1.37c-.4-.4-.92-.59-1.43-.59-.52 0-1.04.2-1.43.59L10.3 9.45l-7.72 7.72c-.78.78-.78 2.05 0 2.83L4 21.41c.39.39.9.59 1.41.59.51 0 1.02-.2 1.41-.59l7.78-7.78 2.81-2.81c.8-.78.8-2.07 0-2.86zM5.41 20L4 18.59l7.72-7.72 1.47 1.35L5.41 20z\"/>\n",
              "  </svg>\n",
              "      </button>\n",
              "      \n",
              "  <style>\n",
              "    .colab-df-container {\n",
              "      display:flex;\n",
              "      flex-wrap:wrap;\n",
              "      gap: 12px;\n",
              "    }\n",
              "\n",
              "    .colab-df-convert {\n",
              "      background-color: #E8F0FE;\n",
              "      border: none;\n",
              "      border-radius: 50%;\n",
              "      cursor: pointer;\n",
              "      display: none;\n",
              "      fill: #1967D2;\n",
              "      height: 32px;\n",
              "      padding: 0 0 0 0;\n",
              "      width: 32px;\n",
              "    }\n",
              "\n",
              "    .colab-df-convert:hover {\n",
              "      background-color: #E2EBFA;\n",
              "      box-shadow: 0px 1px 2px rgba(60, 64, 67, 0.3), 0px 1px 3px 1px rgba(60, 64, 67, 0.15);\n",
              "      fill: #174EA6;\n",
              "    }\n",
              "\n",
              "    [theme=dark] .colab-df-convert {\n",
              "      background-color: #3B4455;\n",
              "      fill: #D2E3FC;\n",
              "    }\n",
              "\n",
              "    [theme=dark] .colab-df-convert:hover {\n",
              "      background-color: #434B5C;\n",
              "      box-shadow: 0px 1px 3px 1px rgba(0, 0, 0, 0.15);\n",
              "      filter: drop-shadow(0px 1px 2px rgba(0, 0, 0, 0.3));\n",
              "      fill: #FFFFFF;\n",
              "    }\n",
              "  </style>\n",
              "\n",
              "      <script>\n",
              "        const buttonEl =\n",
              "          document.querySelector('#df-9fbf22b9-2671-4412-af01-b78f3d94f6c0 button.colab-df-convert');\n",
              "        buttonEl.style.display =\n",
              "          google.colab.kernel.accessAllowed ? 'block' : 'none';\n",
              "\n",
              "        async function convertToInteractive(key) {\n",
              "          const element = document.querySelector('#df-9fbf22b9-2671-4412-af01-b78f3d94f6c0');\n",
              "          const dataTable =\n",
              "            await google.colab.kernel.invokeFunction('convertToInteractive',\n",
              "                                                     [key], {});\n",
              "          if (!dataTable) return;\n",
              "\n",
              "          const docLinkHtml = 'Like what you see? Visit the ' +\n",
              "            '<a target=\"_blank\" href=https://colab.research.google.com/notebooks/data_table.ipynb>data table notebook</a>'\n",
              "            + ' to learn more about interactive tables.';\n",
              "          element.innerHTML = '';\n",
              "          dataTable['output_type'] = 'display_data';\n",
              "          await google.colab.output.renderOutput(dataTable, element);\n",
              "          const docLink = document.createElement('div');\n",
              "          docLink.innerHTML = docLinkHtml;\n",
              "          element.appendChild(docLink);\n",
              "        }\n",
              "      </script>\n",
              "    </div>\n",
              "  </div>\n",
              "  "
            ],
            "text/plain": [
              "                   date  sentiment  close_price\n",
              "0   2012-01-01 00:00:00   0.278788         4.58\n",
              "1   2012-01-01 01:00:00   0.000000         4.58\n",
              "2   2012-01-01 02:00:00   0.000000         4.58\n",
              "3   2012-01-01 03:00:00   0.000000         4.58\n",
              "4   2012-01-01 04:00:00   0.000000         4.58\n",
              "5   2012-01-01 05:00:00   0.000000         4.58\n",
              "6   2012-01-01 06:00:00   0.000000         4.58\n",
              "7   2012-01-01 07:00:00   0.000000         4.58\n",
              "8   2012-01-01 08:00:00   0.000000         4.58\n",
              "9   2012-01-01 09:00:00   0.000000         4.58\n",
              "10  2012-01-01 10:00:00   0.000000         4.58\n",
              "11  2012-01-01 11:00:00   0.000000         4.58\n",
              "12  2012-01-01 12:00:00   0.000000         4.58\n",
              "13  2012-01-01 13:00:00   0.000000         4.58\n",
              "14  2012-01-01 14:00:00   0.000000         4.58\n",
              "15  2012-01-01 15:00:00   0.000000         4.58\n",
              "16  2012-01-01 16:00:00   0.285714         4.84\n",
              "17  2012-01-01 17:00:00   0.000000         4.84\n",
              "18  2012-01-01 18:00:00   0.000000         4.84\n",
              "19  2012-01-01 19:00:00   0.000000         4.84\n",
              "20  2012-01-01 20:00:00   0.500000         4.84\n",
              "21  2012-01-01 21:00:00   0.000000         4.84\n",
              "22  2012-01-01 22:00:00   0.000000         4.84\n",
              "23  2012-01-01 23:00:00   0.000000         5.00"
            ]
          },
          "execution_count": 52,
          "metadata": {},
          "output_type": "execute_result"
        }
      ],
      "source": [
        "df.head(24)"
      ]
    },
    {
      "cell_type": "code",
      "execution_count": null,
      "id": "_nlbJdUUM4oW",
      "metadata": {
        "colab": {
          "base_uri": "https://localhost:8080/"
        },
        "id": "_nlbJdUUM4oW",
        "outputId": "7acae453-b44a-4f58-abbe-bbff5f168a0f"
      },
      "outputs": [
        {
          "name": "stdout",
          "output_type": "stream",
          "text": [
            "price = 69276\n",
            "tweets = 69276\n"
          ]
        }
      ],
      "source": [
        "print(\"price = \" + str(len(price_df)))\n",
        "print(\"tweets = \" + str(len(tweet_df)))"
      ]
    },
    {
      "cell_type": "code",
      "execution_count": null,
      "id": "C24wmeVIUbwb",
      "metadata": {
        "id": "C24wmeVIUbwb"
      },
      "outputs": [],
      "source": [
        "price_df.to_csv(path + \"final_price.csv\", index=False)\n",
        "tweet_df.to_csv(path + \"final_tweets.csv\", index=False)"
      ]
    },
    {
      "cell_type": "code",
      "execution_count": null,
      "id": "X-NZBVzcUb5g",
      "metadata": {
        "id": "X-NZBVzcUb5g"
      },
      "outputs": [],
      "source": [
        "df.to_csv(path + \"final_merged_dataset.csv\", index=False)"
      ]
    },
    {
      "cell_type": "code",
      "execution_count": null,
      "id": "dddf1442",
      "metadata": {
        "colab": {
          "base_uri": "https://localhost:8080/"
        },
        "id": "dddf1442",
        "outputId": "02fdf1f4-b7fe-4670-8542-f97713797e1e"
      },
      "outputs": [
        {
          "name": "stdout",
          "output_type": "stream",
          "text": [
            "<class 'pandas.core.frame.DataFrame'>\n",
            "Int64Index: 69276 entries, 0 to 69275\n",
            "Data columns (total 3 columns):\n",
            " #   Column       Non-Null Count  Dtype  \n",
            "---  ------       --------------  -----  \n",
            " 0   date         69276 non-null  object \n",
            " 1   sentiment    69276 non-null  float64\n",
            " 2   close_price  69276 non-null  float64\n",
            "dtypes: float64(2), object(1)\n",
            "memory usage: 2.1+ MB\n"
          ]
        }
      ],
      "source": [
        "# Using data from Amazon's stock.\n",
        "#df = pd.read_csv(path + 'Bitcoin.csv')\n",
        "df.info()"
      ]
    },
    {
      "cell_type": "code",
      "execution_count": null,
      "id": "0ddc86a6",
      "metadata": {
        "colab": {
          "base_uri": "https://localhost:8080/",
          "height": 206
        },
        "id": "0ddc86a6",
        "outputId": "cc73a13a-454e-409d-8c29-5b9cc7e29d54"
      },
      "outputs": [
        {
          "data": {
            "text/html": [
              "\n",
              "  <div id=\"df-4050dfd1-2446-4899-9e01-19eb767d5cd8\">\n",
              "    <div class=\"colab-df-container\">\n",
              "      <div>\n",
              "<style scoped>\n",
              "    .dataframe tbody tr th:only-of-type {\n",
              "        vertical-align: middle;\n",
              "    }\n",
              "\n",
              "    .dataframe tbody tr th {\n",
              "        vertical-align: top;\n",
              "    }\n",
              "\n",
              "    .dataframe thead th {\n",
              "        text-align: right;\n",
              "    }\n",
              "</style>\n",
              "<table border=\"1\" class=\"dataframe\">\n",
              "  <thead>\n",
              "    <tr style=\"text-align: right;\">\n",
              "      <th></th>\n",
              "      <th>date</th>\n",
              "      <th>sentiment</th>\n",
              "      <th>close_price</th>\n",
              "    </tr>\n",
              "  </thead>\n",
              "  <tbody>\n",
              "    <tr>\n",
              "      <th>0</th>\n",
              "      <td>2012-01-01 00:00:00</td>\n",
              "      <td>0.278788</td>\n",
              "      <td>4.58</td>\n",
              "    </tr>\n",
              "    <tr>\n",
              "      <th>1</th>\n",
              "      <td>2012-01-01 01:00:00</td>\n",
              "      <td>0.000000</td>\n",
              "      <td>4.58</td>\n",
              "    </tr>\n",
              "    <tr>\n",
              "      <th>2</th>\n",
              "      <td>2012-01-01 02:00:00</td>\n",
              "      <td>0.000000</td>\n",
              "      <td>4.58</td>\n",
              "    </tr>\n",
              "    <tr>\n",
              "      <th>3</th>\n",
              "      <td>2012-01-01 03:00:00</td>\n",
              "      <td>0.000000</td>\n",
              "      <td>4.58</td>\n",
              "    </tr>\n",
              "    <tr>\n",
              "      <th>4</th>\n",
              "      <td>2012-01-01 04:00:00</td>\n",
              "      <td>0.000000</td>\n",
              "      <td>4.58</td>\n",
              "    </tr>\n",
              "  </tbody>\n",
              "</table>\n",
              "</div>\n",
              "      <button class=\"colab-df-convert\" onclick=\"convertToInteractive('df-4050dfd1-2446-4899-9e01-19eb767d5cd8')\"\n",
              "              title=\"Convert this dataframe to an interactive table.\"\n",
              "              style=\"display:none;\">\n",
              "        \n",
              "  <svg xmlns=\"http://www.w3.org/2000/svg\" height=\"24px\"viewBox=\"0 0 24 24\"\n",
              "       width=\"24px\">\n",
              "    <path d=\"M0 0h24v24H0V0z\" fill=\"none\"/>\n",
              "    <path d=\"M18.56 5.44l.94 2.06.94-2.06 2.06-.94-2.06-.94-.94-2.06-.94 2.06-2.06.94zm-11 1L8.5 8.5l.94-2.06 2.06-.94-2.06-.94L8.5 2.5l-.94 2.06-2.06.94zm10 10l.94 2.06.94-2.06 2.06-.94-2.06-.94-.94-2.06-.94 2.06-2.06.94z\"/><path d=\"M17.41 7.96l-1.37-1.37c-.4-.4-.92-.59-1.43-.59-.52 0-1.04.2-1.43.59L10.3 9.45l-7.72 7.72c-.78.78-.78 2.05 0 2.83L4 21.41c.39.39.9.59 1.41.59.51 0 1.02-.2 1.41-.59l7.78-7.78 2.81-2.81c.8-.78.8-2.07 0-2.86zM5.41 20L4 18.59l7.72-7.72 1.47 1.35L5.41 20z\"/>\n",
              "  </svg>\n",
              "      </button>\n",
              "      \n",
              "  <style>\n",
              "    .colab-df-container {\n",
              "      display:flex;\n",
              "      flex-wrap:wrap;\n",
              "      gap: 12px;\n",
              "    }\n",
              "\n",
              "    .colab-df-convert {\n",
              "      background-color: #E8F0FE;\n",
              "      border: none;\n",
              "      border-radius: 50%;\n",
              "      cursor: pointer;\n",
              "      display: none;\n",
              "      fill: #1967D2;\n",
              "      height: 32px;\n",
              "      padding: 0 0 0 0;\n",
              "      width: 32px;\n",
              "    }\n",
              "\n",
              "    .colab-df-convert:hover {\n",
              "      background-color: #E2EBFA;\n",
              "      box-shadow: 0px 1px 2px rgba(60, 64, 67, 0.3), 0px 1px 3px 1px rgba(60, 64, 67, 0.15);\n",
              "      fill: #174EA6;\n",
              "    }\n",
              "\n",
              "    [theme=dark] .colab-df-convert {\n",
              "      background-color: #3B4455;\n",
              "      fill: #D2E3FC;\n",
              "    }\n",
              "\n",
              "    [theme=dark] .colab-df-convert:hover {\n",
              "      background-color: #434B5C;\n",
              "      box-shadow: 0px 1px 3px 1px rgba(0, 0, 0, 0.15);\n",
              "      filter: drop-shadow(0px 1px 2px rgba(0, 0, 0, 0.3));\n",
              "      fill: #FFFFFF;\n",
              "    }\n",
              "  </style>\n",
              "\n",
              "      <script>\n",
              "        const buttonEl =\n",
              "          document.querySelector('#df-4050dfd1-2446-4899-9e01-19eb767d5cd8 button.colab-df-convert');\n",
              "        buttonEl.style.display =\n",
              "          google.colab.kernel.accessAllowed ? 'block' : 'none';\n",
              "\n",
              "        async function convertToInteractive(key) {\n",
              "          const element = document.querySelector('#df-4050dfd1-2446-4899-9e01-19eb767d5cd8');\n",
              "          const dataTable =\n",
              "            await google.colab.kernel.invokeFunction('convertToInteractive',\n",
              "                                                     [key], {});\n",
              "          if (!dataTable) return;\n",
              "\n",
              "          const docLinkHtml = 'Like what you see? Visit the ' +\n",
              "            '<a target=\"_blank\" href=https://colab.research.google.com/notebooks/data_table.ipynb>data table notebook</a>'\n",
              "            + ' to learn more about interactive tables.';\n",
              "          element.innerHTML = '';\n",
              "          dataTable['output_type'] = 'display_data';\n",
              "          await google.colab.output.renderOutput(dataTable, element);\n",
              "          const docLink = document.createElement('div');\n",
              "          docLink.innerHTML = docLinkHtml;\n",
              "          element.appendChild(docLink);\n",
              "        }\n",
              "      </script>\n",
              "    </div>\n",
              "  </div>\n",
              "  "
            ],
            "text/plain": [
              "                  date  sentiment  close_price\n",
              "0  2012-01-01 00:00:00   0.278788         4.58\n",
              "1  2012-01-01 01:00:00   0.000000         4.58\n",
              "2  2012-01-01 02:00:00   0.000000         4.58\n",
              "3  2012-01-01 03:00:00   0.000000         4.58\n",
              "4  2012-01-01 04:00:00   0.000000         4.58"
            ]
          },
          "execution_count": 48,
          "metadata": {},
          "output_type": "execute_result"
        }
      ],
      "source": [
        "df.head(5)"
      ]
    },
    {
      "cell_type": "code",
      "execution_count": null,
      "id": "EG2HvfVWU3hk",
      "metadata": {
        "id": "EG2HvfVWU3hk"
      },
      "outputs": [],
      "source": [
        "df = pd.read_csv(\"final_merged_dataset.csv\")"
      ]
    },
    {
      "cell_type": "code",
      "execution_count": null,
      "id": "7_eDtYePMpFQ",
      "metadata": {
        "colab": {
          "base_uri": "https://localhost:8080/"
        },
        "id": "7_eDtYePMpFQ",
        "outputId": "e73a4e07-bb49-48d3-a47d-59b3fd82b289"
      },
      "outputs": [
        {
          "data": {
            "text/plain": [
              "69276"
            ]
          },
          "execution_count": 11,
          "metadata": {},
          "output_type": "execute_result"
        }
      ],
      "source": [
        "len(df)"
      ]
    },
    {
      "cell_type": "code",
      "execution_count": null,
      "id": "c890609f",
      "metadata": {
        "colab": {
          "base_uri": "https://localhost:8080/"
        },
        "id": "c890609f",
        "outputId": "24fed61b-370e-486a-f15b-0fe1d65d19cb"
      },
      "outputs": [
        {
          "data": {
            "text/plain": [
              "date           0\n",
              "sentiment      0\n",
              "close_price    0\n",
              "dtype: int64"
            ]
          },
          "execution_count": 12,
          "metadata": {},
          "output_type": "execute_result"
        }
      ],
      "source": [
        "#check for null values \n",
        "df.isnull().sum()"
      ]
    },
    {
      "cell_type": "code",
      "execution_count": null,
      "id": "2953ce49",
      "metadata": {
        "colab": {
          "base_uri": "https://localhost:8080/",
          "height": 517
        },
        "id": "2953ce49",
        "outputId": "167fe985-73b6-4e51-937e-1a8bf3ad543f"
      },
      "outputs": [
        {
          "data": {
            "image/png": "[encoded data removed]",
            "text/plain": [
              "<Figure size 1152x576 with 1 Axes>"
            ]
          },
          "metadata": {
            "needs_background": "light"
          },
          "output_type": "display_data"
        }
      ],
      "source": [
        "# Visualizing the opening prices of the data.\n",
        "plt.figure(figsize=(16,8))\n",
        "plt.title('Bitcoin Price')\n",
        "plt.xlabel('Hours')\n",
        "plt.ylabel('Close Price USD ($)')\n",
        "plt.plot(df['close_price'])\n",
        "plt.show()"
      ]
    },
    {
      "cell_type": "code",
      "execution_count": null,
      "id": "c9a4f466",
      "metadata": {
        "id": "c9a4f466"
      },
      "outputs": [],
      "source": [
        "df_c = df['close_price']"
      ]
    },
    {
      "cell_type": "code",
      "execution_count": null,
      "id": "4226c19d",
      "metadata": {
        "id": "4226c19d"
      },
      "outputs": [],
      "source": [
        "df_c = pd.DataFrame(df_c)"
      ]
    },
    {
      "cell_type": "code",
      "execution_count": null,
      "id": "70893c31",
      "metadata": {
        "colab": {
          "base_uri": "https://localhost:8080/"
        },
        "id": "70893c31",
        "outputId": "1d8274f1-5937-4836-e8a1-da7270c730c1"
      },
      "outputs": [
        {
          "name": "stdout",
          "output_type": "stream",
          "text": [
            "<class 'pandas.core.frame.DataFrame'>\n",
            "RangeIndex: 69276 entries, 0 to 69275\n",
            "Data columns (total 1 columns):\n",
            " #   Column       Non-Null Count  Dtype  \n",
            "---  ------       --------------  -----  \n",
            " 0   close_price  69276 non-null  float64\n",
            "dtypes: float64(1)\n",
            "memory usage: 541.3 KB\n"
          ]
        }
      ],
      "source": [
        "df_c.info()"
      ]
    },
    {
      "cell_type": "code",
      "execution_count": null,
      "id": "45c2b0a2",
      "metadata": {
        "id": "45c2b0a2"
      },
      "outputs": [],
      "source": [
        "# Prediction 1000 hours into the future.\n",
        "future_hours = 10000\n",
        "df_c['Prediction'] = df_c['close_price'].shift(-future_hours)"
      ]
    },
    {
      "cell_type": "code",
      "execution_count": null,
      "id": "b86f2dd7",
      "metadata": {
        "colab": {
          "base_uri": "https://localhost:8080/"
        },
        "id": "b86f2dd7",
        "outputId": "7d08dca0-76a6-4b4a-8255-f1513e816ae7"
      },
      "outputs": [
        {
          "name": "stdout",
          "output_type": "stream",
          "text": [
            "<class 'pandas.core.frame.DataFrame'>\n",
            "RangeIndex: 69276 entries, 0 to 69275\n",
            "Data columns (total 2 columns):\n",
            " #   Column       Non-Null Count  Dtype  \n",
            "---  ------       --------------  -----  \n",
            " 0   close_price  69276 non-null  float64\n",
            " 1   Prediction   59276 non-null  float64\n",
            "dtypes: float64(2)\n",
            "memory usage: 1.1 MB\n",
            "None\n"
          ]
        },
        {
          "data": {
            "text/plain": [
              "close_price        0\n",
              "Prediction     10000\n",
              "dtype: int64"
            ]
          },
          "execution_count": 17,
          "metadata": {},
          "output_type": "execute_result"
        }
      ],
      "source": [
        "df_c.tail()\n",
        "print(df_c.info())\n",
        "df_c.isnull().sum()"
      ]
    },
    {
      "cell_type": "code",
      "execution_count": null,
      "id": "aee268df",
      "metadata": {
        "colab": {
          "base_uri": "https://localhost:8080/"
        },
        "id": "aee268df",
        "outputId": "aa8caad5-312a-4dfd-82bd-8b43534117b1"
      },
      "outputs": [
        {
          "name": "stdout",
          "output_type": "stream",
          "text": [
            "[[4.58000e+00]\n",
            " [4.58000e+00]\n",
            " [4.58000e+00]\n",
            " ...\n",
            " [6.53809e+03]\n",
            " [6.48358e+03]\n",
            " [6.46882e+03]]\n"
          ]
        },
        {
          "name": "stderr",
          "output_type": "stream",
          "text": [
            "/usr/local/lib/python3.7/dist-packages/ipykernel_launcher.py:1: FutureWarning: In a future version of pandas all arguments of DataFrame.drop except for the argument 'labels' will be keyword-only\n",
            "  \"\"\"Entry point for launching an IPython kernel.\n"
          ]
        }
      ],
      "source": [
        "Z = np.array(df_c.drop(['Prediction'], 1))[:-future_hours]\n",
        "print(Z)"
      ]
    },
    {
      "cell_type": "code",
      "execution_count": null,
      "id": "U69bB1zIhBK2",
      "metadata": {
        "colab": {
          "base_uri": "https://localhost:8080/"
        },
        "id": "U69bB1zIhBK2",
        "outputId": "4f642f07-bbab-423d-86d9-543ef9169402"
      },
      "outputs": [
        {
          "name": "stdout",
          "output_type": "stream",
          "text": [
            "59276\n"
          ]
        }
      ],
      "source": [
        "print(len(Z))"
      ]
    },
    {
      "cell_type": "code",
      "execution_count": null,
      "id": "e2966027",
      "metadata": {
        "colab": {
          "base_uri": "https://localhost:8080/"
        },
        "id": "e2966027",
        "outputId": "2783dde0-6133-4066-d6b6-35c847287824"
      },
      "outputs": [
        {
          "name": "stdout",
          "output_type": "stream",
          "text": [
            "59276\n"
          ]
        }
      ],
      "source": [
        "P = np.array(df_c['Prediction'])[:-future_hours]\n",
        "print(len(P))"
      ]
    },
    {
      "cell_type": "code",
      "execution_count": null,
      "id": "wB4j1DSRdNMU",
      "metadata": {
        "colab": {
          "base_uri": "https://localhost:8080/"
        },
        "id": "wB4j1DSRdNMU",
        "outputId": "818f01fd-42af-4cb6-f943-34b1348b86f5"
      },
      "outputs": [
        {
          "name": "stdout",
          "output_type": "stream",
          "text": [
            "59276\n"
          ]
        }
      ],
      "source": [
        "print(len(P))"
      ]
    },
    {
      "cell_type": "code",
      "execution_count": null,
      "id": "ITe1whFNcXft",
      "metadata": {
        "colab": {
          "base_uri": "https://localhost:8080/"
        },
        "id": "ITe1whFNcXft",
        "outputId": "ab543cb2-9c86-4e75-ecc2-5def191f0125"
      },
      "outputs": [
        {
          "name": "stdout",
          "output_type": "stream",
          "text": [
            "59276\n"
          ]
        }
      ],
      "source": [
        "print(len(Z))"
      ]
    },
    {
      "cell_type": "code",
      "execution_count": null,
      "id": "hZWRz7dZfiK5",
      "metadata": {
        "id": "hZWRz7dZfiK5"
      },
      "outputs": [],
      "source": [
        "data = df"
      ]
    },
    {
      "cell_type": "code",
      "execution_count": null,
      "id": "wIj6qhCCfiN-",
      "metadata": {
        "id": "wIj6qhCCfiN-"
      },
      "outputs": [],
      "source": [
        "time_len = data.shape[0]"
      ]
    },
    {
      "cell_type": "code",
      "execution_count": null,
      "id": "EqewIxbDfiRM",
      "metadata": {
        "id": "EqewIxbDfiRM"
      },
      "outputs": [],
      "source": [
        "x = data.filter(['sentiment', \"close_price\"])"
      ]
    },
    {
      "cell_type": "code",
      "execution_count": null,
      "id": "sFMKIeiXgLbp",
      "metadata": {
        "id": "sFMKIeiXgLbp"
      },
      "outputs": [],
      "source": [
        "from sklearn.preprocessing import LabelEncoder"
      ]
    },
    {
      "cell_type": "code",
      "execution_count": null,
      "id": "_w4v7cHRfiUB",
      "metadata": {
        "colab": {
          "base_uri": "https://localhost:8080/"
        },
        "id": "_w4v7cHRfiUB",
        "outputId": "8738cc66-8584-425d-d366-a6c167024b4a"
      },
      "outputs": [
        {
          "name": "stdout",
          "output_type": "stream",
          "text": [
            "[[6.39393939e-01 2.24702116e-05]\n",
            " [5.00000000e-01 2.24702116e-05]\n",
            " [5.00000000e-01 2.24702116e-05]\n",
            " ...\n",
            " [5.00000000e-01 3.83010375e-01]\n",
            " [5.00000000e-01 3.83938803e-01]\n",
            " [5.00000000e-01 3.85545424e-01]]\n"
          ]
        }
      ],
      "source": [
        "from sklearn import preprocessing\n",
        "\n",
        "xx = x.values #returns a numpy array\n",
        "min_max_scaler = preprocessing.MinMaxScaler()\n",
        "x_scaled = min_max_scaler.fit_transform(xx)\n",
        "#df = pd.DataFrame(x_scaled)\n",
        "print(x_scaled)"
      ]
    },
    {
      "cell_type": "code",
      "execution_count": null,
      "id": "i0YPZ0XjfiXC",
      "metadata": {
        "colab": {
          "base_uri": "https://localhost:8080/"
        },
        "id": "i0YPZ0XjfiXC",
        "outputId": "636848d6-678d-4437-f5c1-7d56c05781ff"
      },
      "outputs": [
        {
          "name": "stdout",
          "output_type": "stream",
          "text": [
            "   var1(t-2)  var2(t-2)  var1(t-1)  var2(t-1)  var1(t)   var2(t)\n",
            "2   0.639394   0.000508        0.5   0.000508      0.5  0.000508\n",
            "3   0.500000   0.000508        0.5   0.000508      0.5  0.000508\n",
            "4   0.500000   0.000508        0.5   0.000508      0.5  0.000508\n",
            "5   0.500000   0.000508        0.5   0.000508      0.5  0.000508\n",
            "6   0.500000   0.000508        0.5   0.000508      0.5  0.000508\n"
          ]
        }
      ],
      "source": [
        "encoder = LabelEncoder()\n",
        "xx[:,1] = encoder.fit_transform(xx[:,1])\n",
        "# ensure all data is float\n",
        "xx = xx.astype('float32')\n",
        "# normalize feature\n",
        "scaler = preprocessing.MinMaxScaler(feature_range=(0, 1))\n",
        "scaled = scaler.fit_transform(xx)\n",
        "# frame as supervised learning\n",
        "reframed = series_to_supervised(scaled, 2, 1)\n",
        "# drop columns we don't want to predict\n",
        "print(reframed.head())"
      ]
    },
    {
      "cell_type": "code",
      "execution_count": null,
      "id": "84cNa3_8fiZz",
      "metadata": {
        "id": "84cNa3_8fiZz"
      },
      "outputs": [],
      "source": [
        "import keras\n",
        "from keras.datasets import reuters, imdb\n",
        "from keras.models import Sequential\n",
        "from keras.layers import LSTM, SimpleRNN, GRU, Dense, Dropout, Activation, Embedding, ConvLSTM2D,Bidirectional, Conv2D,Conv1D\n",
        "from keras.preprocessing.text import Tokenizer\n",
        "from keras.preprocessing import sequence\n",
        "from sklearn.model_selection import train_test_split\n",
        "from sklearn.metrics import mean_squared_error\n",
        "from sklearn import metrics\n",
        "from keras import metrics as met2\n",
        "import math\n",
        "from numpy import concatenate"
      ]
    },
    {
      "cell_type": "code",
      "execution_count": null,
      "id": "EVrYxk3-fib4",
      "metadata": {
        "colab": {
          "base_uri": "https://localhost:8080/"
        },
        "id": "EVrYxk3-fib4",
        "outputId": "7195edfd-c8a8-4cd0-b583-4371a1bec1a9"
      },
      "outputs": [
        {
          "name": "stdout",
          "output_type": "stream",
          "text": [
            "69274\n",
            "(69274, 6)\n",
            "(69274, 6) (69274,)\n",
            "(55419, 6, 1)\n"
          ]
        }
      ],
      "source": [
        "labels = reframed.values[:,-1]\n",
        "print(len(labels))\n",
        "#labels = labels.astype('int')\n",
        "print(reframed.shape)\n",
        "features = reframed.values[:,:8]\n",
        "print(features.shape,labels.shape)\n",
        "x_train, x_test, y_train, y_test = train_test_split(features, labels, test_size=0.2)\n",
        "x_train = x_train.reshape((x_train.shape[0], 6, 1))\n",
        "x_test = x_test.reshape((x_test.shape[0],6, 1))\n",
        "print(x_train.shape)"
      ]
    },
    {
      "cell_type": "code",
      "execution_count": null,
      "id": "ZN9IdRiIfidy",
      "metadata": {
        "colab": {
          "base_uri": "https://localhost:8080/"
        },
        "id": "ZN9IdRiIfidy",
        "outputId": "9d15bd3d-4f34-4a00-8416-19cc05e0bf7e"
      },
      "outputs": [
        {
          "name": "stdout",
          "output_type": "stream",
          "text": [
            "Model: \"sequential\"\n",
            "_________________________________________________________________\n",
            " Layer (type)                Output Shape              Param #   \n",
            "=================================================================\n",
            " bidirectional (Bidirectiona  (None, 200)              81600     \n",
            " l)                                                              \n",
            "                                                                 \n",
            " dropout (Dropout)           (None, 200)               0         \n",
            "                                                                 \n",
            " dense (Dense)               (None, 1)                 201       \n",
            "                                                                 \n",
            " activation (Activation)     (None, 1)                 0         \n",
            "                                                                 \n",
            "=================================================================\n",
            "Total params: 81,801\n",
            "Trainable params: 81,801\n",
            "Non-trainable params: 0\n",
            "_________________________________________________________________\n",
            "None\n"
          ]
        }
      ],
      "source": [
        "# design network\n",
        "#for i in range(1,10):\n",
        "model = Sequential()\n",
        "#model.add(Conv2D(100, 2, activation='relu'))\n",
        "#model.add(SimpleRNN(32))\n",
        "model.add(Bidirectional(LSTM(100), input_shape=(x_train.shape[1], x_train.shape[2])))\n",
        "#model.add(ConvLSTM2D(2,kernel_size = (3,3),input_shape =(None,x_train.shape[1], x_train.shape[2],1) ,padding='same', return_sequences=True))\n",
        "model.add(Dropout(0.2))\n",
        "model.add(Dense(1))\n",
        "model.add(Activation(\"sigmoid\"))\n",
        "model.compile(loss='binary_crossentropy', metrics=[met2.binary_accuracy], optimizer='adam')\n",
        "# fit network\n",
        "history = model.fit(x_train, y_train, epochs=100, batch_size=100, validation_data=(x_test, y_test), verbose=0, shuffle=False)\n",
        "# plot history\n",
        "print(model.summary())"
      ]
    },
    {
      "cell_type": "code",
      "execution_count": null,
      "id": "Cj2WoZVNfifw",
      "metadata": {
        "colab": {
          "base_uri": "https://localhost:8080/",
          "height": 265
        },
        "id": "Cj2WoZVNfifw",
        "outputId": "9e115e6b-347f-451f-d59d-6f944ab81be4"
      },
      "outputs": [
        {
          "data": {
            "image/png": "[encoded data removed]",
            "text/plain": [
              "<Figure size 432x288 with 1 Axes>"
            ]
          },
          "metadata": {
            "needs_background": "light"
          },
          "output_type": "display_data"
        }
      ],
      "source": [
        "from matplotlib import pyplot\n",
        "pyplot.plot(history.history['loss'], label='train')\n",
        "pyplot.show()"
      ]
    },
    {
      "cell_type": "code",
      "execution_count": null,
      "id": "qajpVGAafiiJ",
      "metadata": {
        "colab": {
          "base_uri": "https://localhost:8080/"
        },
        "id": "qajpVGAafiiJ",
        "outputId": "ea3619ac-fe4e-4a8a-d2f1-f0aaf2120dd7"
      },
      "outputs": [
        {
          "name": "stdout",
          "output_type": "stream",
          "text": [
            "Test RMSE: 0.003\n"
          ]
        }
      ],
      "source": [
        "# make a prediction\n",
        "\n",
        "yhat = model.predict(x_test)\n",
        "rmse = math.sqrt(mean_squared_error(y_test, yhat))\n",
        "print('Test RMSE: %.3f' % rmse)"
      ]
    },
    {
      "cell_type": "code",
      "execution_count": null,
      "id": "yzwsF4Qffikl",
      "metadata": {
        "id": "yzwsF4Qffikl"
      },
      "outputs": [],
      "source": [
        "yhat = yhat.astype(\"float64\")\n",
        "y2 = yhat\n",
        "for i in range(yhat.shape[0]):\n",
        "    if y2[i] >0.5:\n",
        "        y2[i] = 1\n",
        "    else:\n",
        "        y2[i] = 0\n",
        "matrix = metrics.confusion_matrix(y_test,yhat)\n",
        "#acc = met2.binary_accuracy(y_test,keras.backend.round(yhat),threshold=0.5)\n",
        "print(matrix)\n",
        "#print(acc)\n",
        "\n",
        "score = model.evaluate(x_test, y_test, batch_size=72, verbose=1)\n",
        "print('Test score:', score[1])"
      ]
    },
    {
      "cell_type": "code",
      "execution_count": null,
      "id": "uAQ7iCf3Z6Yc",
      "metadata": {
        "colab": {
          "base_uri": "https://localhost:8080/",
          "height": 237
        },
        "id": "uAQ7iCf3Z6Yc",
        "outputId": "0e9131da-24f1-48a5-dd4d-6384668f6ae7"
      },
      "outputs": [
        {
          "data": {
            "text/html": [
              "\n",
              "  <div id=\"df-30fc1235-7639-4102-a495-acf468432716\">\n",
              "    <div class=\"colab-df-container\">\n",
              "      <div>\n",
              "<style scoped>\n",
              "    .dataframe tbody tr th:only-of-type {\n",
              "        vertical-align: middle;\n",
              "    }\n",
              "\n",
              "    .dataframe tbody tr th {\n",
              "        vertical-align: top;\n",
              "    }\n",
              "\n",
              "    .dataframe thead th {\n",
              "        text-align: right;\n",
              "    }\n",
              "</style>\n",
              "<table border=\"1\" class=\"dataframe\">\n",
              "  <thead>\n",
              "    <tr style=\"text-align: right;\">\n",
              "      <th></th>\n",
              "      <th>close_price</th>\n",
              "      <th>sentiment</th>\n",
              "    </tr>\n",
              "    <tr>\n",
              "      <th>date</th>\n",
              "      <th></th>\n",
              "      <th></th>\n",
              "    </tr>\n",
              "  </thead>\n",
              "  <tbody>\n",
              "    <tr>\n",
              "      <th>2012-01-01 00:00:00</th>\n",
              "      <td>4.58</td>\n",
              "      <td>0.278788</td>\n",
              "    </tr>\n",
              "    <tr>\n",
              "      <th>2012-01-01 01:00:00</th>\n",
              "      <td>4.58</td>\n",
              "      <td>0.000000</td>\n",
              "    </tr>\n",
              "    <tr>\n",
              "      <th>2012-01-01 02:00:00</th>\n",
              "      <td>4.58</td>\n",
              "      <td>0.000000</td>\n",
              "    </tr>\n",
              "    <tr>\n",
              "      <th>2012-01-01 03:00:00</th>\n",
              "      <td>4.58</td>\n",
              "      <td>0.000000</td>\n",
              "    </tr>\n",
              "    <tr>\n",
              "      <th>2012-01-01 04:00:00</th>\n",
              "      <td>4.58</td>\n",
              "      <td>0.000000</td>\n",
              "    </tr>\n",
              "  </tbody>\n",
              "</table>\n",
              "</div>\n",
              "      <button class=\"colab-df-convert\" onclick=\"convertToInteractive('df-30fc1235-7639-4102-a495-acf468432716')\"\n",
              "              title=\"Convert this dataframe to an interactive table.\"\n",
              "              style=\"display:none;\">\n",
              "        \n",
              "  <svg xmlns=\"http://www.w3.org/2000/svg\" height=\"24px\"viewBox=\"0 0 24 24\"\n",
              "       width=\"24px\">\n",
              "    <path d=\"M0 0h24v24H0V0z\" fill=\"none\"/>\n",
              "    <path d=\"M18.56 5.44l.94 2.06.94-2.06 2.06-.94-2.06-.94-.94-2.06-.94 2.06-2.06.94zm-11 1L8.5 8.5l.94-2.06 2.06-.94-2.06-.94L8.5 2.5l-.94 2.06-2.06.94zm10 10l.94 2.06.94-2.06 2.06-.94-2.06-.94-.94-2.06-.94 2.06-2.06.94z\"/><path d=\"M17.41 7.96l-1.37-1.37c-.4-.4-.92-.59-1.43-.59-.52 0-1.04.2-1.43.59L10.3 9.45l-7.72 7.72c-.78.78-.78 2.05 0 2.83L4 21.41c.39.39.9.59 1.41.59.51 0 1.02-.2 1.41-.59l7.78-7.78 2.81-2.81c.8-.78.8-2.07 0-2.86zM5.41 20L4 18.59l7.72-7.72 1.47 1.35L5.41 20z\"/>\n",
              "  </svg>\n",
              "      </button>\n",
              "      \n",
              "  <style>\n",
              "    .colab-df-container {\n",
              "      display:flex;\n",
              "      flex-wrap:wrap;\n",
              "      gap: 12px;\n",
              "    }\n",
              "\n",
              "    .colab-df-convert {\n",
              "      background-color: #E8F0FE;\n",
              "      border: none;\n",
              "      border-radius: 50%;\n",
              "      cursor: pointer;\n",
              "      display: none;\n",
              "      fill: #1967D2;\n",
              "      height: 32px;\n",
              "      padding: 0 0 0 0;\n",
              "      width: 32px;\n",
              "    }\n",
              "\n",
              "    .colab-df-convert:hover {\n",
              "      background-color: #E2EBFA;\n",
              "      box-shadow: 0px 1px 2px rgba(60, 64, 67, 0.3), 0px 1px 3px 1px rgba(60, 64, 67, 0.15);\n",
              "      fill: #174EA6;\n",
              "    }\n",
              "\n",
              "    [theme=dark] .colab-df-convert {\n",
              "      background-color: #3B4455;\n",
              "      fill: #D2E3FC;\n",
              "    }\n",
              "\n",
              "    [theme=dark] .colab-df-convert:hover {\n",
              "      background-color: #434B5C;\n",
              "      box-shadow: 0px 1px 3px 1px rgba(0, 0, 0, 0.15);\n",
              "      filter: drop-shadow(0px 1px 2px rgba(0, 0, 0, 0.3));\n",
              "      fill: #FFFFFF;\n",
              "    }\n",
              "  </style>\n",
              "\n",
              "      <script>\n",
              "        const buttonEl =\n",
              "          document.querySelector('#df-30fc1235-7639-4102-a495-acf468432716 button.colab-df-convert');\n",
              "        buttonEl.style.display =\n",
              "          google.colab.kernel.accessAllowed ? 'block' : 'none';\n",
              "\n",
              "        async function convertToInteractive(key) {\n",
              "          const element = document.querySelector('#df-30fc1235-7639-4102-a495-acf468432716');\n",
              "          const dataTable =\n",
              "            await google.colab.kernel.invokeFunction('convertToInteractive',\n",
              "                                                     [key], {});\n",
              "          if (!dataTable) return;\n",
              "\n",
              "          const docLinkHtml = 'Like what you see? Visit the ' +\n",
              "            '<a target=\"_blank\" href=https://colab.research.google.com/notebooks/data_table.ipynb>data table notebook</a>'\n",
              "            + ' to learn more about interactive tables.';\n",
              "          element.innerHTML = '';\n",
              "          dataTable['output_type'] = 'display_data';\n",
              "          await google.colab.output.renderOutput(dataTable, element);\n",
              "          const docLink = document.createElement('div');\n",
              "          docLink.innerHTML = docLinkHtml;\n",
              "          element.appendChild(docLink);\n",
              "        }\n",
              "      </script>\n",
              "    </div>\n",
              "  </div>\n",
              "  "
            ],
            "text/plain": [
              "                     close_price  sentiment\n",
              "date                                       \n",
              "2012-01-01 00:00:00         4.58   0.278788\n",
              "2012-01-01 01:00:00         4.58   0.000000\n",
              "2012-01-01 02:00:00         4.58   0.000000\n",
              "2012-01-01 03:00:00         4.58   0.000000\n",
              "2012-01-01 04:00:00         4.58   0.000000"
            ]
          },
          "execution_count": 13,
          "metadata": {},
          "output_type": "execute_result"
        }
      ],
      "source": [
        "df.set_index('date',inplace=True)  #making DateTime as index. Because we are doing Time series Analysis\n",
        "cols = df.columns.tolist()\n",
        "cols = cols[-1:] + cols[:-1]   #just making the price as the first column\n",
        "df = df[cols]\n",
        "df.head()"
      ]
    },
    {
      "cell_type": "code",
      "execution_count": null,
      "id": "y9HgcA3xaVN3",
      "metadata": {
        "id": "y9HgcA3xaVN3"
      },
      "outputs": [],
      "source": [
        "from sklearn.preprocessing import MinMaxScaler"
      ]
    },
    {
      "cell_type": "code",
      "execution_count": null,
      "id": "b_4hnfjnaj8N",
      "metadata": {
        "id": "b_4hnfjnaj8N"
      },
      "outputs": [],
      "source": [
        "def series_to_supervised(data, n_in=1, n_out=1, dropnan=True):\n",
        "    n_vars = 1 if type(data) is list else data.shape[1]\n",
        "    df = pd.DataFrame(data)\n",
        "    cols, names = list(), list()\n",
        "    # input sequence (t-n, ... t-1)\n",
        "    for i in range(n_in, 0, -1):\n",
        "        cols.append(df.shift(i))\n",
        "        names += [('var%d(t-%d)' % (j+1, i)) for j in range(n_vars)]\n",
        "    # forecast sequence (t, t+1, ... t+n)\n",
        "    for i in range(0, n_out):\n",
        "        cols.append(df.shift(-i))\n",
        "        if i == 0:\n",
        "            names += [('var%d(t)' % (j+1)) for j in range(n_vars)]\n",
        "        else:\n",
        "            names += [('var%d(t+%d)' % (j+1, i)) for j in range(n_vars)]\n",
        "    # put it all together\n",
        "    agg = pd.concat(cols, axis=1)\n",
        "    agg.columns = names\n",
        "    # drop rows with NaN values\n",
        "    if dropnan:\n",
        "        agg.dropna(inplace=True)\n",
        "    return agg"
      ]
    },
    {
      "cell_type": "code",
      "execution_count": null,
      "id": "GnTfoFrFZ6bm",
      "metadata": {
        "colab": {
          "base_uri": "https://localhost:8080/",
          "height": 206
        },
        "id": "GnTfoFrFZ6bm",
        "outputId": "1b7d3a1c-ff5d-4861-f835-c29290b38cbf"
      },
      "outputs": [
        {
          "data": {
            "text/html": [
              "\n",
              "  <div id=\"df-7bb69719-8db8-4d9b-b78f-b52983fd365a\">\n",
              "    <div class=\"colab-df-container\">\n",
              "      <div>\n",
              "<style scoped>\n",
              "    .dataframe tbody tr th:only-of-type {\n",
              "        vertical-align: middle;\n",
              "    }\n",
              "\n",
              "    .dataframe tbody tr th {\n",
              "        vertical-align: top;\n",
              "    }\n",
              "\n",
              "    .dataframe thead th {\n",
              "        text-align: right;\n",
              "    }\n",
              "</style>\n",
              "<table border=\"1\" class=\"dataframe\">\n",
              "  <thead>\n",
              "    <tr style=\"text-align: right;\">\n",
              "      <th></th>\n",
              "      <th>var1(t-3)</th>\n",
              "      <th>var2(t-3)</th>\n",
              "      <th>var1(t-2)</th>\n",
              "      <th>var2(t-2)</th>\n",
              "      <th>var1(t-1)</th>\n",
              "      <th>var2(t-1)</th>\n",
              "      <th>var1(t)</th>\n",
              "      <th>var2(t)</th>\n",
              "    </tr>\n",
              "  </thead>\n",
              "  <tbody>\n",
              "    <tr>\n",
              "      <th>3</th>\n",
              "      <td>0.000022</td>\n",
              "      <td>0.639394</td>\n",
              "      <td>0.000022</td>\n",
              "      <td>0.5</td>\n",
              "      <td>0.000022</td>\n",
              "      <td>0.5</td>\n",
              "      <td>0.000022</td>\n",
              "      <td>0.5</td>\n",
              "    </tr>\n",
              "    <tr>\n",
              "      <th>4</th>\n",
              "      <td>0.000022</td>\n",
              "      <td>0.500000</td>\n",
              "      <td>0.000022</td>\n",
              "      <td>0.5</td>\n",
              "      <td>0.000022</td>\n",
              "      <td>0.5</td>\n",
              "      <td>0.000022</td>\n",
              "      <td>0.5</td>\n",
              "    </tr>\n",
              "    <tr>\n",
              "      <th>5</th>\n",
              "      <td>0.000022</td>\n",
              "      <td>0.500000</td>\n",
              "      <td>0.000022</td>\n",
              "      <td>0.5</td>\n",
              "      <td>0.000022</td>\n",
              "      <td>0.5</td>\n",
              "      <td>0.000022</td>\n",
              "      <td>0.5</td>\n",
              "    </tr>\n",
              "    <tr>\n",
              "      <th>6</th>\n",
              "      <td>0.000022</td>\n",
              "      <td>0.500000</td>\n",
              "      <td>0.000022</td>\n",
              "      <td>0.5</td>\n",
              "      <td>0.000022</td>\n",
              "      <td>0.5</td>\n",
              "      <td>0.000022</td>\n",
              "      <td>0.5</td>\n",
              "    </tr>\n",
              "    <tr>\n",
              "      <th>7</th>\n",
              "      <td>0.000022</td>\n",
              "      <td>0.500000</td>\n",
              "      <td>0.000022</td>\n",
              "      <td>0.5</td>\n",
              "      <td>0.000022</td>\n",
              "      <td>0.5</td>\n",
              "      <td>0.000022</td>\n",
              "      <td>0.5</td>\n",
              "    </tr>\n",
              "  </tbody>\n",
              "</table>\n",
              "</div>\n",
              "      <button class=\"colab-df-convert\" onclick=\"convertToInteractive('df-7bb69719-8db8-4d9b-b78f-b52983fd365a')\"\n",
              "              title=\"Convert this dataframe to an interactive table.\"\n",
              "              style=\"display:none;\">\n",
              "        \n",
              "  <svg xmlns=\"http://www.w3.org/2000/svg\" height=\"24px\"viewBox=\"0 0 24 24\"\n",
              "       width=\"24px\">\n",
              "    <path d=\"M0 0h24v24H0V0z\" fill=\"none\"/>\n",
              "    <path d=\"M18.56 5.44l.94 2.06.94-2.06 2.06-.94-2.06-.94-.94-2.06-.94 2.06-2.06.94zm-11 1L8.5 8.5l.94-2.06 2.06-.94-2.06-.94L8.5 2.5l-.94 2.06-2.06.94zm10 10l.94 2.06.94-2.06 2.06-.94-2.06-.94-.94-2.06-.94 2.06-2.06.94z\"/><path d=\"M17.41 7.96l-1.37-1.37c-.4-.4-.92-.59-1.43-.59-.52 0-1.04.2-1.43.59L10.3 9.45l-7.72 7.72c-.78.78-.78 2.05 0 2.83L4 21.41c.39.39.9.59 1.41.59.51 0 1.02-.2 1.41-.59l7.78-7.78 2.81-2.81c.8-.78.8-2.07 0-2.86zM5.41 20L4 18.59l7.72-7.72 1.47 1.35L5.41 20z\"/>\n",
              "  </svg>\n",
              "      </button>\n",
              "      \n",
              "  <style>\n",
              "    .colab-df-container {\n",
              "      display:flex;\n",
              "      flex-wrap:wrap;\n",
              "      gap: 12px;\n",
              "    }\n",
              "\n",
              "    .colab-df-convert {\n",
              "      background-color: #E8F0FE;\n",
              "      border: none;\n",
              "      border-radius: 50%;\n",
              "      cursor: pointer;\n",
              "      display: none;\n",
              "      fill: #1967D2;\n",
              "      height: 32px;\n",
              "      padding: 0 0 0 0;\n",
              "      width: 32px;\n",
              "    }\n",
              "\n",
              "    .colab-df-convert:hover {\n",
              "      background-color: #E2EBFA;\n",
              "      box-shadow: 0px 1px 2px rgba(60, 64, 67, 0.3), 0px 1px 3px 1px rgba(60, 64, 67, 0.15);\n",
              "      fill: #174EA6;\n",
              "    }\n",
              "\n",
              "    [theme=dark] .colab-df-convert {\n",
              "      background-color: #3B4455;\n",
              "      fill: #D2E3FC;\n",
              "    }\n",
              "\n",
              "    [theme=dark] .colab-df-convert:hover {\n",
              "      background-color: #434B5C;\n",
              "      box-shadow: 0px 1px 3px 1px rgba(0, 0, 0, 0.15);\n",
              "      filter: drop-shadow(0px 1px 2px rgba(0, 0, 0, 0.3));\n",
              "      fill: #FFFFFF;\n",
              "    }\n",
              "  </style>\n",
              "\n",
              "      <script>\n",
              "        const buttonEl =\n",
              "          document.querySelector('#df-7bb69719-8db8-4d9b-b78f-b52983fd365a button.colab-df-convert');\n",
              "        buttonEl.style.display =\n",
              "          google.colab.kernel.accessAllowed ? 'block' : 'none';\n",
              "\n",
              "        async function convertToInteractive(key) {\n",
              "          const element = document.querySelector('#df-7bb69719-8db8-4d9b-b78f-b52983fd365a');\n",
              "          const dataTable =\n",
              "            await google.colab.kernel.invokeFunction('convertToInteractive',\n",
              "                                                     [key], {});\n",
              "          if (!dataTable) return;\n",
              "\n",
              "          const docLinkHtml = 'Like what you see? Visit the ' +\n",
              "            '<a target=\"_blank\" href=https://colab.research.google.com/notebooks/data_table.ipynb>data table notebook</a>'\n",
              "            + ' to learn more about interactive tables.';\n",
              "          element.innerHTML = '';\n",
              "          dataTable['output_type'] = 'display_data';\n",
              "          await google.colab.output.renderOutput(dataTable, element);\n",
              "          const docLink = document.createElement('div');\n",
              "          docLink.innerHTML = docLinkHtml;\n",
              "          element.appendChild(docLink);\n",
              "        }\n",
              "      </script>\n",
              "    </div>\n",
              "  </div>\n",
              "  "
            ],
            "text/plain": [
              "   var1(t-3)  var2(t-3)  var1(t-2)  var2(t-2)  var1(t-1)  var2(t-1)   var1(t)  \\\n",
              "3   0.000022   0.639394   0.000022        0.5   0.000022        0.5  0.000022   \n",
              "4   0.000022   0.500000   0.000022        0.5   0.000022        0.5  0.000022   \n",
              "5   0.000022   0.500000   0.000022        0.5   0.000022        0.5  0.000022   \n",
              "6   0.000022   0.500000   0.000022        0.5   0.000022        0.5  0.000022   \n",
              "7   0.000022   0.500000   0.000022        0.5   0.000022        0.5  0.000022   \n",
              "\n",
              "   var2(t)  \n",
              "3      0.5  \n",
              "4      0.5  \n",
              "5      0.5  \n",
              "6      0.5  \n",
              "7      0.5  "
            ]
          },
          "execution_count": 31,
          "metadata": {},
          "output_type": "execute_result"
        }
      ],
      "source": [
        "scaler = MinMaxScaler(feature_range=(0, 1)) #scaling values from 0 to 1\n",
        "scaled = scaler.fit_transform(df.values)\n",
        "\n",
        "n_hours = 3\n",
        "n_features = 1              \n",
        "n_obs = n_hours*n_features\n",
        "\n",
        "reframed = series_to_supervised(scaled, n_hours, 1)  #t-3,t-2,t-1 values of all the columns. you can change n_hours for this\n",
        "reframed.head()"
      ]
    },
    {
      "cell_type": "code",
      "execution_count": null,
      "id": "HAHmLsi4Z6e0",
      "metadata": {
        "colab": {
          "base_uri": "https://localhost:8080/",
          "height": 206
        },
        "id": "HAHmLsi4Z6e0",
        "outputId": "b2b78ad9-8afb-498e-f43a-2ac66effa33c"
      },
      "outputs": [
        {
          "data": {
            "text/html": [
              "\n",
              "  <div id=\"df-f3924a86-2794-441e-a288-30134149095a\">\n",
              "    <div class=\"colab-df-container\">\n",
              "      <div>\n",
              "<style scoped>\n",
              "    .dataframe tbody tr th:only-of-type {\n",
              "        vertical-align: middle;\n",
              "    }\n",
              "\n",
              "    .dataframe tbody tr th {\n",
              "        vertical-align: top;\n",
              "    }\n",
              "\n",
              "    .dataframe thead th {\n",
              "        text-align: right;\n",
              "    }\n",
              "</style>\n",
              "<table border=\"1\" class=\"dataframe\">\n",
              "  <thead>\n",
              "    <tr style=\"text-align: right;\">\n",
              "      <th></th>\n",
              "      <th>var1(t-3)</th>\n",
              "      <th>var2(t-3)</th>\n",
              "      <th>var1(t-2)</th>\n",
              "      <th>var2(t-2)</th>\n",
              "      <th>var1(t-1)</th>\n",
              "      <th>var2(t-1)</th>\n",
              "      <th>var1(t)</th>\n",
              "    </tr>\n",
              "  </thead>\n",
              "  <tbody>\n",
              "    <tr>\n",
              "      <th>3</th>\n",
              "      <td>0.000022</td>\n",
              "      <td>0.639394</td>\n",
              "      <td>0.000022</td>\n",
              "      <td>0.5</td>\n",
              "      <td>0.000022</td>\n",
              "      <td>0.5</td>\n",
              "      <td>0.000022</td>\n",
              "    </tr>\n",
              "    <tr>\n",
              "      <th>4</th>\n",
              "      <td>0.000022</td>\n",
              "      <td>0.500000</td>\n",
              "      <td>0.000022</td>\n",
              "      <td>0.5</td>\n",
              "      <td>0.000022</td>\n",
              "      <td>0.5</td>\n",
              "      <td>0.000022</td>\n",
              "    </tr>\n",
              "    <tr>\n",
              "      <th>5</th>\n",
              "      <td>0.000022</td>\n",
              "      <td>0.500000</td>\n",
              "      <td>0.000022</td>\n",
              "      <td>0.5</td>\n",
              "      <td>0.000022</td>\n",
              "      <td>0.5</td>\n",
              "      <td>0.000022</td>\n",
              "    </tr>\n",
              "    <tr>\n",
              "      <th>6</th>\n",
              "      <td>0.000022</td>\n",
              "      <td>0.500000</td>\n",
              "      <td>0.000022</td>\n",
              "      <td>0.5</td>\n",
              "      <td>0.000022</td>\n",
              "      <td>0.5</td>\n",
              "      <td>0.000022</td>\n",
              "    </tr>\n",
              "    <tr>\n",
              "      <th>7</th>\n",
              "      <td>0.000022</td>\n",
              "      <td>0.500000</td>\n",
              "      <td>0.000022</td>\n",
              "      <td>0.5</td>\n",
              "      <td>0.000022</td>\n",
              "      <td>0.5</td>\n",
              "      <td>0.000022</td>\n",
              "    </tr>\n",
              "  </tbody>\n",
              "</table>\n",
              "</div>\n",
              "      <button class=\"colab-df-convert\" onclick=\"convertToInteractive('df-f3924a86-2794-441e-a288-30134149095a')\"\n",
              "              title=\"Convert this dataframe to an interactive table.\"\n",
              "              style=\"display:none;\">\n",
              "        \n",
              "  <svg xmlns=\"http://www.w3.org/2000/svg\" height=\"24px\"viewBox=\"0 0 24 24\"\n",
              "       width=\"24px\">\n",
              "    <path d=\"M0 0h24v24H0V0z\" fill=\"none\"/>\n",
              "    <path d=\"M18.56 5.44l.94 2.06.94-2.06 2.06-.94-2.06-.94-.94-2.06-.94 2.06-2.06.94zm-11 1L8.5 8.5l.94-2.06 2.06-.94-2.06-.94L8.5 2.5l-.94 2.06-2.06.94zm10 10l.94 2.06.94-2.06 2.06-.94-2.06-.94-.94-2.06-.94 2.06-2.06.94z\"/><path d=\"M17.41 7.96l-1.37-1.37c-.4-.4-.92-.59-1.43-.59-.52 0-1.04.2-1.43.59L10.3 9.45l-7.72 7.72c-.78.78-.78 2.05 0 2.83L4 21.41c.39.39.9.59 1.41.59.51 0 1.02-.2 1.41-.59l7.78-7.78 2.81-2.81c.8-.78.8-2.07 0-2.86zM5.41 20L4 18.59l7.72-7.72 1.47 1.35L5.41 20z\"/>\n",
              "  </svg>\n",
              "      </button>\n",
              "      \n",
              "  <style>\n",
              "    .colab-df-container {\n",
              "      display:flex;\n",
              "      flex-wrap:wrap;\n",
              "      gap: 12px;\n",
              "    }\n",
              "\n",
              "    .colab-df-convert {\n",
              "      background-color: #E8F0FE;\n",
              "      border: none;\n",
              "      border-radius: 50%;\n",
              "      cursor: pointer;\n",
              "      display: none;\n",
              "      fill: #1967D2;\n",
              "      height: 32px;\n",
              "      padding: 0 0 0 0;\n",
              "      width: 32px;\n",
              "    }\n",
              "\n",
              "    .colab-df-convert:hover {\n",
              "      background-color: #E2EBFA;\n",
              "      box-shadow: 0px 1px 2px rgba(60, 64, 67, 0.3), 0px 1px 3px 1px rgba(60, 64, 67, 0.15);\n",
              "      fill: #174EA6;\n",
              "    }\n",
              "\n",
              "    [theme=dark] .colab-df-convert {\n",
              "      background-color: #3B4455;\n",
              "      fill: #D2E3FC;\n",
              "    }\n",
              "\n",
              "    [theme=dark] .colab-df-convert:hover {\n",
              "      background-color: #434B5C;\n",
              "      box-shadow: 0px 1px 3px 1px rgba(0, 0, 0, 0.15);\n",
              "      filter: drop-shadow(0px 1px 2px rgba(0, 0, 0, 0.3));\n",
              "      fill: #FFFFFF;\n",
              "    }\n",
              "  </style>\n",
              "\n",
              "      <script>\n",
              "        const buttonEl =\n",
              "          document.querySelector('#df-f3924a86-2794-441e-a288-30134149095a button.colab-df-convert');\n",
              "        buttonEl.style.display =\n",
              "          google.colab.kernel.accessAllowed ? 'block' : 'none';\n",
              "\n",
              "        async function convertToInteractive(key) {\n",
              "          const element = document.querySelector('#df-f3924a86-2794-441e-a288-30134149095a');\n",
              "          const dataTable =\n",
              "            await google.colab.kernel.invokeFunction('convertToInteractive',\n",
              "                                                     [key], {});\n",
              "          if (!dataTable) return;\n",
              "\n",
              "          const docLinkHtml = 'Like what you see? Visit the ' +\n",
              "            '<a target=\"_blank\" href=https://colab.research.google.com/notebooks/data_table.ipynb>data table notebook</a>'\n",
              "            + ' to learn more about interactive tables.';\n",
              "          element.innerHTML = '';\n",
              "          dataTable['output_type'] = 'display_data';\n",
              "          await google.colab.output.renderOutput(dataTable, element);\n",
              "          const docLink = document.createElement('div');\n",
              "          docLink.innerHTML = docLinkHtml;\n",
              "          element.appendChild(docLink);\n",
              "        }\n",
              "      </script>\n",
              "    </div>\n",
              "  </div>\n",
              "  "
            ],
            "text/plain": [
              "   var1(t-3)  var2(t-3)  var1(t-2)  var2(t-2)  var1(t-1)  var2(t-1)   var1(t)\n",
              "3   0.000022   0.639394   0.000022        0.5   0.000022        0.5  0.000022\n",
              "4   0.000022   0.500000   0.000022        0.5   0.000022        0.5  0.000022\n",
              "5   0.000022   0.500000   0.000022        0.5   0.000022        0.5  0.000022\n",
              "6   0.000022   0.500000   0.000022        0.5   0.000022        0.5  0.000022\n",
              "7   0.000022   0.500000   0.000022        0.5   0.000022        0.5  0.000022"
            ]
          },
          "execution_count": 32,
          "metadata": {},
          "output_type": "execute_result"
        }
      ],
      "source": [
        "reframed = reframed.drop(reframed.columns[-1:], axis=1)  #dropping all the present values except present price\n",
        "reframed.head()"
      ]
    },
    {
      "cell_type": "code",
      "execution_count": null,
      "id": "tdAI6HfTZ6hk",
      "metadata": {
        "colab": {
          "base_uri": "https://localhost:8080/",
          "height": 206
        },
        "id": "tdAI6HfTZ6hk",
        "outputId": "dfc104bc-74ca-461e-8cac-ff55da16fdb1"
      },
      "outputs": [
        {
          "data": {
            "text/html": [
              "\n",
              "  <div id=\"df-ed7cde7c-42e8-4cfe-8a02-dbb55dcd13c1\">\n",
              "    <div class=\"colab-df-container\">\n",
              "      <div>\n",
              "<style scoped>\n",
              "    .dataframe tbody tr th:only-of-type {\n",
              "        vertical-align: middle;\n",
              "    }\n",
              "\n",
              "    .dataframe tbody tr th {\n",
              "        vertical-align: top;\n",
              "    }\n",
              "\n",
              "    .dataframe thead th {\n",
              "        text-align: right;\n",
              "    }\n",
              "</style>\n",
              "<table border=\"1\" class=\"dataframe\">\n",
              "  <thead>\n",
              "    <tr style=\"text-align: right;\">\n",
              "      <th></th>\n",
              "      <th>var1(t)</th>\n",
              "      <th>var1(t-3)</th>\n",
              "      <th>var2(t-3)</th>\n",
              "      <th>var1(t-2)</th>\n",
              "      <th>var2(t-2)</th>\n",
              "      <th>var1(t-1)</th>\n",
              "      <th>var2(t-1)</th>\n",
              "    </tr>\n",
              "  </thead>\n",
              "  <tbody>\n",
              "    <tr>\n",
              "      <th>3</th>\n",
              "      <td>0.000022</td>\n",
              "      <td>0.000022</td>\n",
              "      <td>0.639394</td>\n",
              "      <td>0.000022</td>\n",
              "      <td>0.5</td>\n",
              "      <td>0.000022</td>\n",
              "      <td>0.5</td>\n",
              "    </tr>\n",
              "    <tr>\n",
              "      <th>4</th>\n",
              "      <td>0.000022</td>\n",
              "      <td>0.000022</td>\n",
              "      <td>0.500000</td>\n",
              "      <td>0.000022</td>\n",
              "      <td>0.5</td>\n",
              "      <td>0.000022</td>\n",
              "      <td>0.5</td>\n",
              "    </tr>\n",
              "    <tr>\n",
              "      <th>5</th>\n",
              "      <td>0.000022</td>\n",
              "      <td>0.000022</td>\n",
              "      <td>0.500000</td>\n",
              "      <td>0.000022</td>\n",
              "      <td>0.5</td>\n",
              "      <td>0.000022</td>\n",
              "      <td>0.5</td>\n",
              "    </tr>\n",
              "    <tr>\n",
              "      <th>6</th>\n",
              "      <td>0.000022</td>\n",
              "      <td>0.000022</td>\n",
              "      <td>0.500000</td>\n",
              "      <td>0.000022</td>\n",
              "      <td>0.5</td>\n",
              "      <td>0.000022</td>\n",
              "      <td>0.5</td>\n",
              "    </tr>\n",
              "    <tr>\n",
              "      <th>7</th>\n",
              "      <td>0.000022</td>\n",
              "      <td>0.000022</td>\n",
              "      <td>0.500000</td>\n",
              "      <td>0.000022</td>\n",
              "      <td>0.5</td>\n",
              "      <td>0.000022</td>\n",
              "      <td>0.5</td>\n",
              "    </tr>\n",
              "  </tbody>\n",
              "</table>\n",
              "</div>\n",
              "      <button class=\"colab-df-convert\" onclick=\"convertToInteractive('df-ed7cde7c-42e8-4cfe-8a02-dbb55dcd13c1')\"\n",
              "              title=\"Convert this dataframe to an interactive table.\"\n",
              "              style=\"display:none;\">\n",
              "        \n",
              "  <svg xmlns=\"http://www.w3.org/2000/svg\" height=\"24px\"viewBox=\"0 0 24 24\"\n",
              "       width=\"24px\">\n",
              "    <path d=\"M0 0h24v24H0V0z\" fill=\"none\"/>\n",
              "    <path d=\"M18.56 5.44l.94 2.06.94-2.06 2.06-.94-2.06-.94-.94-2.06-.94 2.06-2.06.94zm-11 1L8.5 8.5l.94-2.06 2.06-.94-2.06-.94L8.5 2.5l-.94 2.06-2.06.94zm10 10l.94 2.06.94-2.06 2.06-.94-2.06-.94-.94-2.06-.94 2.06-2.06.94z\"/><path d=\"M17.41 7.96l-1.37-1.37c-.4-.4-.92-.59-1.43-.59-.52 0-1.04.2-1.43.59L10.3 9.45l-7.72 7.72c-.78.78-.78 2.05 0 2.83L4 21.41c.39.39.9.59 1.41.59.51 0 1.02-.2 1.41-.59l7.78-7.78 2.81-2.81c.8-.78.8-2.07 0-2.86zM5.41 20L4 18.59l7.72-7.72 1.47 1.35L5.41 20z\"/>\n",
              "  </svg>\n",
              "      </button>\n",
              "      \n",
              "  <style>\n",
              "    .colab-df-container {\n",
              "      display:flex;\n",
              "      flex-wrap:wrap;\n",
              "      gap: 12px;\n",
              "    }\n",
              "\n",
              "    .colab-df-convert {\n",
              "      background-color: #E8F0FE;\n",
              "      border: none;\n",
              "      border-radius: 50%;\n",
              "      cursor: pointer;\n",
              "      display: none;\n",
              "      fill: #1967D2;\n",
              "      height: 32px;\n",
              "      padding: 0 0 0 0;\n",
              "      width: 32px;\n",
              "    }\n",
              "\n",
              "    .colab-df-convert:hover {\n",
              "      background-color: #E2EBFA;\n",
              "      box-shadow: 0px 1px 2px rgba(60, 64, 67, 0.3), 0px 1px 3px 1px rgba(60, 64, 67, 0.15);\n",
              "      fill: #174EA6;\n",
              "    }\n",
              "\n",
              "    [theme=dark] .colab-df-convert {\n",
              "      background-color: #3B4455;\n",
              "      fill: #D2E3FC;\n",
              "    }\n",
              "\n",
              "    [theme=dark] .colab-df-convert:hover {\n",
              "      background-color: #434B5C;\n",
              "      box-shadow: 0px 1px 3px 1px rgba(0, 0, 0, 0.15);\n",
              "      filter: drop-shadow(0px 1px 2px rgba(0, 0, 0, 0.3));\n",
              "      fill: #FFFFFF;\n",
              "    }\n",
              "  </style>\n",
              "\n",
              "      <script>\n",
              "        const buttonEl =\n",
              "          document.querySelector('#df-ed7cde7c-42e8-4cfe-8a02-dbb55dcd13c1 button.colab-df-convert');\n",
              "        buttonEl.style.display =\n",
              "          google.colab.kernel.accessAllowed ? 'block' : 'none';\n",
              "\n",
              "        async function convertToInteractive(key) {\n",
              "          const element = document.querySelector('#df-ed7cde7c-42e8-4cfe-8a02-dbb55dcd13c1');\n",
              "          const dataTable =\n",
              "            await google.colab.kernel.invokeFunction('convertToInteractive',\n",
              "                                                     [key], {});\n",
              "          if (!dataTable) return;\n",
              "\n",
              "          const docLinkHtml = 'Like what you see? Visit the ' +\n",
              "            '<a target=\"_blank\" href=https://colab.research.google.com/notebooks/data_table.ipynb>data table notebook</a>'\n",
              "            + ' to learn more about interactive tables.';\n",
              "          element.innerHTML = '';\n",
              "          dataTable['output_type'] = 'display_data';\n",
              "          await google.colab.output.renderOutput(dataTable, element);\n",
              "          const docLink = document.createElement('div');\n",
              "          docLink.innerHTML = docLinkHtml;\n",
              "          element.appendChild(docLink);\n",
              "        }\n",
              "      </script>\n",
              "    </div>\n",
              "  </div>\n",
              "  "
            ],
            "text/plain": [
              "    var1(t)  var1(t-3)  var2(t-3)  var1(t-2)  var2(t-2)  var1(t-1)  var2(t-1)\n",
              "3  0.000022   0.000022   0.639394   0.000022        0.5   0.000022        0.5\n",
              "4  0.000022   0.000022   0.500000   0.000022        0.5   0.000022        0.5\n",
              "5  0.000022   0.000022   0.500000   0.000022        0.5   0.000022        0.5\n",
              "6  0.000022   0.000022   0.500000   0.000022        0.5   0.000022        0.5\n",
              "7  0.000022   0.000022   0.500000   0.000022        0.5   0.000022        0.5"
            ]
          },
          "execution_count": 33,
          "metadata": {},
          "output_type": "execute_result"
        }
      ],
      "source": [
        "cols = reframed.columns.tolist()\n",
        "cols = cols[-1:] + cols[:-1]   #just making the price as the first column\n",
        "reframed = reframed[cols]\n",
        "reframed.head()"
      ]
    },
    {
      "cell_type": "code",
      "execution_count": null,
      "id": "qlj8K4ZebllN",
      "metadata": {
        "colab": {
          "base_uri": "https://localhost:8080/"
        },
        "id": "qlj8K4ZebllN",
        "outputId": "352267fd-1a94-4e1c-83ad-c2d2f3accc88"
      },
      "outputs": [
        {
          "name": "stdout",
          "output_type": "stream",
          "text": [
            "Requirement already satisfied: pyspark in /usr/local/lib/python3.7/dist-packages (3.2.1)\n",
            "Requirement already satisfied: py4j==0.10.9.3 in /usr/local/lib/python3.7/dist-packages (from pyspark) (0.10.9.3)\n"
          ]
        }
      ],
      "source": [
        "!pip install pyspark"
      ]
    },
    {
      "cell_type": "code",
      "execution_count": null,
      "id": "VBAj9hWucBf_",
      "metadata": {
        "colab": {
          "base_uri": "https://localhost:8080/"
        },
        "id": "VBAj9hWucBf_",
        "outputId": "a2ad9add-ccdd-4443-cf5d-7e91ee2ef8a0"
      },
      "outputs": [
        {
          "name": "stderr",
          "output_type": "stream",
          "text": [
            "/usr/local/lib/python3.7/dist-packages/pyspark/sql/context.py:79: FutureWarning: Deprecated in 3.0.0. Use SparkSession.builder.getOrCreate() instead.\n",
            "  FutureWarning\n"
          ]
        }
      ],
      "source": [
        "import pyspark as spark\n",
        "sc = spark.SparkContext()\n",
        "sql = spark.SQLContext(sc)"
      ]
    },
    {
      "cell_type": "code",
      "execution_count": null,
      "id": "MWFmEZSscZQ5",
      "metadata": {
        "id": "MWFmEZSscZQ5"
      },
      "outputs": [],
      "source": []
    },
    {
      "cell_type": "code",
      "execution_count": null,
      "id": "wayYNg0OZ6kk",
      "metadata": {
        "colab": {
          "base_uri": "https://localhost:8080/"
        },
        "id": "wayYNg0OZ6kk",
        "outputId": "cadd1c71-0b63-4772-c594-9cc86c8553b7"
      },
      "outputs": [
        {
          "name": "stdout",
          "output_type": "stream",
          "text": [
            "+--------------------+--------------------+\n",
            "|            features|               label|\n",
            "+--------------------+--------------------+\n",
            "|[2.24702116489662...|2.247021164896627...|\n",
            "|[2.24702116489662...|2.247021164896627...|\n",
            "|[2.24702116489662...|2.247021164896627...|\n",
            "|[2.24702116489662...|2.247021164896627...|\n",
            "|[2.24702116489662...|2.247021164896627...|\n",
            "+--------------------+--------------------+\n",
            "only showing top 5 rows\n",
            "\n"
          ]
        }
      ],
      "source": [
        "from pyspark.ml.linalg import Vectors\n",
        "reg_DF =sql.createDataFrame(reframed)\n",
        "ad_df = reg_DF.rdd.map(lambda x: [Vectors.dense(x[1:]), x[0]]).toDF(['features', 'label'])\n",
        "ad_df.show(5)"
      ]
    },
    {
      "cell_type": "code",
      "execution_count": null,
      "id": "ak80B9aHZ6m0",
      "metadata": {
        "id": "ak80B9aHZ6m0"
      },
      "outputs": [],
      "source": [
        "from pyspark.ml.regression import LinearRegression\n",
        "lr = LinearRegression(featuresCol = 'features', labelCol = 'label')"
      ]
    },
    {
      "cell_type": "code",
      "execution_count": null,
      "id": "4eWRO0RJZ6px",
      "metadata": {
        "id": "4eWRO0RJZ6px"
      },
      "outputs": [],
      "source": [
        "lr_model = lr.fit(ad_df)"
      ]
    },
    {
      "cell_type": "code",
      "execution_count": null,
      "id": "HHXid4ctZ6r5",
      "metadata": {
        "colab": {
          "base_uri": "https://localhost:8080/"
        },
        "id": "HHXid4ctZ6r5",
        "outputId": "3919eb78-e830-4e29-e815-a517343d8617"
      },
      "outputs": [
        {
          "name": "stdout",
          "output_type": "stream",
          "text": [
            "+--------------------+--------------------+\n",
            "|          prediction|               label|\n",
            "+--------------------+--------------------+\n",
            "|4.542733491805198E-5|2.247021164896627...|\n",
            "|3.063893579092145E-5|2.247021164896627...|\n",
            "|3.063893579092145E-5|2.247021164896627...|\n",
            "|3.063893579092145E-5|2.247021164896627...|\n",
            "|3.063893579092145E-5|2.247021164896627...|\n",
            "+--------------------+--------------------+\n",
            "only showing top 5 rows\n",
            "\n"
          ]
        }
      ],
      "source": [
        "predictions = lr_model.transform(ad_df)\n",
        "someDF = predictions.select(\"prediction\", \"label\").show(5)"
      ]
    },
    {
      "cell_type": "code",
      "execution_count": null,
      "id": "zkzuHa-9Z6ur",
      "metadata": {
        "id": "zkzuHa-9Z6ur"
      },
      "outputs": [],
      "source": [
        "predictions = predictions.toPandas().head()"
      ]
    },
    {
      "cell_type": "code",
      "execution_count": null,
      "id": "jWpTfZCYciFr",
      "metadata": {
        "colab": {
          "base_uri": "https://localhost:8080/",
          "height": 276
        },
        "id": "jWpTfZCYciFr",
        "outputId": "94357997-f533-4ddf-906e-254738df3ea3"
      },
      "outputs": [
        {
          "data": {
            "image/png": "[encoded data removed]",
            "text/plain": [
              "<Figure size 432x288 with 1 Axes>"
            ]
          },
          "metadata": {
            "needs_background": "light"
          },
          "output_type": "display_data"
        }
      ],
      "source": [
        "plt.plot(predictions['label'])\n",
        "plt.plot(predictions['prediction'])\n",
        "plt.show()"
      ]
    },
    {
      "cell_type": "code",
      "execution_count": null,
      "id": "7GZlK97YciJJ",
      "metadata": {
        "colab": {
          "base_uri": "https://localhost:8080/"
        },
        "id": "7GZlK97YciJJ",
        "outputId": "c2dabc49-0d82-485f-e54c-b0a90a146c4e"
      },
      "outputs": [
        {
          "name": "stdout",
          "output_type": "stream",
          "text": [
            "Coefficients: [0.10932081212639014,0.00010609068939028421,-0.3285772327673711,-0.0001099803542604799,1.2191849896192888,7.811902372606194e-05]\n",
            "Intercept: -2.894435021580222e-05\n"
          ]
        }
      ],
      "source": [
        "print(\"Coefficients: %s\" % str(lr_model.coefficients))\n",
        "print(\"Intercept: %s\" % str(lr_model.intercept))"
      ]
    },
    {
      "cell_type": "markdown",
      "id": "6206a861",
      "metadata": {
        "id": "6206a861"
      },
      "source": [
        "# Linear and Decision Tree Regression"
      ]
    },
    {
      "cell_type": "code",
      "execution_count": null,
      "id": "b9308b72",
      "metadata": {
        "id": "b9308b72"
      },
      "outputs": [],
      "source": [
        "from sklearn.model_selection import train_test_split\n",
        "x_train, x_test, y_train, y_test = train_test_split(Z, P, test_size = 0.2)"
      ]
    },
    {
      "cell_type": "code",
      "execution_count": null,
      "id": "1d513b22",
      "metadata": {
        "id": "1d513b22"
      },
      "outputs": [],
      "source": [
        "#import the model/algorithms\n",
        "from sklearn.tree import DecisionTreeRegressor\n",
        "from sklearn.linear_model import LinearRegression"
      ]
    },
    {
      "cell_type": "code",
      "execution_count": null,
      "id": "1bf62877",
      "metadata": {
        "id": "1bf62877"
      },
      "outputs": [],
      "source": [
        "# Implementing Linear and Decision Tree Regression Algorithms.\n",
        "tree_reg = DecisionTreeRegressor().fit(x_train, y_train)\n",
        "linear_reg = LinearRegression().fit(x_train, y_train)"
      ]
    },
    {
      "cell_type": "code",
      "execution_count": null,
      "id": "09ace6a9",
      "metadata": {
        "colab": {
          "base_uri": "https://localhost:8080/"
        },
        "id": "09ace6a9",
        "outputId": "17392d50-7759-446e-bc88-17856c0344d9"
      },
      "outputs": [
        {
          "name": "stderr",
          "output_type": "stream",
          "text": [
            "/usr/local/lib/python3.7/dist-packages/ipykernel_launcher.py:1: FutureWarning: In a future version of pandas all arguments of DataFrame.drop except for the argument 'labels' will be keyword-only\n",
            "  \"\"\"Entry point for launching an IPython kernel.\n"
          ]
        },
        {
          "data": {
            "text/plain": [
              "array([[3973.81],\n",
              "       [3958.87],\n",
              "       [3987.78],\n",
              "       ...,\n",
              "       [6538.09],\n",
              "       [6483.58],\n",
              "       [6468.82]])"
            ]
          },
          "execution_count": 31,
          "metadata": {},
          "output_type": "execute_result"
        }
      ],
      "source": [
        "z_future = df_c.drop(['Prediction'], 1)[:-future_hours]\n",
        "z_future = z_future.tail(future_hours)\n",
        "z_future = np.array(z_future)\n",
        "z_future"
      ]
    },
    {
      "cell_type": "code",
      "execution_count": null,
      "id": "5b404f33",
      "metadata": {
        "colab": {
          "base_uri": "https://localhost:8080/"
        },
        "id": "5b404f33",
        "outputId": "3756fef7-cd9d-4f09-bdf4-4ce6e21af703"
      },
      "outputs": [
        {
          "name": "stdout",
          "output_type": "stream",
          "text": [
            "[6483.07 6342.34 6499.53 ... 7504.05 8237.96 7553.69]\n",
            "\\n 23729243.949731037 3700.0978224999994\n"
          ]
        }
      ],
      "source": [
        "tree_pre = tree_reg.predict(z_future)\n",
        "print(tree_pre)\n",
        "from sklearn.metrics import mean_absolute_error,mean_squared_error\n",
        "mae= mean_absolute_error(z_future,tree_pre)\n",
        "mse=mean_squared_error(z_future,tree_pre)\n",
        "print(\"\\\\n\",mse,mae)\n",
        "#score = r2_score(new_test_Y,predicted)\n",
        "#print(\"the r2 square of LSTM is \",score)\n"
      ]
    },
    {
      "cell_type": "code",
      "execution_count": null,
      "id": "Qm7Z1CVaM-MY",
      "metadata": {
        "id": "Qm7Z1CVaM-MY"
      },
      "outputs": [],
      "source": [
        "from sklearn.metrics import mean_absolute_error,mean_squared_error"
      ]
    },
    {
      "cell_type": "code",
      "execution_count": null,
      "id": "eb100e74",
      "metadata": {
        "colab": {
          "base_uri": "https://localhost:8080/"
        },
        "id": "eb100e74",
        "outputId": "5cc068b6-7ad0-4a83-c234-36bbb92a4274"
      },
      "outputs": [
        {
          "name": "stdout",
          "output_type": "stream",
          "text": [
            "[4166.53614906 4158.19987713 4174.3311771  ... 5597.36181067 5566.94613578\n",
            " 5558.71030086]\n",
            "23729243.949731037 3700.0978224999994\n"
          ]
        }
      ],
      "source": [
        "linear_pre = linear_reg.predict(z_future)\n",
        "print(linear_pre)\n",
        "mae_lr= mean_absolute_error(z_future,tree_pre)\n",
        "mse_lr=mean_squared_error(z_future,tree_pre)\n",
        "\n",
        "\n",
        "print(mse_lr,mae_lr)"
      ]
    },
    {
      "cell_type": "code",
      "execution_count": null,
      "id": "9e3b31ab",
      "metadata": {
        "colab": {
          "base_uri": "https://localhost:8080/"
        },
        "id": "9e3b31ab",
        "outputId": "0405579d-3dbd-4548-8b70-3e8821353b6d"
      },
      "outputs": [
        {
          "name": "stdout",
          "output_type": "stream",
          "text": [
            "<class 'pandas.core.frame.DataFrame'>\n",
            "RangeIndex: 10000 entries, 59276 to 69275\n",
            "Data columns (total 3 columns):\n",
            " #   Column       Non-Null Count  Dtype  \n",
            "---  ------       --------------  -----  \n",
            " 0   close_price  10000 non-null  float64\n",
            " 1   Prediction   0 non-null      float64\n",
            " 2   Predictions  10000 non-null  float64\n",
            "dtypes: float64(3)\n",
            "memory usage: 234.5 KB\n",
            "<class 'pandas.core.frame.DataFrame'>\n",
            "RangeIndex: 69276 entries, 0 to 69275\n",
            "Data columns (total 2 columns):\n",
            " #   Column       Non-Null Count  Dtype  \n",
            "---  ------       --------------  -----  \n",
            " 0   close_price  69276 non-null  float64\n",
            " 1   Prediction   59276 non-null  float64\n",
            "dtypes: float64(2)\n",
            "memory usage: 1.1 MB\n",
            "None None\n"
          ]
        },
        {
          "name": "stderr",
          "output_type": "stream",
          "text": [
            "/usr/local/lib/python3.7/dist-packages/ipykernel_launcher.py:3: SettingWithCopyWarning: \n",
            "A value is trying to be set on a copy of a slice from a DataFrame.\n",
            "Try using .loc[row_indexer,col_indexer] = value instead\n",
            "\n",
            "See the caveats in the documentation: https://pandas.pydata.org/pandas-docs/stable/user_guide/indexing.html#returning-a-view-versus-a-copy\n",
            "  This is separate from the ipykernel package so we can avoid doing imports until\n"
          ]
        }
      ],
      "source": [
        "predictions = tree_pre \n",
        "valid = df_c[Z.shape[0]:]\n",
        "valid['Predictions'] = predictions\n",
        "print(valid.info(),df_c.info())"
      ]
    },
    {
      "cell_type": "code",
      "execution_count": null,
      "id": "DEfANPymfSIz",
      "metadata": {
        "id": "DEfANPymfSIz"
      },
      "outputs": [],
      "source": [
        "def f(t):\n",
        "    return np.exp(-t) * np.cos(2*np.pi*t)"
      ]
    },
    {
      "cell_type": "code",
      "execution_count": null,
      "id": "4b27c8b7",
      "metadata": {
        "colab": {
          "base_uri": "https://localhost:8080/",
          "height": 517
        },
        "id": "4b27c8b7",
        "outputId": "2f42bc4b-4ff4-42c2-9028-9843a2802e61"
      },
      "outputs": [
        {
          "data": {
            "image/png": "[encoded data removed]",
            "text/plain": [
              "<Figure size 1152x576 with 1 Axes>"
            ]
          },
          "metadata": {
            "needs_background": "light"
          },
          "output_type": "display_data"
        }
      ],
      "source": [
        "plt.figure(figsize=(16,8))\n",
        "plt.title(\"Model\")\n",
        "plt.xlabel('Days')\n",
        "plt.ylabel('Close Price USD ($)')\n",
        "plt.plot(df_c['close_price'])\n",
        "plt.plot(valid[['close_price', 'Predictions']])\n",
        "plt.legend([\"Original\", \"Valid\", 'Predicted'])\n",
        "plt.show()"
      ]
    },
    {
      "cell_type": "code",
      "execution_count": null,
      "id": "4fd2e3ff",
      "metadata": {
        "colab": {
          "base_uri": "https://localhost:8080/"
        },
        "id": "4fd2e3ff",
        "outputId": "4756b27f-c892-49c3-a08c-7e2a7b6980b8"
      },
      "outputs": [
        {
          "name": "stdout",
          "output_type": "stream",
          "text": [
            "<class 'pandas.core.frame.DataFrame'>\n",
            "RangeIndex: 10000 entries, 59276 to 69275\n",
            "Data columns (total 3 columns):\n",
            " #   Column       Non-Null Count  Dtype  \n",
            "---  ------       --------------  -----  \n",
            " 0   close_price  10000 non-null  float64\n",
            " 1   Prediction   0 non-null      float64\n",
            " 2   Predictions  10000 non-null  float64\n",
            "dtypes: float64(3)\n",
            "memory usage: 234.5 KB\n",
            "<class 'pandas.core.frame.DataFrame'>\n",
            "RangeIndex: 69276 entries, 0 to 69275\n",
            "Data columns (total 2 columns):\n",
            " #   Column       Non-Null Count  Dtype  \n",
            "---  ------       --------------  -----  \n",
            " 0   close_price  69276 non-null  float64\n",
            " 1   Prediction   59276 non-null  float64\n",
            "dtypes: float64(2)\n",
            "memory usage: 1.1 MB\n",
            "None None\n"
          ]
        },
        {
          "name": "stderr",
          "output_type": "stream",
          "text": [
            "/usr/local/lib/python3.7/dist-packages/ipykernel_launcher.py:3: SettingWithCopyWarning: \n",
            "A value is trying to be set on a copy of a slice from a DataFrame.\n",
            "Try using .loc[row_indexer,col_indexer] = value instead\n",
            "\n",
            "See the caveats in the documentation: https://pandas.pydata.org/pandas-docs/stable/user_guide/indexing.html#returning-a-view-versus-a-copy\n",
            "  This is separate from the ipykernel package so we can avoid doing imports until\n"
          ]
        }
      ],
      "source": [
        "predictions_2 = linear_pre \n",
        "valid = df_c[Z.shape[0]:]\n",
        "valid['Predictions'] = predictions_2\n",
        "print(valid.info(),df_c.info())"
      ]
    },
    {
      "cell_type": "code",
      "execution_count": null,
      "id": "41e75c78",
      "metadata": {
        "colab": {
          "base_uri": "https://localhost:8080/",
          "height": 517
        },
        "id": "41e75c78",
        "outputId": "33efba9c-848c-4bad-d124-2dd1e42f0da3"
      },
      "outputs": [
        {
          "data": {
            "image/png": "[encoded data removed]",
            "text/plain": [
              "<Figure size 1152x576 with 1 Axes>"
            ]
          },
          "metadata": {
            "needs_background": "light"
          },
          "output_type": "display_data"
        }
      ],
      "source": [
        "plt.figure(figsize=(16,8))\n",
        "plt.title(\"Bitcoin Price Comparison For last 10,000 Hours\")\n",
        "plt.xlabel('Hours')\n",
        "plt.ylabel('Close Price USD ($)')\n",
        "plt.plot(df_c['close_price'])\n",
        "plt.plot(valid[['close_price', 'Predictions']])\n",
        "plt.legend([\"Original\", \"Valid\", 'Predicted'])\n",
        "plt.show()"
      ]
    },
    {
      "cell_type": "markdown",
      "id": "c3be99a3",
      "metadata": {
        "id": "c3be99a3"
      },
      "source": [
        "# CNN-LSTM implementation to predict stock prices of amazon"
      ]
    },
    {
      "cell_type": "code",
      "execution_count": null,
      "id": "24345095",
      "metadata": {
        "id": "24345095"
      },
      "outputs": [],
      "source": [
        "df.reset_index(drop=True, inplace=True)"
      ]
    },
    {
      "cell_type": "code",
      "execution_count": null,
      "id": "f728a6f2",
      "metadata": {
        "colab": {
          "base_uri": "https://localhost:8080/"
        },
        "id": "f728a6f2",
        "outputId": "bce48c4a-46e7-4656-f1f5-4a4f95e53e8a"
      },
      "outputs": [
        {
          "name": "stdout",
          "output_type": "stream",
          "text": [
            "<class 'pandas.core.frame.DataFrame'>\n",
            "RangeIndex: 69276 entries, 0 to 69275\n",
            "Data columns (total 3 columns):\n",
            " #   Column       Non-Null Count  Dtype  \n",
            "---  ------       --------------  -----  \n",
            " 0   date         69276 non-null  object \n",
            " 1   sentiment    69276 non-null  float64\n",
            " 2   close_price  69276 non-null  float64\n",
            "dtypes: float64(2), object(1)\n",
            "memory usage: 1.6+ MB\n"
          ]
        }
      ],
      "source": [
        "df.info()"
      ]
    },
    {
      "cell_type": "code",
      "execution_count": null,
      "id": "0e7700e4",
      "metadata": {
        "colab": {
          "base_uri": "https://localhost:8080/",
          "height": 537
        },
        "id": "0e7700e4",
        "outputId": "82a2a815-34f4-431f-9f77-1342c59d5002"
      },
      "outputs": [
        {
          "data": {
            "image/png": "[encoded data removed]",
            "text/plain": [
              "<Figure size 792x648 with 1 Axes>"
            ]
          },
          "metadata": {
            "needs_background": "light"
          },
          "output_type": "display_data"
        }
      ],
      "source": [
        "cols_plot = ['close_price']\n",
        "multi_axes = df[cols_plot].plot(marker='.', alpha=0.5, linestyle='None', figsize=(11, 9), subplots=True)\n",
        "for ax in multi_axes:\n",
        "    ax.set_ylabel('Bitcoin Price')"
      ]
    },
    {
      "cell_type": "code",
      "execution_count": null,
      "id": "3d1ebbb7",
      "metadata": {
        "colab": {
          "base_uri": "https://localhost:8080/",
          "height": 537
        },
        "id": "3d1ebbb7",
        "outputId": "e94054c1-c900-40a4-b8d6-ec448c840b15"
      },
      "outputs": [
        {
          "name": "stdout",
          "output_type": "stream",
          "text": [
            "       sentiment  close_price\n",
            "0       0.278788         4.58\n",
            "1       0.000000         4.58\n",
            "2       0.000000         4.58\n",
            "3       0.000000         4.58\n",
            "4       0.000000         4.58\n",
            "...          ...          ...\n",
            "69271   0.000000      7493.88\n",
            "69272   0.000000      7507.12\n",
            "69273   0.000000      7504.05\n",
            "69274   0.000000      7522.23\n",
            "69275   0.000000      7553.69\n",
            "\n",
            "[69276 rows x 2 columns]\n"
          ]
        },
        {
          "data": {
            "image/png": "[encoded data removed]",
            "text/plain": [
              "<Figure size 432x288 with 1 Axes>"
            ]
          },
          "metadata": {
            "needs_background": "light"
          },
          "output_type": "display_data"
        }
      ],
      "source": [
        "plt.plot(df['close_price'], label=\"Close price\")\n",
        "plt.xlabel(\"Timestamp\")\n",
        "plt.ylabel(\"Closing price\")\n",
        "\n",
        "new_df = df.drop('date', axis=1)\n",
        "print(new_df)"
      ]
    },
    {
      "cell_type": "code",
      "execution_count": null,
      "id": "7d37711e",
      "metadata": {
        "id": "7d37711e"
      },
      "outputs": [],
      "source": [
        "from sklearn.preprocessing import OrdinalEncoder\n",
        "encoder = OrdinalEncoder()"
      ]
    },
    {
      "cell_type": "code",
      "execution_count": null,
      "id": "05095ead",
      "metadata": {
        "colab": {
          "base_uri": "https://localhost:8080/"
        },
        "id": "05095ead",
        "outputId": "02e70bba-48e0-4426-9f72-70d4d08bc81c"
      },
      "outputs": [
        {
          "name": "stdout",
          "output_type": "stream",
          "text": [
            "       sentiment  close_price\n",
            "0       0.278788         26.0\n",
            "1       0.000000         26.0\n",
            "2       0.000000         26.0\n",
            "3       0.000000         26.0\n",
            "4       0.000000         26.0\n",
            "...          ...          ...\n",
            "69271   0.000000      41972.0\n",
            "69272   0.000000      42007.0\n",
            "69273   0.000000      41999.0\n",
            "69274   0.000000      42033.0\n",
            "69275   0.000000      42121.0\n",
            "\n",
            "[69276 rows x 2 columns]\n"
          ]
        }
      ],
      "source": [
        "# Transform the Data\n",
        "new_df[[\"close_price\"]] = encoder.fit_transform(new_df[[\"close_price\"]])\n",
        "print(new_df)"
      ]
    },
    {
      "cell_type": "code",
      "execution_count": null,
      "id": "74860feb",
      "metadata": {
        "id": "74860feb"
      },
      "outputs": [],
      "source": [
        "# import VarianceThreshold\n",
        "from sklearn.feature_selection import VarianceThreshold\n",
        "var_th = VarianceThreshold(threshold=0)   # threshold = 0 for constant"
      ]
    },
    {
      "cell_type": "code",
      "execution_count": null,
      "id": "16a274e8",
      "metadata": {
        "colab": {
          "base_uri": "https://localhost:8080/"
        },
        "id": "16a274e8",
        "outputId": "b403bd32-6b8b-420a-f166-ca5eab826069"
      },
      "outputs": [
        {
          "data": {
            "text/plain": [
              "VarianceThreshold(threshold=0)"
            ]
          },
          "execution_count": 133,
          "metadata": {},
          "output_type": "execute_result"
        }
      ],
      "source": [
        "var_th.fit(new_df)"
      ]
    },
    {
      "cell_type": "code",
      "execution_count": null,
      "id": "123b3a3e",
      "metadata": {
        "colab": {
          "base_uri": "https://localhost:8080/"
        },
        "id": "123b3a3e",
        "outputId": "6255b9e3-cee5-4fa7-b0b2-bf84ee18e46f"
      },
      "outputs": [
        {
          "name": "stdout",
          "output_type": "stream",
          "text": [
            "[2.38753762e-02 5.11510000e+04]\n"
          ]
        }
      ],
      "source": [
        "#to check the variance of different features as\n",
        "print(var_th.variances_)"
      ]
    },
    {
      "cell_type": "code",
      "execution_count": null,
      "id": "2d042625",
      "metadata": {
        "colab": {
          "base_uri": "https://localhost:8080/"
        },
        "id": "2d042625",
        "outputId": "e3c85c8b-e3db-4826-dc0f-521ef51d0fa5"
      },
      "outputs": [
        {
          "name": "stdout",
          "output_type": "stream",
          "text": [
            "[[2.78787879e-01 2.60000000e+01]\n",
            " [0.00000000e+00 2.60000000e+01]\n",
            " [0.00000000e+00 2.60000000e+01]\n",
            " ...\n",
            " [0.00000000e+00 4.19990000e+04]\n",
            " [0.00000000e+00 4.20330000e+04]\n",
            " [0.00000000e+00 4.21210000e+04]]\n"
          ]
        }
      ],
      "source": [
        "print(var_th.transform(new_df))"
      ]
    },
    {
      "cell_type": "code",
      "execution_count": null,
      "id": "a1522c6b",
      "metadata": {
        "colab": {
          "base_uri": "https://localhost:8080/"
        },
        "id": "a1522c6b",
        "outputId": "44d6fa45-541a-49f7-befd-13ec1bac1ef1"
      },
      "outputs": [
        {
          "name": "stdout",
          "output_type": "stream",
          "text": [
            " Separator \n"
          ]
        }
      ],
      "source": [
        "print('' * 10,\"Separator\",'' * 10)"
      ]
    },
    {
      "cell_type": "code",
      "execution_count": null,
      "id": "4ffd333d",
      "metadata": {
        "colab": {
          "base_uri": "https://localhost:8080/"
        },
        "id": "4ffd333d",
        "outputId": "70b898ca-7aa7-46ea-908f-d6f40abfc065"
      },
      "outputs": [
        {
          "name": "stdout",
          "output_type": "stream",
          "text": [
            "EARLIER Shape of the DATA:  (69276, 2)\n",
            "Shape after transformation:  (69276, 2)\n"
          ]
        }
      ],
      "source": [
        "# dimensions of data pre and post transformation\n",
        "print(\"EARLIER Shape of the DATA: \", new_df.shape)\n",
        "print(\"Shape after transformation: \", var_th.transform(new_df).shape)"
      ]
    },
    {
      "cell_type": "code",
      "execution_count": null,
      "id": "5gyzh8cAT0pS",
      "metadata": {
        "colab": {
          "base_uri": "https://localhost:8080/"
        },
        "id": "5gyzh8cAT0pS",
        "outputId": "1be67547-d042-42eb-94e5-e168f531e190"
      },
      "outputs": [
        {
          "data": {
            "text/plain": [
              "4.58"
            ]
          },
          "execution_count": 154,
          "metadata": {},
          "output_type": "execute_result"
        }
      ],
      "source": [
        "df.iloc[0,2]"
      ]
    },
    {
      "cell_type": "code",
      "execution_count": null,
      "id": "Zp2dnw4OoXek",
      "metadata": {
        "id": "Zp2dnw4OoXek"
      },
      "outputs": [],
      "source": [
        "df = pd.read_csv(\"final_merged_dataset.csv\")"
      ]
    },
    {
      "cell_type": "code",
      "execution_count": null,
      "id": "x05wwVTeogOE",
      "metadata": {
        "colab": {
          "base_uri": "https://localhost:8080/",
          "height": 206
        },
        "id": "x05wwVTeogOE",
        "outputId": "df230851-d2c9-43f4-94e3-3c3354add016"
      },
      "outputs": [
        {
          "data": {
            "text/html": [
              "\n",
              "  <div id=\"df-22ae81b4-ea0c-4623-8551-a1d56b85d4be\">\n",
              "    <div class=\"colab-df-container\">\n",
              "      <div>\n",
              "<style scoped>\n",
              "    .dataframe tbody tr th:only-of-type {\n",
              "        vertical-align: middle;\n",
              "    }\n",
              "\n",
              "    .dataframe tbody tr th {\n",
              "        vertical-align: top;\n",
              "    }\n",
              "\n",
              "    .dataframe thead th {\n",
              "        text-align: right;\n",
              "    }\n",
              "</style>\n",
              "<table border=\"1\" class=\"dataframe\">\n",
              "  <thead>\n",
              "    <tr style=\"text-align: right;\">\n",
              "      <th></th>\n",
              "      <th>date</th>\n",
              "      <th>sentiment</th>\n",
              "      <th>close_price</th>\n",
              "    </tr>\n",
              "  </thead>\n",
              "  <tbody>\n",
              "    <tr>\n",
              "      <th>0</th>\n",
              "      <td>2012-01-01 00:00:00</td>\n",
              "      <td>0.278788</td>\n",
              "      <td>4.58</td>\n",
              "    </tr>\n",
              "    <tr>\n",
              "      <th>1</th>\n",
              "      <td>2012-01-01 01:00:00</td>\n",
              "      <td>0.000000</td>\n",
              "      <td>4.58</td>\n",
              "    </tr>\n",
              "    <tr>\n",
              "      <th>2</th>\n",
              "      <td>2012-01-01 02:00:00</td>\n",
              "      <td>0.000000</td>\n",
              "      <td>4.58</td>\n",
              "    </tr>\n",
              "    <tr>\n",
              "      <th>3</th>\n",
              "      <td>2012-01-01 03:00:00</td>\n",
              "      <td>0.000000</td>\n",
              "      <td>4.58</td>\n",
              "    </tr>\n",
              "    <tr>\n",
              "      <th>4</th>\n",
              "      <td>2012-01-01 04:00:00</td>\n",
              "      <td>0.000000</td>\n",
              "      <td>4.58</td>\n",
              "    </tr>\n",
              "  </tbody>\n",
              "</table>\n",
              "</div>\n",
              "      <button class=\"colab-df-convert\" onclick=\"convertToInteractive('df-22ae81b4-ea0c-4623-8551-a1d56b85d4be')\"\n",
              "              title=\"Convert this dataframe to an interactive table.\"\n",
              "              style=\"display:none;\">\n",
              "        \n",
              "  <svg xmlns=\"http://www.w3.org/2000/svg\" height=\"24px\"viewBox=\"0 0 24 24\"\n",
              "       width=\"24px\">\n",
              "    <path d=\"M0 0h24v24H0V0z\" fill=\"none\"/>\n",
              "    <path d=\"M18.56 5.44l.94 2.06.94-2.06 2.06-.94-2.06-.94-.94-2.06-.94 2.06-2.06.94zm-11 1L8.5 8.5l.94-2.06 2.06-.94-2.06-.94L8.5 2.5l-.94 2.06-2.06.94zm10 10l.94 2.06.94-2.06 2.06-.94-2.06-.94-.94-2.06-.94 2.06-2.06.94z\"/><path d=\"M17.41 7.96l-1.37-1.37c-.4-.4-.92-.59-1.43-.59-.52 0-1.04.2-1.43.59L10.3 9.45l-7.72 7.72c-.78.78-.78 2.05 0 2.83L4 21.41c.39.39.9.59 1.41.59.51 0 1.02-.2 1.41-.59l7.78-7.78 2.81-2.81c.8-.78.8-2.07 0-2.86zM5.41 20L4 18.59l7.72-7.72 1.47 1.35L5.41 20z\"/>\n",
              "  </svg>\n",
              "      </button>\n",
              "      \n",
              "  <style>\n",
              "    .colab-df-container {\n",
              "      display:flex;\n",
              "      flex-wrap:wrap;\n",
              "      gap: 12px;\n",
              "    }\n",
              "\n",
              "    .colab-df-convert {\n",
              "      background-color: #E8F0FE;\n",
              "      border: none;\n",
              "      border-radius: 50%;\n",
              "      cursor: pointer;\n",
              "      display: none;\n",
              "      fill: #1967D2;\n",
              "      height: 32px;\n",
              "      padding: 0 0 0 0;\n",
              "      width: 32px;\n",
              "    }\n",
              "\n",
              "    .colab-df-convert:hover {\n",
              "      background-color: #E2EBFA;\n",
              "      box-shadow: 0px 1px 2px rgba(60, 64, 67, 0.3), 0px 1px 3px 1px rgba(60, 64, 67, 0.15);\n",
              "      fill: #174EA6;\n",
              "    }\n",
              "\n",
              "    [theme=dark] .colab-df-convert {\n",
              "      background-color: #3B4455;\n",
              "      fill: #D2E3FC;\n",
              "    }\n",
              "\n",
              "    [theme=dark] .colab-df-convert:hover {\n",
              "      background-color: #434B5C;\n",
              "      box-shadow: 0px 1px 3px 1px rgba(0, 0, 0, 0.15);\n",
              "      filter: drop-shadow(0px 1px 2px rgba(0, 0, 0, 0.3));\n",
              "      fill: #FFFFFF;\n",
              "    }\n",
              "  </style>\n",
              "\n",
              "      <script>\n",
              "        const buttonEl =\n",
              "          document.querySelector('#df-22ae81b4-ea0c-4623-8551-a1d56b85d4be button.colab-df-convert');\n",
              "        buttonEl.style.display =\n",
              "          google.colab.kernel.accessAllowed ? 'block' : 'none';\n",
              "\n",
              "        async function convertToInteractive(key) {\n",
              "          const element = document.querySelector('#df-22ae81b4-ea0c-4623-8551-a1d56b85d4be');\n",
              "          const dataTable =\n",
              "            await google.colab.kernel.invokeFunction('convertToInteractive',\n",
              "                                                     [key], {});\n",
              "          if (!dataTable) return;\n",
              "\n",
              "          const docLinkHtml = 'Like what you see? Visit the ' +\n",
              "            '<a target=\"_blank\" href=https://colab.research.google.com/notebooks/data_table.ipynb>data table notebook</a>'\n",
              "            + ' to learn more about interactive tables.';\n",
              "          element.innerHTML = '';\n",
              "          dataTable['output_type'] = 'display_data';\n",
              "          await google.colab.output.renderOutput(dataTable, element);\n",
              "          const docLink = document.createElement('div');\n",
              "          docLink.innerHTML = docLinkHtml;\n",
              "          element.appendChild(docLink);\n",
              "        }\n",
              "      </script>\n",
              "    </div>\n",
              "  </div>\n",
              "  "
            ],
            "text/plain": [
              "                  date  sentiment  close_price\n",
              "0  2012-01-01 00:00:00   0.278788         4.58\n",
              "1  2012-01-01 01:00:00   0.000000         4.58\n",
              "2  2012-01-01 02:00:00   0.000000         4.58\n",
              "3  2012-01-01 03:00:00   0.000000         4.58\n",
              "4  2012-01-01 04:00:00   0.000000         4.58"
            ]
          },
          "execution_count": 78,
          "metadata": {},
          "output_type": "execute_result"
        }
      ],
      "source": [
        "df.head(5)"
      ]
    },
    {
      "cell_type": "code",
      "execution_count": null,
      "id": "E9H_EPB-ULt7",
      "metadata": {
        "colab": {
          "base_uri": "https://localhost:8080/",
          "height": 243
        },
        "id": "E9H_EPB-ULt7",
        "outputId": "1684e8c0-67c1-42ea-a900-afa359500785"
      },
      "outputs": [
        {
          "name": "stderr",
          "output_type": "stream",
          "text": [
            "/usr/local/lib/python3.7/dist-packages/ipykernel_launcher.py:1: FutureWarning: In a future version of pandas all arguments of DataFrame.drop except for the argument 'labels' will be keyword-only\n",
            "  \"\"\"Entry point for launching an IPython kernel.\n"
          ]
        },
        {
          "data": {
            "text/html": [
              "\n",
              "  <div id=\"df-548b9f14-e224-4677-b223-5320503d36f2\">\n",
              "    <div class=\"colab-df-container\">\n",
              "      <div>\n",
              "<style scoped>\n",
              "    .dataframe tbody tr th:only-of-type {\n",
              "        vertical-align: middle;\n",
              "    }\n",
              "\n",
              "    .dataframe tbody tr th {\n",
              "        vertical-align: top;\n",
              "    }\n",
              "\n",
              "    .dataframe thead th {\n",
              "        text-align: right;\n",
              "    }\n",
              "</style>\n",
              "<table border=\"1\" class=\"dataframe\">\n",
              "  <thead>\n",
              "    <tr style=\"text-align: right;\">\n",
              "      <th></th>\n",
              "      <th>sentiment</th>\n",
              "      <th>close_price</th>\n",
              "    </tr>\n",
              "  </thead>\n",
              "  <tbody>\n",
              "    <tr>\n",
              "      <th>0</th>\n",
              "      <td>0.278788</td>\n",
              "      <td>4.58</td>\n",
              "    </tr>\n",
              "    <tr>\n",
              "      <th>1</th>\n",
              "      <td>0.000000</td>\n",
              "      <td>4.58</td>\n",
              "    </tr>\n",
              "    <tr>\n",
              "      <th>2</th>\n",
              "      <td>0.000000</td>\n",
              "      <td>4.58</td>\n",
              "    </tr>\n",
              "    <tr>\n",
              "      <th>3</th>\n",
              "      <td>0.000000</td>\n",
              "      <td>4.58</td>\n",
              "    </tr>\n",
              "    <tr>\n",
              "      <th>4</th>\n",
              "      <td>0.000000</td>\n",
              "      <td>4.58</td>\n",
              "    </tr>\n",
              "  </tbody>\n",
              "</table>\n",
              "</div>\n",
              "      <button class=\"colab-df-convert\" onclick=\"convertToInteractive('df-548b9f14-e224-4677-b223-5320503d36f2')\"\n",
              "              title=\"Convert this dataframe to an interactive table.\"\n",
              "              style=\"display:none;\">\n",
              "        \n",
              "  <svg xmlns=\"http://www.w3.org/2000/svg\" height=\"24px\"viewBox=\"0 0 24 24\"\n",
              "       width=\"24px\">\n",
              "    <path d=\"M0 0h24v24H0V0z\" fill=\"none\"/>\n",
              "    <path d=\"M18.56 5.44l.94 2.06.94-2.06 2.06-.94-2.06-.94-.94-2.06-.94 2.06-2.06.94zm-11 1L8.5 8.5l.94-2.06 2.06-.94-2.06-.94L8.5 2.5l-.94 2.06-2.06.94zm10 10l.94 2.06.94-2.06 2.06-.94-2.06-.94-.94-2.06-.94 2.06-2.06.94z\"/><path d=\"M17.41 7.96l-1.37-1.37c-.4-.4-.92-.59-1.43-.59-.52 0-1.04.2-1.43.59L10.3 9.45l-7.72 7.72c-.78.78-.78 2.05 0 2.83L4 21.41c.39.39.9.59 1.41.59.51 0 1.02-.2 1.41-.59l7.78-7.78 2.81-2.81c.8-.78.8-2.07 0-2.86zM5.41 20L4 18.59l7.72-7.72 1.47 1.35L5.41 20z\"/>\n",
              "  </svg>\n",
              "      </button>\n",
              "      \n",
              "  <style>\n",
              "    .colab-df-container {\n",
              "      display:flex;\n",
              "      flex-wrap:wrap;\n",
              "      gap: 12px;\n",
              "    }\n",
              "\n",
              "    .colab-df-convert {\n",
              "      background-color: #E8F0FE;\n",
              "      border: none;\n",
              "      border-radius: 50%;\n",
              "      cursor: pointer;\n",
              "      display: none;\n",
              "      fill: #1967D2;\n",
              "      height: 32px;\n",
              "      padding: 0 0 0 0;\n",
              "      width: 32px;\n",
              "    }\n",
              "\n",
              "    .colab-df-convert:hover {\n",
              "      background-color: #E2EBFA;\n",
              "      box-shadow: 0px 1px 2px rgba(60, 64, 67, 0.3), 0px 1px 3px 1px rgba(60, 64, 67, 0.15);\n",
              "      fill: #174EA6;\n",
              "    }\n",
              "\n",
              "    [theme=dark] .colab-df-convert {\n",
              "      background-color: #3B4455;\n",
              "      fill: #D2E3FC;\n",
              "    }\n",
              "\n",
              "    [theme=dark] .colab-df-convert:hover {\n",
              "      background-color: #434B5C;\n",
              "      box-shadow: 0px 1px 3px 1px rgba(0, 0, 0, 0.15);\n",
              "      filter: drop-shadow(0px 1px 2px rgba(0, 0, 0, 0.3));\n",
              "      fill: #FFFFFF;\n",
              "    }\n",
              "  </style>\n",
              "\n",
              "      <script>\n",
              "        const buttonEl =\n",
              "          document.querySelector('#df-548b9f14-e224-4677-b223-5320503d36f2 button.colab-df-convert');\n",
              "        buttonEl.style.display =\n",
              "          google.colab.kernel.accessAllowed ? 'block' : 'none';\n",
              "\n",
              "        async function convertToInteractive(key) {\n",
              "          const element = document.querySelector('#df-548b9f14-e224-4677-b223-5320503d36f2');\n",
              "          const dataTable =\n",
              "            await google.colab.kernel.invokeFunction('convertToInteractive',\n",
              "                                                     [key], {});\n",
              "          if (!dataTable) return;\n",
              "\n",
              "          const docLinkHtml = 'Like what you see? Visit the ' +\n",
              "            '<a target=\"_blank\" href=https://colab.research.google.com/notebooks/data_table.ipynb>data table notebook</a>'\n",
              "            + ' to learn more about interactive tables.';\n",
              "          element.innerHTML = '';\n",
              "          dataTable['output_type'] = 'display_data';\n",
              "          await google.colab.output.renderOutput(dataTable, element);\n",
              "          const docLink = document.createElement('div');\n",
              "          docLink.innerHTML = docLinkHtml;\n",
              "          element.appendChild(docLink);\n",
              "        }\n",
              "      </script>\n",
              "    </div>\n",
              "  </div>\n",
              "  "
            ],
            "text/plain": [
              "   sentiment  close_price\n",
              "0   0.278788         4.58\n",
              "1   0.000000         4.58\n",
              "2   0.000000         4.58\n",
              "3   0.000000         4.58\n",
              "4   0.000000         4.58"
            ]
          },
          "execution_count": 79,
          "metadata": {},
          "output_type": "execute_result"
        }
      ],
      "source": [
        "df = df.drop('date', 1)\n",
        "df.head(5)"
      ]
    },
    {
      "cell_type": "markdown",
      "id": "0439c4f1",
      "metadata": {
        "id": "0439c4f1"
      },
      "source": [
        "The data is analysed but it must be converted into data  with dimensions[100,1] to make it easier for CNN to train on... Else it won't select required features and the model is bound to fail"
      ]
    },
    {
      "cell_type": "code",
      "execution_count": null,
      "id": "76f5a371",
      "metadata": {
        "colab": {
          "base_uri": "https://localhost:8080/"
        },
        "id": "76f5a371",
        "outputId": "81362110-6da7-4b94-9fc7-714979171465"
      },
      "outputs": [
        {
          "name": "stdout",
          "output_type": "stream",
          "text": [
            "48421\n",
            "20753\n"
          ]
        }
      ],
      "source": [
        "A = []\n",
        "B = []\n",
        "window_size=100\n",
        "for i in range(1 , len(df) - window_size -1 , 1):\n",
        "    first = df.iloc[i,1]\n",
        "    tem1 = []\n",
        "    tem2 = []\n",
        "    for j in range(window_size):\n",
        "        tem1.append((df.iloc[i + j, 1] - first) / first)\n",
        "    tem2.append((df.iloc[i + window_size, 1] - first) / first)\n",
        "    A.append(np.array(tem1).reshape(100, 1))\n",
        "    B.append(np.array(tem2).reshape(1, 1))\n",
        "\n",
        "\n",
        "\n",
        "x_train, x_test, y_train, y_test = train_test_split(A, B, test_size=0.3, shuffle=True)\n",
        "\n",
        "new_train_X = np.array(x_train)\n",
        "new_test_X = np.array(x_test)\n",
        "new_train_Y = np.array(y_train)\n",
        "new_test_Y = np.array(y_test)\n",
        "\n",
        "new_train_X = new_train_X.reshape(new_train_X.shape[0],1,100,1)\n",
        "new_test_X = new_test_X.reshape(new_test_X.shape[0],1,100,1)\n",
        "\n",
        "print(len(new_train_X))\n",
        "print(len(new_test_X))"
      ]
    },
    {
      "cell_type": "markdown",
      "id": "232fb75f",
      "metadata": {
        "id": "232fb75f"
      },
      "source": [
        "## Training Models##\n",
        "This part has 2 subparts: 1. to train CNN and 2.to train LSTM\n",
        "\n",
        "For training CNN, we create layers with sizes 64,128,64. And in each layer, TimeDistributed function is applied for tracking features with respect to time. In between them, Pooling layers are added.\n",
        "\n",
        "Then a dense layer with 5 neurons with L1 Kernel regularizer for L1 regularization is added\n",
        "\n",
        "And then, it's forwarded to Bidirectional-LSTM layers"
      ]
    },
    {
      "cell_type": "code",
      "execution_count": null,
      "id": "20250c07",
      "metadata": {
        "colab": {
          "base_uri": "https://localhost:8080/"
        },
        "id": "20250c07",
        "outputId": "0e334b15-d2ed-49aa-c323-7a8e712786f4"
      },
      "outputs": [
        {
          "name": "stdout",
          "output_type": "stream",
          "text": [
            "Num GPUs Available:  1\n"
          ]
        }
      ],
      "source": [
        "import tensorflow as tf\n",
        "print(\"Num GPUs Available: \", len(tf.config.list_physical_devices('GPU')))"
      ]
    },
    {
      "cell_type": "code",
      "execution_count": null,
      "id": "80bd0e98",
      "metadata": {
        "colab": {
          "base_uri": "https://localhost:8080/"
        },
        "id": "80bd0e98",
        "outputId": "b9718c84-bdc2-4a94-f279-bb11d8346436"
      },
      "outputs": [
        {
          "name": "stdout",
          "output_type": "stream",
          "text": [
            "Epoch 1/40\n",
            "1211/1211 [==============================] - 41s 20ms/step - loss: 0.0012 - mse: 0.0012 - mae: 0.0205 - mape: 26055.5898 - val_loss: 0.0012 - val_mse: 0.0012 - val_mae: 0.0224 - val_mape: 20759.6445\n",
            "Epoch 2/40\n",
            "1211/1211 [==============================] - 22s 18ms/step - loss: 9.0867e-04 - mse: 9.0867e-04 - mae: 0.0182 - mape: 21572.2070 - val_loss: 8.9321e-04 - val_mse: 8.9321e-04 - val_mae: 0.0172 - val_mape: 17051.0430\n",
            "Epoch 3/40\n",
            "1211/1211 [==============================] - 23s 19ms/step - loss: 8.6538e-04 - mse: 8.6538e-04 - mae: 0.0178 - mape: 22105.6328 - val_loss: 7.8340e-04 - val_mse: 7.8340e-04 - val_mae: 0.0166 - val_mape: 17900.0449\n",
            "Epoch 4/40\n",
            "1211/1211 [==============================] - 22s 18ms/step - loss: 8.6136e-04 - mse: 8.6136e-04 - mae: 0.0178 - mape: 22753.3730 - val_loss: 7.2109e-04 - val_mse: 7.2109e-04 - val_mae: 0.0156 - val_mape: 17470.5352\n",
            "Epoch 5/40\n",
            "1211/1211 [==============================] - 22s 18ms/step - loss: 8.1226e-04 - mse: 8.1226e-04 - mae: 0.0172 - mape: 21201.4688 - val_loss: 6.7939e-04 - val_mse: 6.7939e-04 - val_mae: 0.0149 - val_mape: 15488.2158\n",
            "Epoch 6/40\n",
            "1211/1211 [==============================] - 22s 19ms/step - loss: 8.2487e-04 - mse: 8.2487e-04 - mae: 0.0173 - mape: 21619.5762 - val_loss: 6.8125e-04 - val_mse: 6.8125e-04 - val_mae: 0.0150 - val_mape: 14213.1436\n",
            "Epoch 7/40\n",
            "1211/1211 [==============================] - 23s 19ms/step - loss: 8.0075e-04 - mse: 8.0075e-04 - mae: 0.0171 - mape: 19808.5977 - val_loss: 6.7823e-04 - val_mse: 6.7823e-04 - val_mae: 0.0150 - val_mape: 15963.8193\n",
            "Epoch 8/40\n",
            "1211/1211 [==============================] - 23s 19ms/step - loss: 8.3366e-04 - mse: 8.3366e-04 - mae: 0.0175 - mape: 20891.8438 - val_loss: 7.1610e-04 - val_mse: 7.1610e-04 - val_mae: 0.0158 - val_mape: 15545.5439\n",
            "Epoch 9/40\n",
            "1211/1211 [==============================] - 22s 18ms/step - loss: 7.8780e-04 - mse: 7.8780e-04 - mae: 0.0170 - mape: 21517.8965 - val_loss: 6.2646e-04 - val_mse: 6.2646e-04 - val_mae: 0.0142 - val_mape: 15329.1592\n",
            "Epoch 10/40\n",
            "1211/1211 [==============================] - 22s 18ms/step - loss: 7.5680e-04 - mse: 7.5680e-04 - mae: 0.0168 - mape: 20222.1387 - val_loss: 7.0352e-04 - val_mse: 7.0352e-04 - val_mae: 0.0152 - val_mape: 16531.0977\n",
            "Epoch 11/40\n",
            "1211/1211 [==============================] - 22s 18ms/step - loss: 7.8197e-04 - mse: 7.8197e-04 - mae: 0.0171 - mape: 21300.4316 - val_loss: 7.6650e-04 - val_mse: 7.6650e-04 - val_mae: 0.0169 - val_mape: 13018.7686\n",
            "Epoch 12/40\n",
            "1211/1211 [==============================] - 22s 19ms/step - loss: 7.7127e-04 - mse: 7.7127e-04 - mae: 0.0169 - mape: 22314.3613 - val_loss: 6.4895e-04 - val_mse: 6.4895e-04 - val_mae: 0.0145 - val_mape: 14044.0371\n",
            "Epoch 13/40\n",
            "1211/1211 [==============================] - 22s 18ms/step - loss: 7.4327e-04 - mse: 7.4327e-04 - mae: 0.0166 - mape: 19822.9668 - val_loss: 6.0449e-04 - val_mse: 6.0449e-04 - val_mae: 0.0142 - val_mape: 14317.5332\n",
            "Epoch 14/40\n",
            "1211/1211 [==============================] - 22s 18ms/step - loss: 7.3902e-04 - mse: 7.3902e-04 - mae: 0.0165 - mape: 18866.5625 - val_loss: 6.1317e-04 - val_mse: 6.1317e-04 - val_mae: 0.0141 - val_mape: 14912.8389\n",
            "Epoch 15/40\n",
            "1211/1211 [==============================] - 22s 18ms/step - loss: 7.5095e-04 - mse: 7.5095e-04 - mae: 0.0167 - mape: 19915.7031 - val_loss: 6.5616e-04 - val_mse: 6.5616e-04 - val_mae: 0.0162 - val_mape: 21975.1406\n",
            "Epoch 16/40\n",
            "1211/1211 [==============================] - 22s 18ms/step - loss: 7.1558e-04 - mse: 7.1558e-04 - mae: 0.0163 - mape: 20906.9277 - val_loss: 5.8839e-04 - val_mse: 5.8839e-04 - val_mae: 0.0142 - val_mape: 15409.8359\n",
            "Epoch 17/40\n",
            "1211/1211 [==============================] - 22s 18ms/step - loss: 7.3024e-04 - mse: 7.3024e-04 - mae: 0.0166 - mape: 23081.9609 - val_loss: 6.0587e-04 - val_mse: 6.0587e-04 - val_mae: 0.0145 - val_mape: 15463.1006\n",
            "Epoch 18/40\n",
            "1211/1211 [==============================] - 22s 18ms/step - loss: 7.6925e-04 - mse: 7.6925e-04 - mae: 0.0167 - mape: 19923.5957 - val_loss: 9.4433e-04 - val_mse: 9.4433e-04 - val_mae: 0.0184 - val_mape: 12362.4756\n",
            "Epoch 19/40\n",
            "1211/1211 [==============================] - 22s 18ms/step - loss: 7.2371e-04 - mse: 7.2371e-04 - mae: 0.0166 - mape: 22015.9570 - val_loss: 6.5278e-04 - val_mse: 6.5278e-04 - val_mae: 0.0151 - val_mape: 12503.8330\n",
            "Epoch 20/40\n",
            "1211/1211 [==============================] - 22s 18ms/step - loss: 6.9838e-04 - mse: 6.9838e-04 - mae: 0.0162 - mape: 21413.9023 - val_loss: 6.0244e-04 - val_mse: 6.0244e-04 - val_mae: 0.0144 - val_mape: 14942.6953\n",
            "Epoch 21/40\n",
            "1211/1211 [==============================] - 22s 18ms/step - loss: 7.0877e-04 - mse: 7.0877e-04 - mae: 0.0162 - mape: 21551.2949 - val_loss: 5.9642e-04 - val_mse: 5.9642e-04 - val_mae: 0.0141 - val_mape: 14072.5938\n",
            "Epoch 22/40\n",
            "1211/1211 [==============================] - 24s 20ms/step - loss: 7.3758e-04 - mse: 7.3758e-04 - mae: 0.0165 - mape: 18942.4277 - val_loss: 6.0253e-04 - val_mse: 6.0253e-04 - val_mae: 0.0146 - val_mape: 16896.8535\n",
            "Epoch 23/40\n",
            "1211/1211 [==============================] - 22s 18ms/step - loss: 7.1027e-04 - mse: 7.1027e-04 - mae: 0.0165 - mape: 22690.3789 - val_loss: 6.0067e-04 - val_mse: 6.0067e-04 - val_mae: 0.0141 - val_mape: 14385.2607\n",
            "Epoch 24/40\n",
            "1211/1211 [==============================] - 22s 18ms/step - loss: 7.0910e-04 - mse: 7.0910e-04 - mae: 0.0163 - mape: 20380.3145 - val_loss: 6.0614e-04 - val_mse: 6.0614e-04 - val_mae: 0.0145 - val_mape: 15411.4258\n",
            "Epoch 25/40\n",
            "1211/1211 [==============================] - 22s 18ms/step - loss: 7.2329e-04 - mse: 7.2329e-04 - mae: 0.0164 - mape: 21057.0176 - val_loss: 6.5875e-04 - val_mse: 6.5875e-04 - val_mae: 0.0163 - val_mape: 20682.1172\n",
            "Epoch 26/40\n",
            "1211/1211 [==============================] - 22s 18ms/step - loss: 6.9627e-04 - mse: 6.9627e-04 - mae: 0.0163 - mape: 19716.6699 - val_loss: 6.3686e-04 - val_mse: 6.3686e-04 - val_mae: 0.0161 - val_mape: 20983.0312\n",
            "Epoch 27/40\n",
            "1211/1211 [==============================] - 22s 18ms/step - loss: 6.9080e-04 - mse: 6.9080e-04 - mae: 0.0162 - mape: 19525.8789 - val_loss: 5.8012e-04 - val_mse: 5.8012e-04 - val_mae: 0.0139 - val_mape: 14364.9580\n",
            "Epoch 28/40\n",
            "1211/1211 [==============================] - 22s 18ms/step - loss: 6.9736e-04 - mse: 6.9736e-04 - mae: 0.0162 - mape: 21697.3359 - val_loss: 8.5420e-04 - val_mse: 8.5420e-04 - val_mae: 0.0215 - val_mape: 31795.9824\n",
            "Epoch 29/40\n",
            "1211/1211 [==============================] - 22s 18ms/step - loss: 6.8639e-04 - mse: 6.8639e-04 - mae: 0.0161 - mape: 20632.3301 - val_loss: 5.6666e-04 - val_mse: 5.6666e-04 - val_mae: 0.0140 - val_mape: 15267.3262\n",
            "Epoch 30/40\n",
            "1211/1211 [==============================] - 22s 18ms/step - loss: 6.7844e-04 - mse: 6.7844e-04 - mae: 0.0162 - mape: 19738.0352 - val_loss: 5.8780e-04 - val_mse: 5.8780e-04 - val_mae: 0.0147 - val_mape: 15571.2061\n",
            "Epoch 31/40\n",
            "1211/1211 [==============================] - 22s 18ms/step - loss: 6.8643e-04 - mse: 6.8643e-04 - mae: 0.0161 - mape: 19054.4199 - val_loss: 6.4256e-04 - val_mse: 6.4256e-04 - val_mae: 0.0166 - val_mape: 19113.5684\n",
            "Epoch 32/40\n",
            "1211/1211 [==============================] - 22s 18ms/step - loss: 6.9744e-04 - mse: 6.9744e-04 - mae: 0.0162 - mape: 19611.4492 - val_loss: 5.7034e-04 - val_mse: 5.7034e-04 - val_mae: 0.0139 - val_mape: 15092.6621\n",
            "Epoch 33/40\n",
            "1211/1211 [==============================] - 22s 18ms/step - loss: 6.8643e-04 - mse: 6.8643e-04 - mae: 0.0162 - mape: 21109.2695 - val_loss: 5.8702e-04 - val_mse: 5.8702e-04 - val_mae: 0.0153 - val_mape: 20898.8750\n",
            "Epoch 34/40\n",
            "1211/1211 [==============================] - 22s 18ms/step - loss: 6.8863e-04 - mse: 6.8863e-04 - mae: 0.0161 - mape: 18867.6621 - val_loss: 5.8054e-04 - val_mse: 5.8054e-04 - val_mae: 0.0141 - val_mape: 14978.6152\n",
            "Epoch 35/40\n",
            "1211/1211 [==============================] - 24s 20ms/step - loss: 6.9109e-04 - mse: 6.9109e-04 - mae: 0.0162 - mape: 19682.0371 - val_loss: 5.7399e-04 - val_mse: 5.7399e-04 - val_mae: 0.0140 - val_mape: 15300.2422\n",
            "Epoch 36/40\n",
            "1211/1211 [==============================] - 22s 18ms/step - loss: 6.6797e-04 - mse: 6.6797e-04 - mae: 0.0160 - mape: 17991.7148 - val_loss: 6.3538e-04 - val_mse: 6.3538e-04 - val_mae: 0.0159 - val_mape: 19058.2656\n",
            "Epoch 37/40\n",
            "1211/1211 [==============================] - 22s 18ms/step - loss: 6.7711e-04 - mse: 6.7711e-04 - mae: 0.0160 - mape: 19330.9941 - val_loss: 5.7489e-04 - val_mse: 5.7489e-04 - val_mae: 0.0142 - val_mape: 15832.1172\n",
            "Epoch 38/40\n",
            "1211/1211 [==============================] - 23s 19ms/step - loss: 6.6279e-04 - mse: 6.6279e-04 - mae: 0.0159 - mape: 22924.2266 - val_loss: 5.4927e-04 - val_mse: 5.4927e-04 - val_mae: 0.0139 - val_mape: 16090.4199\n",
            "Epoch 39/40\n",
            "1211/1211 [==============================] - 23s 19ms/step - loss: 6.4790e-04 - mse: 6.4790e-04 - mae: 0.0159 - mape: 21501.8555 - val_loss: 6.4883e-04 - val_mse: 6.4883e-04 - val_mae: 0.0160 - val_mape: 15297.9707\n",
            "Epoch 40/40\n",
            "1211/1211 [==============================] - 23s 19ms/step - loss: 6.7273e-04 - mse: 6.7273e-04 - mae: 0.0159 - mape: 20885.7773 - val_loss: 6.0775e-04 - val_mse: 6.0775e-04 - val_mae: 0.0158 - val_mape: 18496.6855\n"
          ]
        }
      ],
      "source": [
        "#  create model and train it\n",
        "import tensorflow as tf\n",
        "from tensorflow.keras.layers import Conv1D, LSTM, Dense, Dropout, Bidirectional, TimeDistributed\n",
        "from tensorflow.keras.layers import MaxPooling1D, Flatten\n",
        "from tensorflow.keras.regularizers import L1, L2\n",
        "from tensorflow.keras.metrics import Accuracy\n",
        "from tensorflow.keras.metrics import RootMeanSquaredError\n",
        "\n",
        "model = tf.keras.Sequential()\n",
        "\n",
        "# Creating the Neural Network model here...\n",
        "model.add(TimeDistributed(Conv1D(64, kernel_size=1, activation='relu', input_shape=(None, 100, 1))))\n",
        "model.add(TimeDistributed(MaxPooling1D(2)))\n",
        "model.add(TimeDistributed(Conv1D(128, kernel_size=1, activation='relu')))\n",
        "model.add(TimeDistributed(MaxPooling1D(2)))\n",
        "model.add(TimeDistributed(Conv1D(64, kernel_size=1, activation='relu')))\n",
        "model.add(TimeDistributed(MaxPooling1D(2)))\n",
        "model.add(TimeDistributed(Flatten()))\n",
        "# model.add(Dense(5, kernel_regularizer=L2(0.01)))\n",
        "model.add(Bidirectional(LSTM(100, return_sequences=True)))\n",
        "model.add(Dropout(0.25))\n",
        "model.add(Bidirectional(LSTM(100, return_sequences=False)))\n",
        "model.add(Dropout(0.5))\n",
        "model.add(Dense(1, activation='linear'))\n",
        "model.compile(optimizer='adam', loss='mse', metrics=['mse', 'mae', 'mape'])\n",
        "\n",
        "history = model.fit(new_train_X, new_train_Y, validation_data=(new_test_X,new_test_Y), epochs=40,batch_size=40, verbose=1, shuffle =True)\n"
      ]
    },
    {
      "cell_type": "code",
      "execution_count": null,
      "id": "0cfa4019",
      "metadata": {
        "colab": {
          "base_uri": "https://localhost:8080/",
          "height": 300
        },
        "id": "0cfa4019",
        "outputId": "f6e34df0-561f-4982-de88-e7d97f800e8e"
      },
      "outputs": [
        {
          "data": {
            "text/plain": [
              "<matplotlib.legend.Legend at 0x7f13ee19ea90>"
            ]
          },
          "execution_count": 83,
          "metadata": {},
          "output_type": "execute_result"
        },
        {
          "data": {
            "image/png": "[encoded data removed]",
            "text/plain": [
              "<Figure size 432x288 with 1 Axes>"
            ]
          },
          "metadata": {
            "needs_background": "light"
          },
          "output_type": "display_data"
        }
      ],
      "source": [
        "plt.plot(history.history['loss'], label='train loss')\n",
        "plt.plot(history.history['val_loss'], label='val loss')\n",
        "plt.xlabel(\"epoch\")\n",
        "plt.ylabel(\"Loss\")\n",
        "plt.legend()"
      ]
    },
    {
      "cell_type": "code",
      "execution_count": null,
      "id": "o84pziGZu05Y",
      "metadata": {
        "colab": {
          "base_uri": "https://localhost:8080/"
        },
        "id": "o84pziGZu05Y",
        "outputId": "bd41f826-7404-4c7e-ac6a-18d2a158db10"
      },
      "outputs": [
        {
          "name": "stdout",
          "output_type": "stream",
          "text": [
            "MSE = 0.0006727268919348717\n",
            "MAE = 0.015938235446810722\n",
            "MAPE = 20885.77734375\n"
          ]
        }
      ],
      "source": [
        "print(\"MSE = \" + str(history.history['mse'][39]))\n",
        "print(\"MAE = \" + str(history.history['mae'][39]))\n",
        "print(\"MAPE = \" + str(history.history[\"mape\"][39]))"
      ]
    },
    {
      "cell_type": "code",
      "execution_count": null,
      "id": "Se64vhA1A3zS",
      "metadata": {
        "colab": {
          "base_uri": "https://localhost:8080/",
          "height": 300
        },
        "id": "Se64vhA1A3zS",
        "outputId": "14870d93-9124-481f-eaf0-7905ca0fd072"
      },
      "outputs": [
        {
          "data": {
            "text/plain": [
              "<matplotlib.legend.Legend at 0x7f13c5383390>"
            ]
          },
          "execution_count": 84,
          "metadata": {},
          "output_type": "execute_result"
        },
        {
          "data": {
            "image/png": "[encoded data removed]",
            "text/plain": [
              "<Figure size 432x288 with 1 Axes>"
            ]
          },
          "metadata": {
            "needs_background": "light"
          },
          "output_type": "display_data"
        }
      ],
      "source": [
        "plt.plot(history.history['mse'], label='train mse')\n",
        "plt.plot(history.history['val_mse'], label='val mse')\n",
        "plt.xlabel(\"epoch\")\n",
        "plt.ylabel(\"Loss\")\n",
        "plt.legend()"
      ]
    },
    {
      "cell_type": "code",
      "execution_count": null,
      "id": "Y_ncolDEDWFm",
      "metadata": {
        "colab": {
          "base_uri": "https://localhost:8080/",
          "height": 300
        },
        "id": "Y_ncolDEDWFm",
        "outputId": "6f24be06-4730-4e9f-bccd-fe7807e6398d"
      },
      "outputs": [
        {
          "data": {
            "text/plain": [
              "<matplotlib.legend.Legend at 0x7f2362fc86d0>"
            ]
          },
          "execution_count": 164,
          "metadata": {},
          "output_type": "execute_result"
        },
        {
          "data": {
            "image/png": "[encoded data removed]",
            "text/plain": [
              "<Figure size 432x288 with 1 Axes>"
            ]
          },
          "metadata": {
            "needs_background": "light"
          },
          "output_type": "display_data"
        }
      ],
      "source": [
        "plt.plot(history.history['mae'], label='train mae')\n",
        "plt.plot(history.history['val_mae'], label='val mae')\n",
        "plt.xlabel(\"epoch\")\n",
        "plt.ylabel(\"Loss\")\n",
        "plt.legend()"
      ]
    },
    {
      "cell_type": "code",
      "execution_count": null,
      "id": "EvZ0bzHfDos7",
      "metadata": {
        "colab": {
          "base_uri": "https://localhost:8080/",
          "height": 300
        },
        "id": "EvZ0bzHfDos7",
        "outputId": "19b41c2d-7f07-4283-9473-907169033c19"
      },
      "outputs": [
        {
          "data": {
            "text/plain": [
              "<matplotlib.legend.Legend at 0x7f23630be190>"
            ]
          },
          "execution_count": 165,
          "metadata": {},
          "output_type": "execute_result"
        },
        {
          "data": {
            "image/png": "[encoded data removed]",
            "text/plain": [
              "<Figure size 432x288 with 1 Axes>"
            ]
          },
          "metadata": {
            "needs_background": "light"
          },
          "output_type": "display_data"
        }
      ],
      "source": [
        "plt.plot(history.history['mape'], label='train mape')\n",
        "plt.plot(history.history['val_mape'], label='val mape')\n",
        "plt.xlabel(\"epoch\")\n",
        "plt.ylabel(\"Loss\")\n",
        "plt.legend()"
      ]
    },
    {
      "cell_type": "code",
      "execution_count": null,
      "id": "ZHAjdT9rDw2l",
      "metadata": {
        "colab": {
          "base_uri": "https://localhost:8080/",
          "height": 1000
        },
        "id": "ZHAjdT9rDw2l",
        "outputId": "3a031deb-553d-4d6a-d8bc-e94dfb023556"
      },
      "outputs": [
        {
          "name": "stdout",
          "output_type": "stream",
          "text": [
            "Model: \"sequential_1\"\n",
            "_________________________________________________________________\n",
            " Layer (type)                Output Shape              Param #   \n",
            "=================================================================\n",
            " time_distributed (TimeDistr  (None, 1, 100, 64)       128       \n",
            " ibuted)                                                         \n",
            "                                                                 \n",
            " time_distributed_1 (TimeDis  (None, 1, 50, 64)        0         \n",
            " tributed)                                                       \n",
            "                                                                 \n",
            " time_distributed_2 (TimeDis  (None, 1, 50, 128)       8320      \n",
            " tributed)                                                       \n",
            "                                                                 \n",
            " time_distributed_3 (TimeDis  (None, 1, 25, 128)       0         \n",
            " tributed)                                                       \n",
            "                                                                 \n",
            " time_distributed_4 (TimeDis  (None, 1, 25, 64)        8256      \n",
            " tributed)                                                       \n",
            "                                                                 \n",
            " time_distributed_5 (TimeDis  (None, 1, 12, 64)        0         \n",
            " tributed)                                                       \n",
            "                                                                 \n",
            " time_distributed_6 (TimeDis  (None, 1, 768)           0         \n",
            " tributed)                                                       \n",
            "                                                                 \n",
            " bidirectional_1 (Bidirectio  (None, 1, 200)           695200    \n",
            " nal)                                                            \n",
            "                                                                 \n",
            " dropout_1 (Dropout)         (None, 1, 200)            0         \n",
            "                                                                 \n",
            " bidirectional_2 (Bidirectio  (None, 200)              240800    \n",
            " nal)                                                            \n",
            "                                                                 \n",
            " dropout_2 (Dropout)         (None, 200)               0         \n",
            "                                                                 \n",
            " dense_1 (Dense)             (None, 1)                 201       \n",
            "                                                                 \n",
            "=================================================================\n",
            "Total params: 952,905\n",
            "Trainable params: 952,905\n",
            "Non-trainable params: 0\n",
            "_________________________________________________________________\n",
            "None\n"
          ]
        },
        {
          "data": {
            "image/png": "[encoded data removed]",
            "text/plain": [
              "<IPython.core.display.Image object>"
            ]
          },
          "execution_count": 87,
          "metadata": {},
          "output_type": "execute_result"
        }
      ],
      "source": [
        "# After the model has been constructed, we need to train\n",
        "from tensorflow.keras.utils import plot_model\n",
        "print(model.summary())\n",
        "plot_model(model, to_file='model.png', show_shapes=True, show_layer_names=True)"
      ]
    },
    {
      "cell_type": "code",
      "execution_count": null,
      "id": "pH5ZQe5yEKzL",
      "metadata": {
        "colab": {
          "base_uri": "https://localhost:8080/"
        },
        "id": "pH5ZQe5yEKzL",
        "outputId": "d5b6684e-959d-4bc2-9052-39cb959d4475"
      },
      "outputs": [
        {
          "name": "stdout",
          "output_type": "stream",
          "text": [
            "649/649 [==============================] - 5s 7ms/step - loss: 65054832.0000 - mse: 65054832.0000 - mae: 7418.2363 - mape: 100.0000\n"
          ]
        },
        {
          "data": {
            "text/plain": [
              "[65054832.0, 65054832.0, 7418.236328125, 100.00001525878906]"
            ]
          },
          "execution_count": 86,
          "metadata": {},
          "output_type": "execute_result"
        }
      ],
      "source": [
        "model.evaluate(new_test_X, new_test_Y)"
      ]
    },
    {
      "cell_type": "code",
      "execution_count": null,
      "id": "QhaZnev2Ecm8",
      "metadata": {
        "colab": {
          "base_uri": "https://localhost:8080/",
          "height": 299
        },
        "id": "QhaZnev2Ecm8",
        "outputId": "56947dc9-1c31-47f4-ea1d-f2c9f1e3b2cf"
      },
      "outputs": [
        {
          "data": {
            "image/png": "[encoded data removed]",
            "text/plain": [
              "<Figure size 432x288 with 1 Axes>"
            ]
          },
          "metadata": {
            "needs_background": "light"
          },
          "output_type": "display_data"
        }
      ],
      "source": [
        "predicted  = model.predict(new_test_X)\n",
        "test_label = new_test_Y.reshape(-1,1)\n",
        "predicted = np.array(predicted[:,0]).reshape(-1,1)\n",
        "len_t = len(new_train_X)\n",
        "for j in range(len_t , len_t + len(new_test_X)):\n",
        "    temp = df.iloc[j,1]\n",
        "    test_label[j - len_t] = test_label[j - len_t] * temp + temp\n",
        "    predicted[j - len_t] = predicted[j - len_t] * temp + temp"
      ]
    },
    {
      "cell_type": "code",
      "execution_count": null,
      "id": "aRptzj8puar-",
      "metadata": {
        "colab": {
          "base_uri": "https://localhost:8080/",
          "height": 517
        },
        "id": "aRptzj8puar-",
        "outputId": "94516a0a-dcfd-4960-f9c3-6b2050475d49"
      },
      "outputs": [
        {
          "data": {
            "image/png": "[encoded data removed]",
            "text/plain": [
              "<Figure size 1152x576 with 1 Axes>"
            ]
          },
          "metadata": {
            "needs_background": "light"
          },
          "output_type": "display_data"
        }
      ],
      "source": [
        "plt.figure(figsize=(16,8))\n",
        "plt.plot(predicted, color = 'green', label = 'Predicted  Bitcoin Price')\n",
        "plt.plot(test_label, color = 'red', label = 'Actual Bitcoin Price')\n",
        "plt.title('Bitcoin Price Prediction')\n",
        "plt.xlabel('Hours')\n",
        "plt.ylabel('Bitcoin Price (USD)')\n",
        "plt.legend()\n",
        "plt.show()"
      ]
    },
    {
      "cell_type": "code",
      "execution_count": null,
      "id": "62HskFR-cN4C",
      "metadata": {
        "colab": {
          "base_uri": "https://localhost:8080/"
        },
        "id": "62HskFR-cN4C",
        "outputId": "0a1e14e7-071d-483f-e128-c2b37e049c38"
      },
      "outputs": [
        {
          "data": {
            "text/plain": [
              "20753"
            ]
          },
          "execution_count": 150,
          "metadata": {},
          "output_type": "execute_result"
        }
      ],
      "source": [
        "len(predicted)"
      ]
    },
    {
      "cell_type": "code",
      "execution_count": null,
      "id": "b0DTBN131GvU",
      "metadata": {
        "colab": {
          "base_uri": "https://localhost:8080/"
        },
        "id": "b0DTBN131GvU",
        "outputId": "0033f831-35e3-45cf-cdf8-eb55e1fb133a"
      },
      "outputs": [
        {
          "name": "stdout",
          "output_type": "stream",
          "text": [
            "[[0.00029981]\n",
            " [0.00018181]\n",
            " [0.0002283 ]\n",
            " ...\n",
            " [0.        ]\n",
            " [0.        ]\n",
            " [0.        ]]\n"
          ]
        }
      ],
      "source": [
        "print(predicted)"
      ]
    }
  ],
  "metadata": {
    "accelerator": "GPU",
    "colab": {
      "collapsed_sections": [],
      "name": "CA683_Version_2.ipynb",
      "provenance": []
    },
    "kernelspec": {
      "display_name": "Python 3",
      "language": "python",
      "name": "python3"
    },
    "language_info": {
      "codemirror_mode": {
        "name": "ipython",
        "version": 3
      },
      "file_extension": ".py",
      "mimetype": "text/x-python",
      "name": "python",
      "nbconvert_exporter": "python",
      "pygments_lexer": "ipython3",
      "version": "3.8.10"
    }
  },
  "nbformat": 4,
  "nbformat_minor": 5
}
